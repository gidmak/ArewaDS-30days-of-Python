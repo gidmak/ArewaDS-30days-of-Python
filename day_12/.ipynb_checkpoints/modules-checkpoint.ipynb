{
 "cells": [
  {
   "cell_type": "markdown",
   "id": "79175fad",
   "metadata": {},
   "source": [
    "### Day 12 of 30 Days of Python"
   ]
  },
  {
   "cell_type": "markdown",
   "id": "693d3c6e",
   "metadata": {},
   "source": [
    "#### Exercises: Level 1"
   ]
  },
  {
   "cell_type": "code",
   "execution_count": 12,
   "id": "092eb99b",
   "metadata": {},
   "outputs": [
    {
     "name": "stdout",
     "output_type": "stream",
     "text": [
      "Random User ID: sYq7rF\n"
     ]
    }
   ],
   "source": [
    "#Write a function which generates a six digit/character random_user_id\n",
    "import secrets\n",
    "import string\n",
    "\n",
    "def generate_random_user_id():\n",
    "    # Generate a random six-character string with digits and letters\n",
    "    characters = string.digits + string.ascii_letters\n",
    "    random_id = ''.join(secrets.choice(characters) for _ in range(6))\n",
    "    return random_id\n",
    "\n",
    "# Example usage\n",
    "random_user_id = generate_random_user_id()\n",
    "print(\"Random User ID:\", random_user_id)\n"
   ]
  },
  {
   "cell_type": "code",
   "execution_count": 15,
   "id": "383a98e6",
   "metadata": {},
   "outputs": [
    {
     "name": "stdout",
     "output_type": "stream",
     "text": [
      "Enter the number of characters for each ID: 16\n",
      "Enter the number of IDs to generate: 4\n",
      "Random User ID: 9B05771VpPkgWh1x\n",
      "Random User ID: FLCYagcxLDU9sM2W\n",
      "Random User ID: PuXjNCyG9MXLlOwR\n",
      "Random User ID: Dgn37KyPnNSsWq1o\n"
     ]
    }
   ],
   "source": [
    "# Modify the previous task. Declare a function named user_id_gen_by_user. It doesn’t take any parameters but it takes two \n",
    "# inputs using input(). One of the inputs is the number of characters and the second input is the number of IDs which \n",
    "# are supposed to be generated.\n",
    "\n",
    "import secrets\n",
    "import string\n",
    "\n",
    "def user_id_gen_by_user():\n",
    "    try:\n",
    "        # Get user input for the number of characters and number of IDs\n",
    "        num_characters = int(input(\"Enter the number of characters for each ID: \"))\n",
    "        num_ids = int(input(\"Enter the number of IDs to generate: \"))\n",
    "        \n",
    "        # Check if inputs are valid\n",
    "        if num_characters <= 0 or num_ids <= 0:\n",
    "            print(\"Invalid input. Please enter positive integers.\")\n",
    "            return\n",
    "\n",
    "        # Generate user IDs\n",
    "        for _ in range(num_ids):\n",
    "            characters = string.digits + string.ascii_letters\n",
    "            random_id = ''.join(secrets.choice(characters) for _ in range(num_characters))\n",
    "            print(\"Random User ID:\", random_id)\n",
    "\n",
    "    except ValueError:\n",
    "        print(\"Invalid input. Please enter valid integers.\")\n",
    "\n",
    "# Function call\n",
    "user_id_gen_by_user()\n"
   ]
  },
  {
   "cell_type": "code",
   "execution_count": null,
   "id": "85f240c9",
   "metadata": {},
   "outputs": [],
   "source": []
  }
 ],
 "metadata": {
  "kernelspec": {
   "display_name": "Python 3 (ipykernel)",
   "language": "python",
   "name": "python3"
  },
  "language_info": {
   "codemirror_mode": {
    "name": "ipython",
    "version": 3
   },
   "file_extension": ".py",
   "mimetype": "text/x-python",
   "name": "python",
   "nbconvert_exporter": "python",
   "pygments_lexer": "ipython3",
   "version": "3.9.13"
  }
 },
 "nbformat": 4,
 "nbformat_minor": 5
}
