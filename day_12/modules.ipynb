{
 "cells": [
  {
   "cell_type": "markdown",
   "id": "1f996752",
   "metadata": {},
   "source": [
    "### Day 12 of 30 Days of Python"
   ]
  },
  {
   "cell_type": "markdown",
   "id": "b540287c",
   "metadata": {},
   "source": [
    "#### Exercises: Level 1"
   ]
  },
  {
   "cell_type": "code",
   "execution_count": 12,
   "id": "6b47087c",
   "metadata": {},
   "outputs": [
    {
     "name": "stdout",
     "output_type": "stream",
     "text": [
      "Random User ID: sYq7rF\n"
     ]
    }
   ],
   "source": [
    "#Write a function which generates a six digit/character random_user_id\n",
    "import secrets\n",
    "import string\n",
    "\n",
    "def generate_random_user_id():\n",
    "    # Generate a random six-character string with digits and letters\n",
    "    characters = string.digits + string.ascii_letters\n",
    "    random_id = ''.join(secrets.choice(characters) for _ in range(6))\n",
    "    return random_id\n",
    "\n",
    "# Example usage\n",
    "random_user_id = generate_random_user_id()\n",
    "print(\"Random User ID:\", random_user_id)\n"
   ]
  },
  {
   "cell_type": "code",
   "execution_count": 15,
   "id": "10cf6e54",
   "metadata": {},
   "outputs": [
    {
     "name": "stdout",
     "output_type": "stream",
     "text": [
      "Enter the number of characters for each ID: 16\n",
      "Enter the number of IDs to generate: 4\n",
      "Random User ID: 9B05771VpPkgWh1x\n",
      "Random User ID: FLCYagcxLDU9sM2W\n",
      "Random User ID: PuXjNCyG9MXLlOwR\n",
      "Random User ID: Dgn37KyPnNSsWq1o\n"
     ]
    }
   ],
   "source": [
    "# Modify the previous task. Declare a function named user_id_gen_by_user. It doesn’t take any parameters but it takes two \n",
    "# inputs using input(). One of the inputs is the number of characters and the second input is the number of IDs which \n",
    "# are supposed to be generated.\n",
    "\n",
    "import secrets\n",
    "import string\n",
    "\n",
    "def user_id_gen_by_user():\n",
    "    try:\n",
    "        # Get user input for the number of characters and number of IDs\n",
    "        num_characters = int(input(\"Enter the number of characters for each ID: \"))\n",
    "        num_ids = int(input(\"Enter the number of IDs to generate: \"))\n",
    "        \n",
    "        # Check if inputs are valid\n",
    "        if num_characters <= 0 or num_ids <= 0:\n",
    "            print(\"Invalid input. Please enter positive integers.\")\n",
    "            return\n",
    "\n",
    "        # Generate user IDs\n",
    "        for _ in range(num_ids):\n",
    "            characters = string.digits + string.ascii_letters\n",
    "            random_id = ''.join(secrets.choice(characters) for _ in range(num_characters))\n",
    "            print(\"Random User ID:\", random_id)\n",
    "\n",
    "    except ValueError:\n",
    "        print(\"Invalid input. Please enter valid integers.\")\n",
    "\n",
    "# Function call\n",
    "user_id_gen_by_user()"
   ]
  },
  {
   "cell_type": "code",
   "execution_count": 16,
   "id": "c514880c",
   "metadata": {},
   "outputs": [
    {
     "name": "stdout",
     "output_type": "stream",
     "text": [
      "Random RGB Color: rgb(222, 187, 35)\n"
     ]
    }
   ],
   "source": [
    "# Write a function named rgb_color_gen. It will generate rgb colors (3 values ranging from 0 to 255 each)\n",
    "import secrets\n",
    "\n",
    "# Function declaration\n",
    "def rgb_color_gen():\n",
    "    # Generate random values for R, G, and B in the range [0, 255]\n",
    "    r = secrets.randbelow(256)\n",
    "    g = secrets.randbelow(256)\n",
    "    b = secrets.randbelow(256)\n",
    "\n",
    "    # Return the RGB color string\n",
    "    return f\"rgb({r}, {g}, {b})\"\n",
    "\n",
    "# Function call\n",
    "random_rgb_color = rgb_color_gen()\n",
    "print(\"Random RGB Color:\", random_rgb_color)"
   ]
  },
  {
   "cell_type": "markdown",
   "id": "832fa9bd",
   "metadata": {},
   "source": [
    "#### Exercise: Level 2"
   ]
  },
  {
   "cell_type": "code",
   "execution_count": 19,
   "id": "234cb76b",
   "metadata": {},
   "outputs": [
    {
     "name": "stdout",
     "output_type": "stream",
     "text": [
      "List of Hexadecimal Colors: ['#3a76c9', '#6bbb3a', '#5b650c', '#bb619c', '#46413b', '#29a6c0', '#94149e', '#ad122e', '#41a0eb', '#c83b6f']\n"
     ]
    }
   ],
   "source": [
    "# Write a function list_of_hexa_colors which returns any number of hexadecimal colors in an array (six hexadecimal numbers \n",
    "# written after #. Hexadecimal numeral system is made out of 16 symbols, 0-9 and first 6 letters of the alphabet, a-f. \n",
    "# Check the task 6 for output examples)\n",
    "                                                                                                 \n",
    "import secrets\n",
    "\n",
    "# Declare a function that accepts num_colors as a parameter\n",
    "def list_of_hexa_colors(num_colors):\n",
    "    hex_colors = []\n",
    "\n",
    "    for _ in range(num_colors):\n",
    "        # Generate a random hexadecimal color (e.g., #1a2b3c)\n",
    "        hex_color = '#' + ''.join(secrets.choice('0123456789abcdef') for _ in range(6))\n",
    "        hex_colors.append(hex_color)\n",
    "\n",
    "    return hex_colors\n",
    "\n",
    "# Function Call\n",
    "num_colors_to_generate = 10\n",
    "hex_colors_list = list_of_hexa_colors(num_colors_to_generate)\n",
    "print(\"List of Hexadecimal Colors:\", hex_colors_list)\n"
   ]
  },
  {
   "cell_type": "code",
   "execution_count": 20,
   "id": "d0d41063",
   "metadata": {},
   "outputs": [
    {
     "name": "stdout",
     "output_type": "stream",
     "text": [
      "List of RGB Colors: ['rgb(76, 158, 42)', 'rgb(53, 167, 178)', 'rgb(152, 183, 106)', 'rgb(87, 159, 117)', 'rgb(191, 34, 175)']\n"
     ]
    }
   ],
   "source": [
    "# Write a function list_of_rgb_colors which returns any number of RGB colors in an array.\n",
    "import secrets\n",
    "\n",
    "def list_of_rgb_colors(num_colors):\n",
    "    rgb_colors = []\n",
    "\n",
    "    for _ in range(num_colors):\n",
    "        # Generate random values for R, G, and B in the range [0, 255]\n",
    "        r = secrets.randbelow(256)\n",
    "        g = secrets.randbelow(256)\n",
    "        b = secrets.randbelow(256)\n",
    "\n",
    "        # Append the RGB color string to the list\n",
    "        rgb_colors.append(f\"rgb({r}, {g}, {b})\")\n",
    "\n",
    "    return rgb_colors\n",
    "\n",
    "# Example usage:\n",
    "num_colors_to_generate = 5\n",
    "rgb_colors_list = list_of_rgb_colors(num_colors_to_generate)\n",
    "print(\"List of RGB Colors:\", rgb_colors_list)\n"
   ]
  },
  {
   "cell_type": "code",
   "execution_count": 22,
   "id": "58b4014f",
   "metadata": {},
   "outputs": [
    {
     "name": "stdout",
     "output_type": "stream",
     "text": [
      "List of Hexadecimal Colors: ['#6164fe', '#a6cb06']\n",
      "List of RGB Colors: ['rgb(124, 186, 216)', 'rgb(204, 7, 235)', 'rgb(172, 121, 193)', 'rgb(192, 209, 56)']\n"
     ]
    }
   ],
   "source": [
    "# Write a function generate_colors which can generate any number of hexa or rgb colors\n",
    "import secrets\n",
    "\n",
    "def generate_colors(num_colors, color_type='hex'):\n",
    "    colors = []\n",
    "\n",
    "    for _ in range(num_colors):\n",
    "        if color_type == 'hex':\n",
    "            # Generate a random hexadecimal color (e.g., #1a2b3c)\n",
    "            hex_color = '#' + ''.join(secrets.choice('0123456789abcdef') for _ in range(6))\n",
    "            colors.append(hex_color)\n",
    "        elif color_type == 'rgb':\n",
    "            # Generate random values for R, G, and B in the range [0, 255]\n",
    "            r = secrets.randbelow(256)\n",
    "            g = secrets.randbelow(256)\n",
    "            b = secrets.randbelow(256)\n",
    "            # Append the RGB color string to the list\n",
    "            colors.append(f\"rgb({r}, {g}, {b})\")\n",
    "        else:\n",
    "            print(\"Invalid color type. Please choose 'hex' or 'rgb'.\")\n",
    "            return None\n",
    "\n",
    "    return colors\n",
    "\n",
    "# Function call\n",
    "hex_colors_list = generate_colors(2, color_type='hex')\n",
    "rgb_colors_list = generate_colors(4, color_type='rgb')\n",
    "\n",
    "print(\"List of Hexadecimal Colors:\", hex_colors_list)\n",
    "print(\"List of RGB Colors:\", rgb_colors_list)\n"
   ]
  },
  {
   "cell_type": "markdown",
   "id": "738f8840",
   "metadata": {},
   "source": [
    "#### Exercises: Level 3"
   ]
  },
  {
   "cell_type": "code",
   "execution_count": 25,
   "id": "fdd57f44",
   "metadata": {},
   "outputs": [
    {
     "name": "stdout",
     "output_type": "stream",
     "text": [
      "Original List: [1, 2, 3, 4, 5]\n",
      "Shuffled List: [1, 3, 2, 5, 4]\n"
     ]
    }
   ],
   "source": [
    "# Call your function shuffle_list, it takes a list as a parameter and it returns a shuffled list\n",
    "import random\n",
    "\n",
    "def shuffle_list(input_list):\n",
    "    shuffled_list = input_list.copy()  # Create a copy to avoid modifying the original list\n",
    "    random.shuffle(shuffled_list)\n",
    "    return shuffled_list\n",
    "\n",
    "# Example usage:\n",
    "original_list = [1, 2, 3, 4, 5]\n",
    "shuffled_result = shuffle_list(original_list)\n",
    "\n",
    "print(\"Original List:\", original_list)\n",
    "print(\"Shuffled List:\", shuffled_result)\n"
   ]
  },
  {
   "cell_type": "code",
   "execution_count": 27,
   "id": "5ec12a8d",
   "metadata": {},
   "outputs": [
    {
     "name": "stdout",
     "output_type": "stream",
     "text": [
      "Seven Unique Random Numbers: [0, 5, 7, 2, 1, 3, 8]\n"
     ]
    }
   ],
   "source": [
    "# Write a function which returns an array of seven random numbers in a range of 0-9. All the numbers must be unique.\n",
    "\n",
    "import random\n",
    "\n",
    "def seven_unique_random_numbers():\n",
    "    # Generate a list of unique random numbers in the range [0, 9]\n",
    "    unique_numbers = random.sample(range(10), 7)\n",
    "    return unique_numbers\n",
    "\n",
    "# Function Call\n",
    "random_numbers = seven_unique_random_numbers()\n",
    "print(\"Seven Unique Random Numbers:\", random_numbers)\n"
   ]
  },
  {
   "cell_type": "code",
   "execution_count": null,
   "id": "ef3422fb",
   "metadata": {},
   "outputs": [],
   "source": []
  }
 ],
 "metadata": {
  "kernelspec": {
   "display_name": "Python 3 (ipykernel)",
   "language": "python",
   "name": "python3"
  },
  "language_info": {
   "codemirror_mode": {
    "name": "ipython",
    "version": 3
   },
   "file_extension": ".py",
   "mimetype": "text/x-python",
   "name": "python",
   "nbconvert_exporter": "python",
   "pygments_lexer": "ipython3",
   "version": "3.9.13"
  }
 },
 "nbformat": 4,
 "nbformat_minor": 5
}
