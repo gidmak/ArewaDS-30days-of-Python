{
 "cells": [
  {
   "cell_type": "markdown",
   "id": "d1a2231b",
   "metadata": {},
   "source": [
    "## Day 16 of 30 Days of Python"
   ]
  },
  {
   "cell_type": "markdown",
   "id": "bb479e7c",
   "metadata": {},
   "source": [
    "### Exercises: Day 16"
   ]
  },
  {
   "cell_type": "markdown",
   "id": "1bd2255a",
   "metadata": {},
   "source": [
    "#### Get the current day, month, year, hour, minute and timestamp from datetime module"
   ]
  },
  {
   "cell_type": "code",
   "execution_count": 39,
   "id": "55dafbe8",
   "metadata": {},
   "outputs": [
    {
     "name": "stdout",
     "output_type": "stream",
     "text": [
      "2023-12-16 07:45:23.761790\n",
      "Today is 16 day of 12 month of 2023 year 7 hour, 45 minute, 1702709123.76179\n"
     ]
    }
   ],
   "source": [
    "# Import datetime from datetime module\n",
    "from datetime import datetime\n",
    "\n",
    "# Declare variables \n",
    "now = datetime.now()\n",
    "day = now.day\n",
    "month = now.month\n",
    "year = now.year\n",
    "hour = now.hour\n",
    "minute = now.minute\n",
    "timestamp = now.timestamp()\n",
    "# Print current day, month, year, hour, minute, and timestamp\n",
    "print(f\"Today is {day} day of {month} month of {year} year {hour} hour, {minute} minute, {timestamp}\")"
   ]
  },
  {
   "cell_type": "markdown",
   "id": "32fab642",
   "metadata": {},
   "source": [
    "#### Format the current date using this format: \"%m/%d/%Y, %H:%M:%S\")\n"
   ]
  },
  {
   "cell_type": "code",
   "execution_count": 26,
   "id": "e456f30f",
   "metadata": {},
   "outputs": [
    {
     "name": "stdout",
     "output_type": "stream",
     "text": [
      "Current date:  12/16/2023\n",
      "Current time:  07:27:25\n"
     ]
    }
   ],
   "source": [
    "now = datetime.now()\n",
    "d = now.strftime(\"%m/%d/%Y\")\n",
    "print(\"Current date: \", d)\n",
    "t = now.strftime(\"%H:%M:%S\")\n",
    "print(\"Current time: \", t)"
   ]
  },
  {
   "cell_type": "code",
   "execution_count": 30,
   "id": "410cb32b",
   "metadata": {},
   "outputs": [
    {
     "name": "stdout",
     "output_type": "stream",
     "text": [
      "date_string:  5 December, 2019\n",
      "date_object 2019-12-05 00:00:00\n"
     ]
    }
   ],
   "source": [
    "# Today is 5 December, 2019. Change this time string to time.\n",
    "date_string = \"5 December, 2019\"\n",
    "print(\"date_string: \", date_string)\n",
    "date_object = datetime.strptime(date_string, \"%d %B, %Y\")\n",
    "print(\"date_object\", date_object)"
   ]
  },
  {
   "cell_type": "code",
   "execution_count": 65,
   "id": "c279cdca",
   "metadata": {},
   "outputs": [
    {
     "name": "stdout",
     "output_type": "stream",
     "text": [
      "Time left until New Year: 15 days, 15 hours, 58 minutes, 27 seconds\n"
     ]
    }
   ],
   "source": [
    "# Calculate the time difference between now and new year.\n",
    "now = datetime.now()\n",
    "new_year = datetime(2024, 1, 1)\n",
    "time_difference = new_year - now\n",
    "\n",
    "# Calculate days, hours, minutes, and seconds\n",
    "days, remainder = divmod(time_difference.total_seconds(), 86400)\n",
    "hours, remainder = divmod(remainder, 3600)\n",
    "minutes, seconds = divmod(remainder, 60)\n",
    "\n",
    "# Display the result\n",
    "print(f\"Time left until New Year: {int(days)} days, {int(hours)} hours, {int(minutes)} minutes, {int(seconds)} seconds\")"
   ]
  },
  {
   "cell_type": "code",
   "execution_count": 72,
   "id": "f25ceff6",
   "metadata": {},
   "outputs": [
    {
     "name": "stdout",
     "output_type": "stream",
     "text": [
      "19707 days, 8:34:28.330947\n",
      "The time difference is: 53 years, 12 months, 51 weeks, 362 days\n"
     ]
    }
   ],
   "source": [
    "# Calculate the time difference between 1 January 1970 and now.\n",
    "start_date = datetime(1970, 1, 1)\n",
    "now = datetime.now()\n",
    "time_difference = now - start_date\n",
    "\n",
    "# Calculate the year, months and days\n",
    "years = time_difference.days // 365\n",
    "remaining_days = time_difference.days % 365\n",
    "months, days = divmod(remaining_days, 30)\n",
    "weeks, days = divmod(remaining_days, 7)\n",
    "\n",
    "# Display the result\n",
    "print(f\"The time difference is: {int(years)} years, {int(months)} months, {int(weeks)} weeks, {int(remaining_days)} days\")"
   ]
  },
  {
   "cell_type": "code",
   "execution_count": null,
   "id": "664a06e4",
   "metadata": {},
   "outputs": [],
   "source": []
  }
 ],
 "metadata": {
  "kernelspec": {
   "display_name": "Python 3 (ipykernel)",
   "language": "python",
   "name": "python3"
  },
  "language_info": {
   "codemirror_mode": {
    "name": "ipython",
    "version": 3
   },
   "file_extension": ".py",
   "mimetype": "text/x-python",
   "name": "python",
   "nbconvert_exporter": "python",
   "pygments_lexer": "ipython3",
   "version": "3.9.13"
  }
 },
 "nbformat": 4,
 "nbformat_minor": 5
}
