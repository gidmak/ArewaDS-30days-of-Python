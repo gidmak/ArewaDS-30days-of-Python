{
 "cells": [
  {
   "cell_type": "code",
   "execution_count": 4,
   "metadata": {},
   "outputs": [
    {
     "ename": "SyntaxError",
     "evalue": "invalid syntax (2343028063.py, line 6)",
     "output_type": "error",
     "traceback": [
      "\u001b[1;36m  Cell \u001b[1;32mIn[4], line 6\u001b[1;36m\u001b[0m\n\u001b[1;33m    pip install virtualenv\u001b[0m\n\u001b[1;37m        ^\u001b[0m\n\u001b[1;31mSyntaxError\u001b[0m\u001b[1;31m:\u001b[0m invalid syntax\n"
     ]
    }
   ],
   "source": [
    "# Day 23 of 30 Days of Python\n",
    "# Create a project directory with a virtual environment\n",
    "\n",
    "# Using magic command to install a virtual environment\n",
    "%%cmd\n",
    "pip install virtualenv"
   ]
  },
  {
   "cell_type": "code",
   "execution_count": 9,
   "metadata": {},
   "outputs": [],
   "source": [
    "# Create a new directory\n",
    "%mkdir Django"
   ]
  },
  {
   "cell_type": "code",
   "execution_count": 10,
   "metadata": {},
   "outputs": [
    {
     "name": "stdout",
     "output_type": "stream",
     "text": [
      "c:\\Users\\Gideon Markus\\Documents\\Data Science Projects\\arewa_ds\\ArewaDS-30days-of-Python\\day_23\\Django\n"
     ]
    },
    {
     "name": "stderr",
     "output_type": "stream",
     "text": [
      "C:\\Users\\Gideon Markus\\AppData\\Roaming\\Python\\Python312\\site-packages\\IPython\\core\\magics\\osm.py:417: UserWarning: using dhist requires you to install the `pickleshare` library.\n",
      "  self.shell.db['dhist'] = compress_dhist(dhist)[-100:]\n"
     ]
    }
   ],
   "source": [
    "# Change directory to Django\n",
    "%cd Django"
   ]
  },
  {
   "cell_type": "code",
   "execution_count": 15,
   "metadata": {},
   "outputs": [
    {
     "name": "stdout",
     "output_type": "stream",
     "text": [
      "Microsoft Windows [Version 10.0.19045.3570]\n",
      "(c) Microsoft Corporation. All rights reserved.\n",
      "\n",
      "c:\\Users\\Gideon Markus\\Documents\\Data Science Projects\\arewa_ds\\ArewaDS-30days-of-Python\\day_23\\Django>python -m venv venv\n",
      "\n",
      "c:\\Users\\Gideon Markus\\Documents\\Data Science Projects\\arewa_ds\\ArewaDS-30days-of-Python\\day_23\\Django>"
     ]
    }
   ],
   "source": [
    "# Create virtual environment\n",
    "%%cmd\n",
    "python -m venv venv"
   ]
  },
  {
   "cell_type": "code",
   "execution_count": 18,
   "metadata": {},
   "outputs": [],
   "source": [
    "# Activate the virtual environment\n",
    "%%bash\n",
    "venv/Scripts/activate"
   ]
  },
  {
   "cell_type": "code",
   "execution_count": 19,
   "metadata": {},
   "outputs": [
    {
     "name": "stdout",
     "output_type": "stream",
     "text": [
      "Microsoft Windows [Version 10.0.19045.3570]\n",
      "(c) Microsoft Corporation. All rights reserved.\n",
      "\n",
      "c:\\Users\\Gideon Markus\\Documents\\Data Science Projects\\arewa_ds\\ArewaDS-30days-of-Python\\day_23\\Django>pip install django\n",
      "Collecting django\n",
      "  Downloading Django-5.0-py3-none-any.whl.metadata (4.1 kB)\n",
      "Collecting asgiref>=3.7.0 (from django)\n",
      "  Downloading asgiref-3.7.2-py3-none-any.whl.metadata (9.2 kB)\n",
      "Collecting sqlparse>=0.3.1 (from django)\n",
      "  Downloading sqlparse-0.4.4-py3-none-any.whl (41 kB)\n",
      "     -------------------------------------- 41.2/41.2 kB 165.5 kB/s eta 0:00:00\n",
      "Collecting tzdata (from django)\n",
      "  Downloading tzdata-2023.3-py2.py3-none-any.whl (341 kB)\n",
      "     ------------------------------------ 341.8/341.8 kB 816.7 kB/s eta 0:00:00\n",
      "Downloading Django-5.0-py3-none-any.whl (8.1 MB)\n",
      "   ---------------------------------------- 8.1/8.1 MB 1.0 MB/s eta 0:00:00\n",
      "Downloading asgiref-3.7.2-py3-none-any.whl (24 kB)\n",
      "Installing collected packages: tzdata, sqlparse, asgiref, django\n",
      "Successfully installed asgiref-3.7.2 django-5.0 sqlparse-0.4.4 tzdata-2023.3\n"
     ]
    },
    {
     "name": "stderr",
     "output_type": "stream",
     "text": [
      "\n",
      "[notice] A new release of pip is available: 23.3.1 -> 23.3.2\n",
      "[notice] To update, run: python.exe -m pip install --upgrade pip\n"
     ]
    },
    {
     "name": "stdout",
     "output_type": "stream",
     "text": [
      "\n",
      "c:\\Users\\Gideon Markus\\Documents\\Data Science Projects\\arewa_ds\\ArewaDS-30days-of-Python\\day_23\\Django>"
     ]
    }
   ],
   "source": [
    "# Install django package\n",
    "%%cmd\n",
    "pip install django"
   ]
  },
  {
   "cell_type": "code",
   "execution_count": 21,
   "metadata": {},
   "outputs": [
    {
     "name": "stdout",
     "output_type": "stream",
     "text": [
      "asn1crypto==0.24.0\n",
      "configparser==4.0.2\n",
      "contextlib2==0.6.0.post1\n",
      "cryptography==2.1.4\n",
      "distlib==0.3.8\n",
      "enum34==1.1.6\n",
      "filelock==3.2.1\n",
      "idna==2.6\n",
      "importlib-metadata==2.1.3\n",
      "importlib-resources==3.3.1\n",
      "ipaddress==1.0.17\n",
      "keyring==10.6.0\n",
      "keyrings.alt==3.0\n",
      "pathlib2==2.3.7.post1\n",
      "platformdirs==2.0.2\n",
      "pycrypto==2.6.1\n",
      "pygobject==3.26.1\n",
      "pyxdg==0.25\n",
      "scandir==1.10.0\n",
      "SecretStorage==2.3.1\n",
      "singledispatch==3.7.0\n",
      "six==1.16.0\n",
      "typing==3.10.0.0\n",
      "virtualenv==20.15.1\n",
      "zipp==1.2.0\n"
     ]
    }
   ],
   "source": [
    "# Get list of packages installed\n",
    "%%bash\n",
    "pip freeze"
   ]
  },
  {
   "cell_type": "code",
   "execution_count": null,
   "metadata": {},
   "outputs": [],
   "source": []
  }
 ],
 "metadata": {
  "kernelspec": {
   "display_name": "Python 3",
   "language": "python",
   "name": "python3"
  },
  "language_info": {
   "codemirror_mode": {
    "name": "ipython",
    "version": 3
   },
   "file_extension": ".py",
   "mimetype": "text/x-python",
   "name": "python",
   "nbconvert_exporter": "python",
   "pygments_lexer": "ipython3",
   "version": "3.12.0"
  }
 },
 "nbformat": 4,
 "nbformat_minor": 2
}
