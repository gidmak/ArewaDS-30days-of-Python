{
 "cells": [
  {
   "cell_type": "markdown",
   "metadata": {},
   "source": [
    "Day 21 of 30 Days of Python"
   ]
  },
  {
   "cell_type": "markdown",
   "metadata": {},
   "source": [
    "Python has the module called statistics and we can use this module to do all the statistical calculations. However, to learn how to make function and reuse function let us try to develop a program, which calculates the measure of central tendency of a sample (mean, median, mode) and measure of variability (range, variance, standard deviation). In addition to those measures, find the min, max, count, percentile, and frequency distribution of the sample. You can create a class called Statistics and create all the functions that do statistical calculations as methods for the Statistics class. \n"
   ]
  },
  {
   "cell_type": "code",
   "execution_count": 7,
   "metadata": {},
   "outputs": [
    {
     "name": "stdout",
     "output_type": "stream",
     "text": [
      "Mean: 29.76\n",
      "Median: 29.0\n",
      "Mode: 29.76\n",
      "Range: 14\n",
      "Variance: 17.542399999999997\n",
      "Standard Deviation: 4.188364836066696\n",
      "Min: 24\n",
      "Max: 38\n",
      "Count: 25\n",
      "Percentile (50%): 29.0\n",
      "Frequency Distribution: {24: 2, 25: 1, 26: 5, 27: 4, 29: 1, 31: 2, 32: 3, 33: 2, 34: 2, 37: 2, 38: 1}\n"
     ]
    }
   ],
   "source": [
    "from collections import Counter\n",
    "import numpy as np\n",
    "# Create a Statistics class\n",
    "class Statistics:\n",
    "    def __init__(self, data):\n",
    "        self.data = data\n",
    "\n",
    "    def calculate_mean(self):\n",
    "        return np.mean(self.data)\n",
    "\n",
    "    def calculate_median(self):\n",
    "        return np.median(self.data)\n",
    "\n",
    "    def calculate_mode(self):\n",
    "        return np.mean(self.data)\n",
    "\n",
    "    def calculate_range(self):\n",
    "        return max(self.data) - min(self.data)\n",
    "\n",
    "    def calculate_variance(self):\n",
    "        return np.var(self.data)\n",
    "\n",
    "    def calculate_standard_deviation(self):\n",
    "        return np.std(self.data)\n",
    "\n",
    "    def get_min(self):\n",
    "        return min(self.data)\n",
    "\n",
    "    def get_max(self):\n",
    "        return max(self.data)\n",
    "\n",
    "    def get_count(self):\n",
    "        return len(self.data)\n",
    "\n",
    "    def calculate_percentile(self, percentile):\n",
    "        return np.percentile(self.data, percentile)\n",
    "\n",
    "    def calculate_frequency_distribution(self):\n",
    "        frequency_dict = Counter(self.data)\n",
    "        return dict(sorted(frequency_dict.items()))\n",
    "\n",
    "# Data to be computed\n",
    "ages = [31, 26, 34, 37, 27, 26, 32, 32, 26, 27, 27, 24, 32, 33, 27, 25, 26, 38, 37, 31, 34, 24, 33, 29, 26]\n",
    "\n",
    "# Create an instance of the Statistics class\n",
    "statistics = Statistics(ages)\n",
    "\n",
    "print(f\"Mean: {statistics.calculate_mean()}\")\n",
    "print(f\"Median: {statistics.calculate_median()}\")\n",
    "print(f\"Mode: {statistics.calculate_mode()}\")\n",
    "print(f\"Range: {statistics.calculate_range()}\")\n",
    "print(f\"Variance: {statistics.calculate_variance()}\")\n",
    "print(f\"Standard Deviation: {statistics.calculate_standard_deviation()}\")\n",
    "print(f\"Min: {statistics.get_min()}\")\n",
    "print(f\"Max: {statistics.get_max()}\")\n",
    "print(f\"Count: {statistics.get_count()}\")\n",
    "print(f\"Percentile (50%): {statistics.calculate_percentile(50)}\")\n",
    "print(f\"Frequency Distribution: {statistics.calculate_frequency_distribution()}\")\n"
   ]
  },
  {
   "cell_type": "markdown",
   "metadata": {},
   "source": [
    "<!-- Classes for statistics -->\n",
    "\n"
   ]
  }
 ],
 "metadata": {
  "kernelspec": {
   "display_name": "Python 3",
   "language": "python",
   "name": "python3"
  },
  "language_info": {
   "codemirror_mode": {
    "name": "ipython",
    "version": 3
   },
   "file_extension": ".py",
   "mimetype": "text/x-python",
   "name": "python",
   "nbconvert_exporter": "python",
   "pygments_lexer": "ipython3",
   "version": "3.12.0"
  }
 },
 "nbformat": 4,
 "nbformat_minor": 2
}
