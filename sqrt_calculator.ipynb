{
 "cells": [
  {
   "cell_type": "markdown",
   "id": "c355c447",
   "metadata": {},
   "source": [
    "### This program will calculate the square root of any number"
   ]
  },
  {
   "cell_type": "code",
   "execution_count": 6,
   "id": "ebb53ad2",
   "metadata": {},
   "outputs": [
    {
     "name": "stdout",
     "output_type": "stream",
     "text": [
      "Enter the number: 43\n",
      "The square root of the number is: 6.557438524302\n"
     ]
    }
   ],
   "source": [
    "import math\n",
    "\n",
    "# Enter the number\n",
    "user_input = input(\"Enter the number: \" )\n",
    "\n",
    "# Convert the number into float\n",
    "try: \n",
    "    number = float(user_input)\n",
    "except ValueError:\n",
    "    print(\"Invalid input. Please enter a valid number\")\n",
    "\n",
    "# Check if the number is non-negative\n",
    "if number < 0:\n",
    "    print(\"Square root is undefined for negative numbers\")\n",
    "else:\n",
    "    # Perform the calculation and display the result\n",
    "    square_root = math.sqrt(number)\n",
    "    print(f\"The square root of the number is: {square_root}\")"
   ]
  },
  {
   "cell_type": "code",
   "execution_count": null,
   "id": "c8c32307",
   "metadata": {},
   "outputs": [],
   "source": []
  }
 ],
 "metadata": {
  "kernelspec": {
   "display_name": "Python 3 (ipykernel)",
   "language": "python",
   "name": "python3"
  },
  "language_info": {
   "codemirror_mode": {
    "name": "ipython",
    "version": 3
   },
   "file_extension": ".py",
   "mimetype": "text/x-python",
   "name": "python",
   "nbconvert_exporter": "python",
   "pygments_lexer": "ipython3",
   "version": "3.12.0"
  }
 },
 "nbformat": 4,
 "nbformat_minor": 5
}
