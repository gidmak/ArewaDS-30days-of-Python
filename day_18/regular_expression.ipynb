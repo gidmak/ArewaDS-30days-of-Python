{
 "cells": [
  {
   "cell_type": "markdown",
   "id": "185c4248",
   "metadata": {},
   "source": [
    "### Day 18 0f 30 Days of Python"
   ]
  },
  {
   "cell_type": "markdown",
   "id": "62957dc6",
   "metadata": {},
   "source": [
    "#### Exercise Level:1"
   ]
  },
  {
   "cell_type": "code",
   "execution_count": 4,
   "id": "7264ad2c",
   "metadata": {},
   "outputs": [
    {
     "name": "stdout",
     "output_type": "stream",
     "text": [
      "[('i', 2), ('love', 6), ('teaching', 2), ('if', 2), ('you', 5), ('do', 2), ('not', 2), ('what', 2), ('else', 2), ('can', 3), ('python', 1), ('something', 1), ('which', 1), ('give', 1), ('all', 1), ('the', 1), ('capabilities', 1), ('to', 1), ('develop', 1), ('an', 1), ('application', 1)]\n"
     ]
    }
   ],
   "source": [
    "# What is the most frequent word in the following paragraph?\n",
    "paragraph = 'I love teaching. If you do not love teaching what else can you love. I love Python if you do not love something which can give you all the capabilities to develop an application what else can you love.'\n",
    "\n",
    "import re\n",
    "from collections import Counter\n",
    "\n",
    "# Convert the paragraph to lowercase to make the word count case-insensitive\n",
    "paragraph_lower = paragraph.lower()\n",
    "\n",
    "# Use regular expression to find words\n",
    "words = re.findall(r'\\b\\w+\\b', paragraph_lower)\n",
    "\n",
    "# Use Counter to count the occurrences of each word\n",
    "word_counts = Counter(words)\n",
    "\n",
    "# Create a list of tuples with words and their respective occurrences\n",
    "word_occurrences = [(word, count) for word, count in word_counts.items()]\n",
    "\n",
    "# Display the list of tuples\n",
    "print(word_occurrences)\n"
   ]
  },
  {
   "cell_type": "code",
   "execution_count": 5,
   "id": "64ad2cd7",
   "metadata": {},
   "outputs": [
    {
     "name": "stdout",
     "output_type": "stream",
     "text": [
      "Particle positions: [-12, -4, -3, -1, 0, 4, 8]\n",
      "Furthest positions: [-12, -4, 4, 8]\n",
      "Distance between furthest particles: 20\n"
     ]
    }
   ],
   "source": [
    "# The position of some particles on the horizontal x-axis are -12, -4, -3 and -1 in the negative direction, 0 at origin, 4 and 8 in the positive direction. \n",
    "# Extract these numbers from this whole text and find the distance between the two furthest particles.\n",
    "\n",
    "import re\n",
    "\n",
    "text = \"The position of some particles on the horizontal x-axis are -12, -4, -3 and -1 in the negative direction, 0 at origin, 4 and 8 in the positive direction.\"\n",
    "\n",
    "# Use regular expression to find all integer numbers (positive and negative)\n",
    "particle_positions = list(map(int, re.findall(r'-?\\d+', text)))\n",
    "\n",
    "# Find the two furthest positions\n",
    "furthest_positions = sorted(particle_positions)[:2] + sorted(particle_positions)[-2:]\n",
    "\n",
    "# Calculate the distance between the two furthest particles\n",
    "distance = max(furthest_positions) - min(furthest_positions)\n",
    "\n",
    "print(\"Particle positions:\", particle_positions)\n",
    "print(\"Furthest positions:\", furthest_positions)\n",
    "print(\"Distance between furthest particles:\", distance)\n"
   ]
  },
  {
   "cell_type": "markdown",
   "id": "ace16417",
   "metadata": {},
   "source": [
    "### Exercise Level:2 "
   ]
  },
  {
   "cell_type": "code",
   "execution_count": 7,
   "id": "97b951f9",
   "metadata": {},
   "outputs": [
    {
     "name": "stdout",
     "output_type": "stream",
     "text": [
      "True\n",
      "True\n",
      "False\n",
      "False\n"
     ]
    }
   ],
   "source": [
    "# Write a pattern which identifies if a string is a valid python variable\n",
    "\n",
    "import re\n",
    "\n",
    "def is_valid_python_variable(variable):\n",
    "    pattern = re.compile(r'^[a-zA-Z_]\\w*$')\n",
    "    return bool(pattern.match(variable))\n",
    "\n",
    "# Test cases\n",
    "print(is_valid_python_variable(\"my_variable\"))  # True\n",
    "print(is_valid_python_variable(\"_internal_var\"))  # True\n",
    "print(is_valid_python_variable(\"123_invalid\"))  # False\n",
    "print(is_valid_python_variable(\"invalid-variable\"))  # False\n"
   ]
  },
  {
   "cell_type": "markdown",
   "id": "77ed35e3",
   "metadata": {},
   "source": [
    "### Exercise Level:3"
   ]
  },
  {
   "cell_type": "code",
   "execution_count": 23,
   "id": "b6c3f1a2",
   "metadata": {},
   "outputs": [
    {
     "name": "stdout",
     "output_type": "stream",
     "text": [
      "I am a teacher and I love teaching There is nothing as more rewarding as educating and empowering people I found teaching more interesting than any other jobs Does this motivate you to be a teacher\n",
      "[('I', 3), ('a', 2), ('teacher', 2)]\n"
     ]
    }
   ],
   "source": [
    "# Clean the following text. After cleaning, count three most frequent words in the string.\n",
    "\n",
    "sentence = '''%I $am@% a %tea@cher%, &and& I lo%#ve %tea@ching%;. There $is nothing; &as& mo@re rewarding as educa@ting &and& @emp%o@wering peo@ple. ;I found tea@ching m%o@re interesting tha@n any other %jo@bs. %Do@es thi%s mo@tivate yo@u to be a tea@cher!?'''\n",
    "\n",
    "import re\n",
    "from collections import Counter\n",
    "\n",
    "cleaned_sentence = re.sub(r\"[^a-zA-Z ]\", \"\", sentence)\n",
    "# Tokenize the sentence into words\n",
    "words = cleaned_sentence.split()\n",
    "\n",
    "# Count word frequencies\n",
    "word_counts = Counter(words)\n",
    "\n",
    "# Get the top N frequent words\n",
    "top_words = word_counts.most_common(3)\n",
    "\n",
    "print(\"The \", cleaned_sentence)\n",
    "\n",
    "print(top_words)\n"
   ]
  },
  {
   "cell_type": "code",
   "execution_count": null,
   "id": "d5f76a8b",
   "metadata": {},
   "outputs": [],
   "source": []
  },
  {
   "cell_type": "code",
   "execution_count": null,
   "id": "92ae24e4",
   "metadata": {},
   "outputs": [],
   "source": []
  }
 ],
 "metadata": {
  "kernelspec": {
   "display_name": "Python 3 (ipykernel)",
   "language": "python",
   "name": "python3"
  },
  "language_info": {
   "codemirror_mode": {
    "name": "ipython",
    "version": 3
   },
   "file_extension": ".py",
   "mimetype": "text/x-python",
   "name": "python",
   "nbconvert_exporter": "python",
   "pygments_lexer": "ipython3",
   "version": "3.9.13"
  }
 },
 "nbformat": 4,
 "nbformat_minor": 5
}
