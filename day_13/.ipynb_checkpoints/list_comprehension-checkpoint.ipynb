{
 "cells": [
  {
   "cell_type": "markdown",
   "id": "50ab73c2",
   "metadata": {},
   "source": [
    "### Day 13 of 30 Days of Python"
   ]
  },
  {
   "cell_type": "markdown",
   "id": "f66224a0",
   "metadata": {},
   "source": [
    "#### Exercises"
   ]
  },
  {
   "cell_type": "code",
   "execution_count": 1,
   "id": "c6a67d95",
   "metadata": {},
   "outputs": [
    {
     "name": "stdout",
     "output_type": "stream",
     "text": [
      "Negative and zero numbers:  [-4, -3, -2, -1, 0]\n"
     ]
    }
   ],
   "source": [
    "# Filter only negative and zero in the list using list comprehension\n",
    "numbers = [-4, -3, -2, -1, 0, 2, 4, 6]\n",
    "\n",
    "negative_and_zeros = [i for i in numbers if i  < 0 or i == 0]\n",
    "print (\"Negative and zero numbers: \", negative_and_zeros)"
   ]
  },
  {
   "cell_type": "code",
   "execution_count": 2,
   "id": "5df75e27",
   "metadata": {},
   "outputs": [
    {
     "name": "stdout",
     "output_type": "stream",
     "text": [
      "Flattened List:  [1, 2, 3, 4, 5, 6, 7, 8, 9]\n"
     ]
    }
   ],
   "source": [
    "# Flatten the following list of lists of lists to a one dimensional list :\n",
    "list_of_lists =[[[1, 2, 3]], [[4, 5, 6]], [[7, 8, 9]]]\n",
    "\n",
    "row_list = [i for row in list_of_lists for i in row]\n",
    "flattened_list = [number for row in row_list for number in row]\n",
    "print(\"Flattened List: \", flattened_list)"
   ]
  },
  {
   "cell_type": "code",
   "execution_count": 4,
   "id": "30c05edb",
   "metadata": {},
   "outputs": [
    {
     "name": "stdout",
     "output_type": "stream",
     "text": [
      "[(0, 1, 0, 0, 0, 0, 0), (1, 1, 1, 1, 1, 1, 1), (2, 1, 4, 8, 16, 32, 64), (3, 1, 9, 27, 81, 243, 729), (4, 1, 16, 64, 256, 1024, 4096), (5, 1, 25, 125, 625, 3125, 15625), (6, 1, 36, 216, 1296, 7776, 46656), (7, 1, 49, 343, 2401, 16807, 117649), (8, 1, 64, 512, 4096, 32768, 262144), (9, 1, 81, 729, 6561, 59049, 531441), (10, 1, 100, 1000, 10000, 100000, 1000000)]\n"
     ]
    }
   ],
   "source": [
    "# Using list comprehension create the following list of tuples:\n",
    "# [(0, 1, 0, 0, 0, 0, 0),\n",
    "# (1, 1, 1, 1, 1, 1, 1),\n",
    "# (2, 1, 2, 4, 8, 16, 32),\n",
    "# (3, 1, 3, 9, 27, 81, 243),\n",
    "# (4, 1, 4, 16, 64, 256, 1024),\n",
    "# (5, 1, 5, 25, 125, 625, 3125),\n",
    "# (6, 1, 6, 36, 216, 1296, 7776),\n",
    "# (7, 1, 7, 49, 343, 2401, 16807),\n",
    "# (8, 1, 8, 64, 512, 4096, 32768),\n",
    "# (9, 1, 9, 81, 729, 6561, 59049),\n",
    "# (10, 1, 10, 100, 1000, 10000, 100000)]\n",
    "array_of_numbers = [(i, 1, i ** 2, i ** 3, i ** 4, i ** 5, i ** 6) for i in range(11)]\n",
    "print(array_of_numbers)"
   ]
  },
  {
   "cell_type": "code",
   "execution_count": 16,
   "id": "76b08ad2",
   "metadata": {
    "scrolled": true
   },
   "outputs": [
    {
     "name": "stdout",
     "output_type": "stream",
     "text": [
      "['Finland', 'Helsinki', 'Sweden', 'Stockholm', 'Norway', 'Oslo']\n"
     ]
    }
   ],
   "source": [
    "# Flatten the following list to a new list:\n",
    "\n",
    "countries = [[('Finland', 'Helsinki')], [('Sweden', 'Stockholm')], [('Norway', 'Oslo')]]\n",
    "\n",
    "flattened_countries = [country for sublist in countries for t in sublist for country in t]\n",
    "print(flattened_countries)"
   ]
  },
  {
   "cell_type": "code",
   "execution_count": 24,
   "id": "163a410c",
   "metadata": {},
   "outputs": [
    {
     "name": "stdout",
     "output_type": "stream",
     "text": [
      "[{'Finland': 'Helsinki'}, {'Sweden': 'Stockholm'}, {'Norway': 'Oslo'}]\n"
     ]
    }
   ],
   "source": [
    "# Change the following list to a list of dictionaries:\n",
    "\n",
    "countries = [[('Finland', 'Helsinki')], [('Sweden', 'Stockholm')], [('Norway', 'Oslo')]]\n",
    "\n",
    "list_of_dict = [dict(sublist) for sublist in countries]\n",
    "print(list_of_dict)"
   ]
  },
  {
   "cell_type": "code",
   "execution_count": 26,
   "id": "27a7e9d2",
   "metadata": {},
   "outputs": [
    {
     "name": "stdout",
     "output_type": "stream",
     "text": [
      "['Asabeneh', 'Yetayeh', 'David', 'Smith', 'Donald', 'Trump', 'Bill', 'Gates']\n"
     ]
    }
   ],
   "source": [
    "# Change the following list of lists to a list of concatenated strings:\n",
    "\n",
    "names = [[('Asabeneh', 'Yetayeh')], [('David', 'Smith')], [('Donald', 'Trump')], [('Bill', 'Gates')]]\n",
    "list_of_names = [name for sublist in names for names_tuple in sublist for name in names_tuple ]\n",
    "print(list_of_names)"
   ]
  },
  {
   "cell_type": "code",
   "execution_count": 30,
   "id": "61e99c75",
   "metadata": {},
   "outputs": [
    {
     "name": "stdout",
     "output_type": "stream",
     "text": [
      "Slope:  1.0\n"
     ]
    }
   ],
   "source": [
    "# Write a lambda function which can solve a slope of linear functions.\n",
    "x1, y1 = 1, 2\n",
    "x2, y2 = 3, 4\n",
    "\n",
    "get_slope = lambda x1, y1, x2, y2: (y2 - y1) / (x2 - x1)\n",
    "slope = get_slope(x1, y1, x2, y2)\n",
    "print(\"Slope: \", slope)"
   ]
  },
  {
   "cell_type": "code",
   "execution_count": 29,
   "id": "33b9aab8",
   "metadata": {},
   "outputs": [
    {
     "name": "stdout",
     "output_type": "stream",
     "text": [
      "Y-Intercept:  -2\n"
     ]
    }
   ],
   "source": [
    "# Write a lambda function which can solve a y-intercept of linear functions.\n",
    "slope = 2\n",
    "x, y = 3, 4\n",
    "\n",
    "get_y_intercept = lambda slope, x, y: y - slope * x\n",
    "y_intercept = get_y_intercept(slope, x, y)\n",
    "print(\"Y-Intercept: \", y_intercept)"
   ]
  },
  {
   "cell_type": "code",
   "execution_count": null,
   "id": "8c5ba979",
   "metadata": {},
   "outputs": [],
   "source": []
  }
 ],
 "metadata": {
  "kernelspec": {
   "display_name": "Python 3 (ipykernel)",
   "language": "python",
   "name": "python3"
  },
  "language_info": {
   "codemirror_mode": {
    "name": "ipython",
    "version": 3
   },
   "file_extension": ".py",
   "mimetype": "text/x-python",
   "name": "python",
   "nbconvert_exporter": "python",
   "pygments_lexer": "ipython3",
   "version": "3.9.13"
  }
 },
 "nbformat": 4,
 "nbformat_minor": 5
}
