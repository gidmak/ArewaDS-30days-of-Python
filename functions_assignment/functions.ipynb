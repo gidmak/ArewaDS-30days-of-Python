{
 "cells": [
  {
   "cell_type": "markdown",
   "metadata": {},
   "source": [
    "# Assignment on functions"
   ]
  },
  {
   "cell_type": "code",
   "execution_count": 1,
   "metadata": {},
   "outputs": [
    {
     "name": "stdout",
     "output_type": "stream",
     "text": [
      "I am learning about functions in python\n"
     ]
    }
   ],
   "source": [
    "# 8-1: Message\n",
    "# Write a function called display_message() that prints one sentence telling everyone what you are learning about in this chapter. Call the function, and make sure the message displays correctly.\n",
    "\n",
    "# Create a function\n",
    "def display_message():\n",
    "    print(\"I am learning about functions in python\")\n",
    "\n",
    "# Display message\n",
    "display_message()"
   ]
  },
  {
   "cell_type": "code",
   "execution_count": 2,
   "metadata": {},
   "outputs": [
    {
     "name": "stdout",
     "output_type": "stream",
     "text": [
      "One of my favourite books is: Alice in Wonderland\n"
     ]
    }
   ],
   "source": [
    "# 8-2. Favorite Book: Write a function called favorite_book() that accepts one parameter, title. The function should print a message, such as One of my favorite books is Alice in Wonderland. Call the function, making sure to include a book title as an argument in the function call.\n",
    "\n",
    "# Create a function\n",
    "def favorite_book(title):\n",
    "    print(\"One of my favourite books is:\", title)\n",
    "\n",
    "# Display message\n",
    "favorite_book(\"Alice in Wonderland\")"
   ]
  },
  {
   "cell_type": "code",
   "execution_count": 3,
   "metadata": {},
   "outputs": [
    {
     "name": "stdout",
     "output_type": "stream",
     "text": [
      "Your shirt size is:  XL and  Jesus Saves will be written on it.\n",
      "Your shirt size is:  XXL and  I am a success will be written on it.\n"
     ]
    }
   ],
   "source": [
    "# 8-3. T-Shirt: Write a function called make_shirt() that accepts a size and the text of a message that should be printed on the shirt. The function should print a sentence summarizing the size of the shirt and the message printed on it. Call the function once using positional arguments to make a shirt. Call the function a second time using keyword arguments.\n",
    "\n",
    "# Create a function\n",
    "def make_shirt(size, text):\n",
    "    print(\"Your shirt size is: \", size, \"and \", text, \"will be written on it.\")\n",
    "\n",
    "# Display message\n",
    "make_shirt(\"XL\", \"Jesus Saves\")\n",
    "make_shirt(size=\"XXL\", text=\"I am a success\")"
   ]
  },
  {
   "cell_type": "code",
   "execution_count": 4,
   "metadata": {},
   "outputs": [
    {
     "name": "stdout",
     "output_type": "stream",
     "text": [
      "Your shirt size is: Large and has a message: I love Python\n",
      "Your shirt size is: Medium and has a message: I love Python\n",
      "Your shirt size is: Small and has a message: I love Jesus\n"
     ]
    }
   ],
   "source": [
    "# 8-4. Large Shirts: Modify the make_shirt() function so that shirts are large by default with a message that reads I love Python. Make a large shirt and a medium shirt with the default message, and a shirt of any size with a different message.\n",
    "\n",
    "# Create a function\n",
    "def make_shirt(size=\"Large\", message=\"I love Python\"):\n",
    "    print(f\"Your shirt size is: {size} and has a message: {message}\")\n",
    "\n",
    "# Display message\n",
    "make_shirt()\n",
    "make_shirt(size=\"Medium\")\n",
    "make_shirt(size=\"Small\", message=\"I love Jesus\")"
   ]
  },
  {
   "cell_type": "code",
   "execution_count": 5,
   "metadata": {},
   "outputs": [
    {
     "name": "stdout",
     "output_type": "stream",
     "text": [
      "Kaduna is in Nigeria\n",
      "Kano is in Nigeria\n",
      "Cairo is in Egypt\n"
     ]
    }
   ],
   "source": [
    "# 8-5. Cities: Write a function called describe_city() that accepts the name of a city and its country. The function should print a simple sentence, such as Reykjavik is in Iceland. Give the parameter for the country a default value. Call your function for three different cities, at least one of which is not in the default country.\n",
    "\n",
    "# Create a function\n",
    "def describe_city(city, country = \"Nigeria\"):\n",
    "    print(f\"{city} is in {country}\")\n",
    "\n",
    "describe_city(\"Kaduna\")\n",
    "describe_city(\"Kano\")\n",
    "describe_city(\"Cairo\", \"Egypt\")"
   ]
  },
  {
   "cell_type": "code",
   "execution_count": 6,
   "metadata": {},
   "outputs": [
    {
     "name": "stdout",
     "output_type": "stream",
     "text": [
      "Kafanchan, Nigeria\n",
      "Beirut, Lebanon\n",
      "Johanesburg, South Africa\n"
     ]
    }
   ],
   "source": [
    "# 8-6. City Names: Write a function called city_country() that takes in the name of a city and its country. The function should return a string formatted like this: \"Santiago, Chile\". Call your function with at least three city-country pairs, and print the values that are returned.\n",
    "\n",
    "# Create a function\n",
    "def city_country(city, country):\n",
    "    country_pair = f\"{city}, {country}\"\n",
    "    return country_pair\n",
    "\n",
    "# Display message\n",
    "country_pair = city_country(\"Kafanchan\", \"Nigeria\")\n",
    "print(country_pair)\n",
    "country_pair = city_country(\"Beirut\", \"Lebanon\")\n",
    "print(country_pair)\n",
    "country_pair = city_country(\"Johanesburg\", \"South Africa\")\n",
    "print(country_pair)"
   ]
  },
  {
   "cell_type": "code",
   "execution_count": 7,
   "metadata": {},
   "outputs": [
    {
     "name": "stdout",
     "output_type": "stream",
     "text": [
      "{'artist': 'Coldplay', 'title': 'A Rush of Blood to the Head'}\n",
      "{'artist': 'Ed Sheeran', 'title': '÷', 'num_songs': 12}\n",
      "{'artist': 'Taylor Swift', 'title': '1989', 'num_songs': 13}\n"
     ]
    }
   ],
   "source": [
    "# 8-7. Album: Write a function called make_album() that builds a dictionary describing a music album. The function should take in an artist name and an album title, and it should return a dictionary containing these two pieces of information. Use the function to make three dictionaries representing different albums. Print each return value to show that the dictionaries are storing the album information correctly. Use None to add an optional parameter to make_album() that allows you to store the number of songs on an album. If the calling line includes a value for the number of songs, add that value to the album’s dictionary. Make at least one new function call that includes the number of songs on an album.\n",
    "\n",
    "# Create a function\n",
    "def make_album(artist, title, num_songs=None):\n",
    "    \"\"\"Creates a dictionary of albums\"\"\"\n",
    "    album_dict = {'artist': artist, 'title': title}\n",
    "    if num_songs:\n",
    "        album_dict['num_songs'] = num_songs\n",
    "    return album_dict\n",
    "\n",
    "# Function Call\n",
    "album1 = make_album(\"Coldplay\", \"A Rush of Blood to the Head\")\n",
    "album2 = make_album(\"Ed Sheeran\", \"÷\", num_songs=12)\n",
    "album3 = make_album(\"Taylor Swift\", \"1989\", num_songs=13)\n",
    "\n",
    "print(album1)\n",
    "print(album2)\n",
    "print(album3)\n"
   ]
  },
  {
   "cell_type": "code",
   "execution_count": 8,
   "metadata": {},
   "outputs": [
    {
     "name": "stdout",
     "output_type": "stream",
     "text": [
      "{'artist': '', 'title': 'q', 'num_songs': 'q'}\n"
     ]
    }
   ],
   "source": [
    "# 8-8. User Albums: Start with your program from Exercise 8-7. Write a while loop that allows users to enter an album’s artist and title. Once you have that information, call make_album() with the user’s input and print the dictionary that’s created. Be sure to include a quit value in the while loop.\n",
    "\n",
    "def make_album(artist, title, num_songs=None):\n",
    "    \"\"\"Creates an album with artist name, album title and number of songs being optional\"\"\"\n",
    "    album_dict = {'artist': artist, 'title': title}\n",
    "    if num_songs:\n",
    "        album_dict['num_songs'] = num_songs\n",
    "    return album_dict\n",
    "\n",
    "while True:\n",
    "    artist = input(\"Enter the artist's name (or 'q' to exit): \")\n",
    "    \n",
    "    if artist.lower() == 'q':\n",
    "        break\n",
    "    \n",
    "    title = input(\"Enter the album title: \")\n",
    "    \n",
    "    num_songs = input(\"Enter the number of songs (optional): \")\n",
    "    album = make_album(artist, title, num_songs)\n",
    "    \n",
    "    print(album)\n"
   ]
  },
  {
   "cell_type": "code",
   "execution_count": 9,
   "metadata": {},
   "outputs": [
    {
     "name": "stdout",
     "output_type": "stream",
     "text": [
      "Hello, how are you?\n",
      "Don't forget to buy milk on your way home.\n",
      "Happy birthday! 🎉\n",
      "Meeting at 2 PM in the conference room.\n",
      "Hope you have a great day!\n"
     ]
    }
   ],
   "source": [
    "# 8-9. Messages: Make a list containing a series of short text messages. Pass the list to a function called show_messages(), which prints each text message.\n",
    "\n",
    "def show_messages(messages):\n",
    "    \"\"\"Used to display messages\"\"\"\n",
    "    for message in messages:\n",
    "        print(message)\n",
    "\n",
    "# Example list of short text messages\n",
    "text_messages = [\n",
    "    \"Hello, how are you?\",\n",
    "    \"Don't forget to buy milk on your way home.\",\n",
    "    \"Happy birthday! 🎉\",\n",
    "    \"Meeting at 2 PM in the conference room.\",\n",
    "    \"Hope you have a great day!\"\n",
    "]\n",
    "\n",
    "# Call the function to display the messages\n",
    "show_messages(text_messages)\n"
   ]
  },
  {
   "cell_type": "code",
   "execution_count": 10,
   "metadata": {},
   "outputs": [
    {
     "name": "stdout",
     "output_type": "stream",
     "text": [
      "Sending message: Hello, how are you?\n",
      "Sending message: Don't forget to buy milk on your way home.\n",
      "Sending message: Happy birthday! 🎉\n",
      "Sending message: Meeting at 2 PM in the conference room.\n",
      "Sending message: Hope you have a great day!\n",
      "Original messages: []\n",
      "Sent messages: ['Hello, how are you?', \"Don't forget to buy milk on your way home.\", 'Happy birthday! 🎉', 'Meeting at 2 PM in the conference room.', 'Hope you have a great day!']\n"
     ]
    }
   ],
   "source": [
    "# 8-10. Sending Messages: Start with a copy of your program from Exercise 8-9. Write a function called send_messages() that prints each text message and moves each message to a new list called sent_messages as it’s printed. After calling the function, print both of your lists to make sure the messages were moved correctly.\n",
    "\n",
    "def send_messages(messages, sent_messages):\n",
    "    while messages:\n",
    "        current_message = messages.pop(0)\n",
    "        print(f\"Sending message: {current_message}\")\n",
    "        sent_messages.append(current_message)\n",
    "\n",
    "# Example list of short text messages\n",
    "text_messages = [\n",
    "    \"Hello, how are you?\",\n",
    "    \"Don't forget to buy milk on your way home.\",\n",
    "    \"Happy birthday! 🎉\",\n",
    "    \"Meeting at 2 PM in the conference room.\",\n",
    "    \"Hope you have a great day!\"\n",
    "]\n",
    "\n",
    "# Empty list to store sent messages\n",
    "sent_messages = []\n",
    "\n",
    "# Call the function to send and display the messages\n",
    "send_messages(text_messages, sent_messages)\n",
    "\n",
    "# Print both lists to verify\n",
    "print(\"Original messages:\", text_messages)\n",
    "print(\"Sent messages:\", sent_messages)\n"
   ]
  },
  {
   "cell_type": "code",
   "execution_count": 11,
   "metadata": {},
   "outputs": [
    {
     "name": "stdout",
     "output_type": "stream",
     "text": [
      "Sending message: Hello, how are you?\n",
      "Sending message: Don't forget to buy milk on your way home.\n",
      "Sending message: Happy birthday! 🎉\n",
      "Sending message: Meeting at 2 PM in the conference room.\n",
      "Sending message: Hope you have a great day!\n",
      "Archived messages: ['Hello, how are you?', \"Don't forget to buy milk on your way home.\", 'Happy birthday! 🎉', 'Meeting at 2 PM in the conference room.', 'Hope you have a great day!']\n",
      "Sent messages: ['Hello, how are you?', \"Don't forget to buy milk on your way home.\", 'Happy birthday! 🎉', 'Meeting at 2 PM in the conference room.', 'Hope you have a great day!']\n"
     ]
    }
   ],
   "source": [
    "# 8-11. Archived Messages: Start with your work from Exercise 8-10. Call the function send_messages() with a copy of the list of messages. After calling the function, print both of your lists to show that the original list has retained its messages.\n",
    "\n",
    "def send_messages(messages, sent_messages):\n",
    "    while messages:\n",
    "        current_message = messages.pop(0)\n",
    "        print(f\"Sending message: {current_message}\")\n",
    "        sent_messages.append(current_message)\n",
    "\n",
    "# Example list of short text messages\n",
    "text_messages = [\n",
    "    \"Hello, how are you?\",\n",
    "    \"Don't forget to buy milk on your way home.\",\n",
    "    \"Happy birthday! 🎉\",\n",
    "    \"Meeting at 2 PM in the conference room.\",\n",
    "    \"Hope you have a great day!\"\n",
    "]\n",
    "\n",
    "# Create a copy of the original list\n",
    "archived_messages = text_messages.copy()\n",
    "\n",
    "# Empty list to store sent messages\n",
    "sent_messages = []\n",
    "\n",
    "# Call the function to send and display the messages\n",
    "send_messages(archived_messages, sent_messages)\n",
    "\n",
    "# Print both lists to verify\n",
    "print(\"Archived messages:\", text_messages)\n",
    "print(\"Sent messages:\", sent_messages)\n"
   ]
  },
  {
   "cell_type": "code",
   "execution_count": 12,
   "metadata": {},
   "outputs": [
    {
     "name": "stdout",
     "output_type": "stream",
     "text": [
      "Making a sandwich with the following items:\n",
      "- Ham\n",
      "- Cheese\n",
      "- Lettuce\n",
      "Sandwich complete!\n",
      "\n",
      "Making a sandwich with the following items:\n",
      "- Turkey\n",
      "- Swiss\n",
      "Sandwich complete!\n",
      "\n",
      "Making a sandwich with the following items:\n",
      "- PB&J\n",
      "Sandwich complete!\n",
      "\n"
     ]
    }
   ],
   "source": [
    "# 8-12. Sandwiches: Write a function that accepts a list of items a person wants on a sandwich. The function should have one parameter that collects as many items as the function call provides, and it should print a summary of the sandwich that’s being ordered. Call the function three times, using a different number of arguments each time.\n",
    "\n",
    "def make_sandwich(*items):\n",
    "    print(\"Making a sandwich with the following items:\")\n",
    "    for item in items:\n",
    "        print(f\"- {item}\")\n",
    "    print(\"Sandwich complete!\\n\")\n",
    "\n",
    "# Call the function with different numbers of arguments\n",
    "make_sandwich(\"Ham\", \"Cheese\", \"Lettuce\")\n",
    "make_sandwich(\"Turkey\", \"Swiss\")\n",
    "make_sandwich(\"PB&J\")\n"
   ]
  },
  {
   "cell_type": "code",
   "execution_count": 13,
   "metadata": {},
   "outputs": [
    {
     "name": "stdout",
     "output_type": "stream",
     "text": [
      "My Profile:\n",
      "{'first_name': 'Gideon', 'last_name': 'Markus', 'age': 25, 'occupation': 'Software Engineer', 'hobbies': ['Reading', 'Coding', 'Hiking']}\n"
     ]
    }
   ],
   "source": [
    "# 8-13. User Profile: Start with a copy of user_profile.py from page 149. Build a profile of yourself by calling build_profile(), using your first and last names and three other key-value pairs that describe you.\n",
    "\n",
    "def build_profile(first_name, last_name, **additional_info):\n",
    "    profile = {'first_name': first_name, 'last_name': last_name}\n",
    "    profile.update(additional_info)\n",
    "    return profile\n",
    "\n",
    "# Building my profile\n",
    "my_profile = build_profile(\n",
    "    \"Gideon\",\n",
    "    \"Markus\",\n",
    "    age=25,\n",
    "    occupation=\"Software Engineer\",\n",
    "    hobbies=[\"Reading\", \"Coding\", \"Hiking\"]\n",
    ")\n",
    "\n",
    "print(\"My Profile:\")\n",
    "print(my_profile)\n"
   ]
  },
  {
   "cell_type": "code",
   "execution_count": 14,
   "metadata": {},
   "outputs": [
    {
     "name": "stdout",
     "output_type": "stream",
     "text": [
      "{'manufacturer': 'subaru', 'model': 'outback', 'color': 'blue', 'tow_package': True}\n"
     ]
    }
   ],
   "source": [
    "# 8-14. Cars: Write a function that stores information about a car in a dictionary. The function should always receive a manufacturer and a model name. It should then accept an arbitrary number of keyword arguments. Call the function with the required information and two other name-value pairs, such as a color or an optional feature. Your function should work for a call like this one: car = make_car('subaru', 'outback', color='blue', tow_package=True) Print the dictionary that’s returned to make sure all the information was stored correctly.\n",
    "\n",
    "def make_car(manufacturer, model, **car_info):\n",
    "    \"\"\"Creates a car with manufacturer's name, model and other arbitrary number of information \"\"\"\n",
    "    car = {'manufacturer': manufacturer, 'model': model}\n",
    "    car.update(car_info)\n",
    "    return car\n",
    "\n",
    "# Creating a car with additional information\n",
    "car = make_car('subaru', 'outback', color='blue', tow_package=True)\n",
    "\n",
    "# Print the dictionary representing the car\n",
    "print(car)\n"
   ]
  },
  {
   "cell_type": "code",
   "execution_count": 21,
   "metadata": {},
   "outputs": [
    {
     "name": "stdout",
     "output_type": "stream",
     "text": [
      "{'manufacturer': 'Nissan', 'model': 'big for nothing', 'color': 'Gray'}\n"
     ]
    }
   ],
   "source": [
    "# 8-15. Printing Models: Put the functions for the example printing_models.py in a separate file called printing_functions.py. Write an import statement at the top of printing_models.py, and modify the file to use the imported functions.\n",
    "\n",
    "import printing_models as pm\n",
    "\n",
    "car = pm.make_car(\"Nissan\", \"big for nothing\", color = \"Gray\")\n",
    "\n",
    "print(car)"
   ]
  },
  {
   "cell_type": "code",
   "execution_count": 29,
   "metadata": {},
   "outputs": [
    {
     "name": "stdout",
     "output_type": "stream",
     "text": [
      "{'manufacturer': 'IVM', 'model': 'Land cruiser', 'gears': '4WD'}\n",
      "{'manufacturer': 'Peugeot', 'model': '505', 'color': 'Blue'}\n",
      "{'manufacturer': 'Toyota', 'model': 'Camry', 'color': 'Black'}\n",
      "{'manufacturer': 'Honda', 'model': 'EOD', 'color': 'Red'}\n",
      "{'manufacturer': 'Mecedez', 'model': 'C200', 'color': 'Green'}\n"
     ]
    }
   ],
   "source": [
    "# 8-16. Imports: Using a program you wrote that has one function in it, store that function in a separate file. Import the function into your main program file, and call the function using each of these approaches: \n",
    "\n",
    "# import module_name\n",
    "import printing_models\n",
    "\n",
    "car = printing_models.make_car(\"IVM\", \"Land cruiser\", gears = \"4WD\")\n",
    "\n",
    "print(car)\n",
    "\n",
    "# from module_name import function_name\n",
    "from printing_models import make_car\n",
    "\n",
    "car = make_car(\"Peugeot\", \"505\", color = \"Blue\")\n",
    "print(car)\n",
    "\n",
    "# from module_name import function_name as fn\n",
    "from printing_models import make_car as mc\n",
    "\n",
    "car = mc(\"Toyota\", \"Camry\", color = \"Black\")\n",
    "print(car)\n",
    "\n",
    "# import module_name as mn\n",
    "import printing_models as pm\n",
    "\n",
    "car = pm.make_car(\"Honda\", \"EOD\", color = \"Red\")\n",
    "print(car)\n",
    "\n",
    "# from module_name import *\n",
    "from printing_models import *\n",
    "\n",
    "car = make_car(\"Mecedez\", \"C200\", color = \"Green\")\n",
    "print(car)"
   ]
  },
  {
   "cell_type": "code",
   "execution_count": 31,
   "metadata": {},
   "outputs": [
    {
     "name": "stdout",
     "output_type": "stream",
     "text": [
      "{'manufacturer': 'subaru', 'model': 'outback', 'color': 'blue', 'tow_package': True}\n",
      "{'artist': 'Coldplay', 'title': 'A Rush of Blood to the Head'}\n",
      "{'artist': 'Ed Sheeran', 'title': '÷', 'num_songs': 12}\n",
      "{'artist': 'Taylor Swift', 'title': '1989', 'num_songs': 13}\n",
      "Kaduna is in Nigeria\n",
      "Kano is in Nigeria\n",
      "Cairo is in Egypt\n"
     ]
    }
   ],
   "source": [
    "# 8-17. Styling Functions: Choose any three programs you wrote for this chapter, and make sure they follow the styling guidelines described in this section.\n",
    "\n",
    "# Program One\n",
    "def make_car(manufacturer, model, **car_info):\n",
    "    \"\"\"Creates a car with manufacturer's name, model and other arbitrary number of information\"\"\"\n",
    "    car = {'manufacturer': manufacturer, 'model': model}\n",
    "    car.update(car_info)\n",
    "    return car\n",
    "\n",
    "# Creating a car with additional information\n",
    "car = make_car('subaru', 'outback', color='blue', tow_package=True)\n",
    "\n",
    "# Print the dictionary representing the car\n",
    "print(car)\n",
    "\n",
    "# Program Two\n",
    "def make_album(artist, title, num_songs=None):\n",
    "    \"\"\"Creates a dictionary of albums\"\"\"\n",
    "    album_dict = {'artist': artist, 'title': title}\n",
    "    if num_songs:\n",
    "        album_dict['num_songs'] = num_songs\n",
    "    return album_dict\n",
    "\n",
    "# Function Call\n",
    "album1 = make_album(\"Coldplay\", \"A Rush of Blood to the Head\")\n",
    "album2 = make_album(\"Ed Sheeran\", \"÷\", num_songs=12)\n",
    "album3 = make_album(\"Taylor Swift\", \"1989\", num_songs=13)\n",
    "\n",
    "print(album1)\n",
    "print(album2)\n",
    "print(album3)\n",
    "\n",
    "# Program Three\n",
    "def describe_city(city, country=\"Nigeria\"):\n",
    "    \"\"\"Describes location of cities and their respective countries\"\"\"\n",
    "    print(f\"{city} is in {country}\")\n",
    "\n",
    "describe_city(\"Kaduna\")\n",
    "describe_city(\"Kano\")\n",
    "describe_city(\"Cairo\", \"Egypt\")"
   ]
  }
 ],
 "metadata": {
  "kernelspec": {
   "display_name": "Python 3",
   "language": "python",
   "name": "python3"
  },
  "language_info": {
   "codemirror_mode": {
    "name": "ipython",
    "version": 3
   },
   "file_extension": ".py",
   "mimetype": "text/x-python",
   "name": "python",
   "nbconvert_exporter": "python",
   "pygments_lexer": "ipython3",
   "version": "3.12.0"
  }
 },
 "nbformat": 4,
 "nbformat_minor": 2
}
