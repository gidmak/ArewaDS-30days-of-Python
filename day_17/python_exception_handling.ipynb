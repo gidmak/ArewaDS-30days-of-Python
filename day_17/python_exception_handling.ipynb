{
 "cells": [
  {
   "cell_type": "markdown",
   "id": "93451196",
   "metadata": {},
   "source": [
    "### Day 17 of 30 Days of Python"
   ]
  },
  {
   "cell_type": "code",
   "execution_count": 2,
   "id": "a11a4c49",
   "metadata": {},
   "outputs": [],
   "source": [
    "# Unpack the first five countries and store them in a variable nordic_countries, store Estonia and Russia in es, and ru respectively."
   ]
  },
  {
   "cell_type": "code",
   "execution_count": 5,
   "id": "24714c51",
   "metadata": {},
   "outputs": [
    {
     "name": "stdout",
     "output_type": "stream",
     "text": [
      "['Finland', 'Sweden', 'Norway', 'Denmark', 'Iceland']\n",
      "Estonia\n",
      "Russia\n"
     ]
    }
   ],
   "source": [
    "names = ['Finland', 'Sweden', 'Norway','Denmark','Iceland', 'Estonia','Russia']\n",
    "*nordic_countries, es, ru = names\n",
    "print(nordic_countries)\n",
    "print(es)\n",
    "print(ru)"
   ]
  },
  {
   "cell_type": "code",
   "execution_count": null,
   "id": "889af543",
   "metadata": {},
   "outputs": [],
   "source": []
  }
 ],
 "metadata": {
  "kernelspec": {
   "display_name": "Python 3 (ipykernel)",
   "language": "python",
   "name": "python3"
  },
  "language_info": {
   "codemirror_mode": {
    "name": "ipython",
    "version": 3
   },
   "file_extension": ".py",
   "mimetype": "text/x-python",
   "name": "python",
   "nbconvert_exporter": "python",
   "pygments_lexer": "ipython3",
   "version": "3.9.13"
  }
 },
 "nbformat": 4,
 "nbformat_minor": 5
}
