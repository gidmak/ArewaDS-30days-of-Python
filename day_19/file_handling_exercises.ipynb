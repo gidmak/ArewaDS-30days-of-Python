{
 "cells": [
  {
   "cell_type": "markdown",
   "metadata": {},
   "source": [
    "### Day 19 of 30 Days of Python"
   ]
  },
  {
   "cell_type": "markdown",
   "metadata": {},
   "source": [
    "#### Exercises Level: 1"
   ]
  },
  {
   "cell_type": "code",
   "execution_count": 97,
   "metadata": {},
   "outputs": [
    {
     "ename": "FileNotFoundError",
     "evalue": "[Errno 2] No such file or directory: '../data/obama_speech.txt'",
     "output_type": "error",
     "traceback": [
      "\u001b[1;31m---------------------------------------------------------------------------\u001b[0m",
      "\u001b[1;31mFileNotFoundError\u001b[0m                         Traceback (most recent call last)",
      "Cell \u001b[1;32mIn[97], line 24\u001b[0m\n\u001b[0;32m     21\u001b[0m     \u001b[38;5;28;01mreturn\u001b[39;00m num_lines, num_words\n\u001b[0;32m     23\u001b[0m \u001b[38;5;66;03m# Function calls\u001b[39;00m\n\u001b[1;32m---> 24\u001b[0m num_lines, num_words \u001b[38;5;241m=\u001b[39m \u001b[43mcount_lines_and_words\u001b[49m\u001b[43m(\u001b[49m\u001b[38;5;124;43m\"\u001b[39;49m\u001b[38;5;124;43m../data/obama_speech.txt\u001b[39;49m\u001b[38;5;124;43m\"\u001b[39;49m\u001b[43m)\u001b[49m\n\u001b[0;32m     25\u001b[0m \u001b[38;5;28mprint\u001b[39m(\u001b[38;5;124mf\u001b[39m\u001b[38;5;124m\"\u001b[39m\u001b[38;5;124mThere are \u001b[39m\u001b[38;5;132;01m{\u001b[39;00mnum_lines\u001b[38;5;132;01m}\u001b[39;00m\u001b[38;5;124m lines and \u001b[39m\u001b[38;5;132;01m{\u001b[39;00mnum_words\u001b[38;5;132;01m}\u001b[39;00m\u001b[38;5;124m words in Obama\u001b[39m\u001b[38;5;124m'\u001b[39m\u001b[38;5;124ms speech\u001b[39m\u001b[38;5;124m\"\u001b[39m)\n\u001b[0;32m     26\u001b[0m num_lines, num_words \u001b[38;5;241m=\u001b[39m count_lines_and_words(\u001b[38;5;124m\"\u001b[39m\u001b[38;5;124m../data/donald_speech.txt\u001b[39m\u001b[38;5;124m\"\u001b[39m)\n",
      "Cell \u001b[1;32mIn[97], line 10\u001b[0m, in \u001b[0;36mcount_lines_and_words\u001b[1;34m(file_path)\u001b[0m\n\u001b[0;32m      7\u001b[0m \u001b[38;5;28;01mdef\u001b[39;00m \u001b[38;5;21mcount_lines_and_words\u001b[39m(file_path):\n\u001b[0;32m      8\u001b[0m \n\u001b[0;32m      9\u001b[0m     \u001b[38;5;66;03m# Read file\u001b[39;00m\n\u001b[1;32m---> 10\u001b[0m     \u001b[38;5;28;01mwith\u001b[39;00m \u001b[38;5;28;43mopen\u001b[39;49m\u001b[43m(\u001b[49m\u001b[43mfile_path\u001b[49m\u001b[43m,\u001b[49m\u001b[43m \u001b[49m\u001b[38;5;124;43m'\u001b[39;49m\u001b[38;5;124;43mr\u001b[39;49m\u001b[38;5;124;43m'\u001b[39;49m\u001b[43m)\u001b[49m \u001b[38;5;28;01mas\u001b[39;00m file:\n\u001b[0;32m     11\u001b[0m         txt \u001b[38;5;241m=\u001b[39m file\u001b[38;5;241m.\u001b[39mread()\n\u001b[0;32m     13\u001b[0m     \u001b[38;5;66;03m# Count the number of lines\u001b[39;00m\n",
      "File \u001b[1;32m~\\AppData\\Roaming\\Python\\Python312\\site-packages\\IPython\\core\\interactiveshell.py:310\u001b[0m, in \u001b[0;36m_modified_open\u001b[1;34m(file, *args, **kwargs)\u001b[0m\n\u001b[0;32m    303\u001b[0m \u001b[38;5;28;01mif\u001b[39;00m file \u001b[38;5;129;01min\u001b[39;00m {\u001b[38;5;241m0\u001b[39m, \u001b[38;5;241m1\u001b[39m, \u001b[38;5;241m2\u001b[39m}:\n\u001b[0;32m    304\u001b[0m     \u001b[38;5;28;01mraise\u001b[39;00m \u001b[38;5;167;01mValueError\u001b[39;00m(\n\u001b[0;32m    305\u001b[0m         \u001b[38;5;124mf\u001b[39m\u001b[38;5;124m\"\u001b[39m\u001b[38;5;124mIPython won\u001b[39m\u001b[38;5;124m'\u001b[39m\u001b[38;5;124mt let you open fd=\u001b[39m\u001b[38;5;132;01m{\u001b[39;00mfile\u001b[38;5;132;01m}\u001b[39;00m\u001b[38;5;124m by default \u001b[39m\u001b[38;5;124m\"\u001b[39m\n\u001b[0;32m    306\u001b[0m         \u001b[38;5;124m\"\u001b[39m\u001b[38;5;124mas it is likely to crash IPython. If you know what you are doing, \u001b[39m\u001b[38;5;124m\"\u001b[39m\n\u001b[0;32m    307\u001b[0m         \u001b[38;5;124m\"\u001b[39m\u001b[38;5;124myou can use builtins\u001b[39m\u001b[38;5;124m'\u001b[39m\u001b[38;5;124m open.\u001b[39m\u001b[38;5;124m\"\u001b[39m\n\u001b[0;32m    308\u001b[0m     )\n\u001b[1;32m--> 310\u001b[0m \u001b[38;5;28;01mreturn\u001b[39;00m \u001b[43mio_open\u001b[49m\u001b[43m(\u001b[49m\u001b[43mfile\u001b[49m\u001b[43m,\u001b[49m\u001b[43m \u001b[49m\u001b[38;5;241;43m*\u001b[39;49m\u001b[43margs\u001b[49m\u001b[43m,\u001b[49m\u001b[43m \u001b[49m\u001b[38;5;241;43m*\u001b[39;49m\u001b[38;5;241;43m*\u001b[39;49m\u001b[43mkwargs\u001b[49m\u001b[43m)\u001b[49m\n",
      "\u001b[1;31mFileNotFoundError\u001b[0m: [Errno 2] No such file or directory: '../data/obama_speech.txt'"
     ]
    }
   ],
   "source": [
    "# Write a function which count number of lines and number of words in a text\n",
    "# file_path = '../data/donald_speech.txt'\n",
    "# with open(file_path, \"r\") as file:\n",
    "#     txt = file.read()\n",
    "\n",
    "# Declare a function\n",
    "def count_lines_and_words(file_path):\n",
    "\n",
    "    # Read file\n",
    "    with open(file_path, 'r') as file:\n",
    "        txt = file.read()\n",
    "    \n",
    "    # Count the number of lines\n",
    "    lines = txt.split(\"\\n\")\n",
    "    num_lines = len(lines)\n",
    "\n",
    "    # Count the number of words\n",
    "    words = txt.split()\n",
    "    num_words = len(words)\n",
    "\n",
    "    return num_lines, num_words\n",
    "\n",
    "# Function calls\n",
    "num_lines, num_words = count_lines_and_words(\"../data/obama_speech.txt\")\n",
    "print(f\"There are {num_lines} lines and {num_words} words in Obama's speech\")\n",
    "num_lines, num_words = count_lines_and_words(\"../data/donald_speech.txt\")\n",
    "print(f\"There are {num_lines} lines and {num_words} words in Donald's speech\")\n",
    "num_lines, num_words = count_lines_and_words(\"../data/michelle_obama_speech.txt\")\n",
    "print(f\"There are {num_lines} lines and {num_words} words in Michelle's speech\")\n",
    "num_lines, num_words = count_lines_and_words(\"../data/melina_trump_speech.txt\")\n",
    "print(f\"There are {num_lines} lines and {num_words} words in Melina's speech\")"
   ]
  },
  {
   "cell_type": "markdown",
   "metadata": {},
   "source": []
  },
  {
   "cell_type": "code",
   "execution_count": null,
   "metadata": {},
   "outputs": [
    {
     "name": "stdout",
     "output_type": "stream",
     "text": [
      "Top 10 Most Spoken Languages:\n",
      "English: 91\n",
      "French: 45\n",
      "Arabic: 25\n",
      "Spanish: 24\n",
      "Portuguese: 9\n",
      "Russian: 9\n",
      "Dutch: 8\n",
      "German: 7\n",
      "Chinese: 5\n",
      "Serbian: 4\n"
     ]
    }
   ],
   "source": [
    "# Read the countries_data.json data file in data directory, create a function that finds the ten most spoken languages\n",
    "\n",
    "import json\n",
    "\n",
    "# Declare a function that returns top languages\n",
    "def find_most_spoken_languages(file_path, top_n=10):\n",
    "    with open(file_path, 'r', encoding='utf-8') as file:\n",
    "        countries_data = json.load(file)\n",
    "\n",
    "    all_languages = []\n",
    "    for country in countries_data:\n",
    "        all_languages.extend(country['languages'])\n",
    "\n",
    "    language_counts = {}\n",
    "    for language in all_languages:\n",
    "        language_counts[language] = language_counts.get(language, 0) + 1\n",
    "\n",
    "    # Sort the languages by count in descending order\n",
    "    sorted_languages = sorted(language_counts.items(), key=lambda x: x[1], reverse=True)\n",
    "\n",
    "    # Take the top N languages\n",
    "    top_languages = sorted_languages[:top_n]\n",
    "\n",
    "    return top_languages\n",
    "\n",
    "# Funtion call\n",
    "file_path = \"../data/countries_data.json\"\n",
    "most_spoken_languages = find_most_spoken_languages(file_path)\n",
    "\n",
    "print(\"Top 10 Most Spoken Languages:\")\n",
    "for language, count in most_spoken_languages:\n",
    "    print(f\"{language}: {count}\")\n"
   ]
  },
  {
   "cell_type": "code",
   "execution_count": null,
   "metadata": {},
   "outputs": [
    {
     "name": "stdout",
     "output_type": "stream",
     "text": [
      "[{'country': 'China', 'population': 1377422166}, {'country': 'India', 'population': 1295210000}, {'country': 'United States of America', 'population': 323947000}, {'country': 'Indonesia', 'population': 258705000}, {'country': 'Brazil', 'population': 206135893}, {'country': 'Pakistan', 'population': 194125062}, {'country': 'Nigeria', 'population': 186988000}, {'country': 'Bangladesh', 'population': 161006790}, {'country': 'Russian Federation', 'population': 146599183}, {'country': 'Japan', 'population': 126960000}]\n"
     ]
    }
   ],
   "source": [
    "# Read the countries_data.json data file in data directory, create a function that creates a list of the ten most \n",
    "# populated countries\n",
    "\n",
    "import json\n",
    "\n",
    "def most_populated_countries(filename, top_n):\n",
    "    with open(filename, 'r', encoding='utf-8') as file:\n",
    "        data = json.load(file)\n",
    "\n",
    "    # Sort countries by population in descending order\n",
    "    sorted_countries = sorted(data, key=lambda x: x['population'], reverse=True)\n",
    "\n",
    "    # Take the top n countries\n",
    "    top_countries = sorted_countries[:top_n]\n",
    "\n",
    "    # Create a list of dictionaries with 'country' and 'population' keys\n",
    "    result = [{'country': country['name'], 'population': country['population']} for country in top_countries]\n",
    "\n",
    "    return result\n",
    "\n",
    "# Example usage\n",
    "output = most_populated_countries(filename='../data/countries_data.json', top_n=10)\n",
    "print(output)\n"
   ]
  },
  {
   "cell_type": "code",
   "execution_count": null,
   "metadata": {},
   "outputs": [
    {
     "name": "stdout",
     "output_type": "stream",
     "text": [
      "['stephen.marquard@uct.ac.za', 'louis@media.berkeley.edu', 'zqian@umich.edu', 'rjlowe@iupui.edu', 'zqian@umich.edu', 'rjlowe@iupui.edu', 'cwen@iupui.edu', 'cwen@iupui.edu', 'gsilver@umich.edu', 'gsilver@umich.edu', 'zqian@umich.edu', 'gsilver@umich.edu', 'wagnermr@iupui.edu', 'zqian@umich.edu', 'antranig@caret.cam.ac.uk', 'gopal.ramasammycook@gmail.com', 'david.horwitz@uct.ac.za', 'david.horwitz@uct.ac.za', 'david.horwitz@uct.ac.za', 'david.horwitz@uct.ac.za', 'stephen.marquard@uct.ac.za', 'louis@media.berkeley.edu', 'louis@media.berkeley.edu', 'ray@media.berkeley.edu', 'cwen@iupui.edu', 'cwen@iupui.edu', 'cwen@iupui.edu', 'ray@media.berkeley.edu', 'cwen@iupui.edu', 'zqian@umich.edu', 'cwen@iupui.edu', 'zqian@umich.edu', 'zqian@umich.edu', 'zqian@umich.edu', 'mmmay@indiana.edu', 'cwen@iupui.edu', 'zqian@umich.edu', 'zqian@umich.edu', 'zqian@umich.edu', 'cwen@iupui.edu', 'zqian@umich.edu', 'cwen@iupui.edu', 'ray@media.berkeley.edu', 'zqian@umich.edu', 'zqian@umich.edu', 'zqian@umich.edu', 'cwen@iupui.edu', 'zqian@umich.edu', 'gopal.ramasammycook@gmail.com', 'gsilver@umich.edu', 'gsilver@umich.edu', 'stuart.freeman@et.gatech.edu', 'zqian@umich.edu', 'gsilver@umich.edu', 'gsilver@umich.edu', 'gsilver@umich.edu', 'zqian@umich.edu', 'wagnermr@iupui.edu', 'stuart.freeman@et.gatech.edu', 'tnguyen@iupui.edu', 'stuart.freeman@et.gatech.edu', 'wagnermr@iupui.edu', 'gopal.ramasammycook@gmail.com', 'ray@media.berkeley.edu', 'ray@media.berkeley.edu', 'zqian@umich.edu', 'wagnermr@iupui.edu', 'stuart.freeman@et.gatech.edu', 'chmaurer@iupui.edu', 'stuart.freeman@et.gatech.edu', 'rjlowe@iupui.edu', 'zqian@umich.edu', 'rjlowe@iupui.edu', 'rjlowe@iupui.edu', 'zqian@umich.edu', 'rjlowe@iupui.edu', 'rjlowe@iupui.edu', 'rjlowe@iupui.edu', 'david.horwitz@uct.ac.za', 'david.horwitz@uct.ac.za', 'david.horwitz@uct.ac.za', 'david.horwitz@uct.ac.za', 'aaronz@vt.edu', 'david.horwitz@uct.ac.za', 'david.horwitz@uct.ac.za', 'david.horwitz@uct.ac.za', 'david.horwitz@uct.ac.za', 'david.horwitz@uct.ac.za', 'gopal.ramasammycook@gmail.com', 'david.horwitz@uct.ac.za', 'david.horwitz@uct.ac.za', 'david.horwitz@uct.ac.za', 'david.horwitz@uct.ac.za', 'david.horwitz@uct.ac.za', 'david.horwitz@uct.ac.za', 'david.horwitz@uct.ac.za', 'david.horwitz@uct.ac.za', 'ian@caret.cam.ac.uk', 'ian@caret.cam.ac.uk', 'zqian@umich.edu', 'zqian@umich.edu', 'zqian@umich.edu', 'zqian@umich.edu', 'zqian@umich.edu', 'rjlowe@iupui.edu', 'wagnermr@iupui.edu', 'csev@umich.edu', 'csev@umich.edu', 'csev@umich.edu', 'rjlowe@iupui.edu', 'jimeng@umich.edu', 'csev@umich.edu', 'csev@umich.edu', 'gsilver@umich.edu', 'ian@caret.cam.ac.uk', 'csev@umich.edu', 'csev@umich.edu', 'csev@umich.edu', 'josrodri@iupui.edu', 'josrodri@iupui.edu', 'csev@umich.edu', 'ian@caret.cam.ac.uk', 'csev@umich.edu', 'zqian@umich.edu', 'zqian@umich.edu', 'knoop@umich.edu', 'knoop@umich.edu', 'knoop@umich.edu', 'knoop@umich.edu', 'knoop@umich.edu', 'cwen@iupui.edu', 'jimeng@umich.edu', 'jimeng@umich.edu', 'csev@umich.edu', 'csev@umich.edu', 'csev@umich.edu', 'csev@umich.edu', 'csev@umich.edu', 'csev@umich.edu', 'jimeng@umich.edu', 'jimeng@umich.edu', 'bkirschn@umich.edu', 'jimeng@umich.edu', 'ian@caret.cam.ac.uk', 'stephen.marquard@uct.ac.za', 'stephen.marquard@uct.ac.za', 'ian@caret.cam.ac.uk', 'jimeng@umich.edu', 'jimeng@umich.edu', 'ray@media.berkeley.edu', 'ian@caret.cam.ac.uk', 'ian@caret.cam.ac.uk', 'stuart.freeman@et.gatech.edu', 'bkirschn@umich.edu', 'zqian@umich.edu', 'louis@media.berkeley.edu', 'dlhaines@umich.edu', 'bkirschn@umich.edu', 'dlhaines@umich.edu', 'dlhaines@umich.edu', 'zqian@umich.edu', 'bkirschn@umich.edu', 'cwen@iupui.edu', 'cwen@iupui.edu', 'bkirschn@umich.edu', 'bkirschn@umich.edu', 'david.horwitz@uct.ac.za', 'david.horwitz@uct.ac.za', 'david.horwitz@uct.ac.za', 'david.horwitz@uct.ac.za', 'david.horwitz@uct.ac.za', 'stephen.marquard@uct.ac.za', 'david.horwitz@uct.ac.za', 'bkirschn@umich.edu', 'cwen@iupui.edu', 'cwen@iupui.edu', 'cwen@iupui.edu', 'cwen@iupui.edu', 'david.horwitz@uct.ac.za', 'david.horwitz@uct.ac.za', 'david.horwitz@uct.ac.za', 'david.horwitz@uct.ac.za', 'david.horwitz@uct.ac.za', 'david.horwitz@uct.ac.za', 'david.horwitz@uct.ac.za', 'david.horwitz@uct.ac.za', 'david.horwitz@uct.ac.za', 'dlhaines@umich.edu', 'josrodri@iupui.edu', 'dlhaines@umich.edu', 'dlhaines@umich.edu', 'dlhaines@umich.edu', 'hu2@iupui.edu', 'louis@media.berkeley.edu', 'bkirschn@umich.edu', 'josrodri@iupui.edu', 'louis@media.berkeley.edu', 'zqian@umich.edu', 'cwen@iupui.edu', 'cwen@iupui.edu', 'cwen@iupui.edu', 'cwen@iupui.edu', 'josrodri@iupui.edu', 'cwen@iupui.edu', 'cwen@iupui.edu', 'hu2@iupui.edu', 'cwen@iupui.edu', 'tnguyen@iupui.edu', 'sgithens@caret.cam.ac.uk', 'arwhyte@umich.edu', 'rjlowe@iupui.edu', 'cwen@iupui.edu', 'cwen@iupui.edu', 'cwen@iupui.edu', 'zqian@umich.edu', 'david.horwitz@uct.ac.za', 'josrodri@iupui.edu', 'sgithens@caret.cam.ac.uk', 'sgithens@caret.cam.ac.uk', 'sgithens@caret.cam.ac.uk', 'sgithens@caret.cam.ac.uk', 'sgithens@caret.cam.ac.uk', 'sgithens@caret.cam.ac.uk', 'sgithens@caret.cam.ac.uk', 'sgithens@caret.cam.ac.uk', 'sgithens@caret.cam.ac.uk', 'sgithens@caret.cam.ac.uk', 'sgithens@caret.cam.ac.uk', 'sgithens@caret.cam.ac.uk', 'sgithens@caret.cam.ac.uk', 'sgithens@caret.cam.ac.uk', 'sgithens@caret.cam.ac.uk', 'sgithens@caret.cam.ac.uk', 'sgithens@caret.cam.ac.uk', 'david.horwitz@uct.ac.za', 'dlhaines@umich.edu', 'stephen.marquard@uct.ac.za', 'david.horwitz@uct.ac.za', 'david.horwitz@uct.ac.za', 'stephen.marquard@uct.ac.za', 'stephen.marquard@uct.ac.za', 'david.horwitz@uct.ac.za', 'david.horwitz@uct.ac.za', 'zqian@umich.edu', 'zqian@umich.edu', 'gbhatnag@umich.edu', 'dlhaines@umich.edu', 'jimeng@umich.edu', 'cwen@iupui.edu', 'cwen@iupui.edu', 'cwen@iupui.edu', 'cwen@iupui.edu', 'cwen@iupui.edu', 'ray@media.berkeley.edu', 'rjlowe@iupui.edu', 'jimeng@umich.edu', 'wagnermr@iupui.edu', 'cwen@iupui.edu', 'cwen@iupui.edu', 'wagnermr@iupui.edu', 'cwen@iupui.edu', 'gsilver@umich.edu', 'gsilver@umich.edu', 'gsilver@umich.edu', 'cwen@iupui.edu', 'cwen@iupui.edu', 'cwen@iupui.edu', 'stephen.marquard@uct.ac.za', 'gjthomas@iupui.edu', 'dlhaines@umich.edu', 'zqian@umich.edu', 'cwen@iupui.edu', 'jimeng@umich.edu', 'a.fish@lancaster.ac.uk', 'a.fish@lancaster.ac.uk', 'cwen@iupui.edu', 'gsilver@umich.edu', 'cwen@iupui.edu', 'stuart.freeman@et.gatech.edu', 'wagnermr@iupui.edu', 'stuart.freeman@et.gatech.edu', 'stephen.marquard@uct.ac.za', 'stephen.marquard@uct.ac.za', 'stephen.marquard@uct.ac.za', 'stephen.marquard@uct.ac.za', 'stephen.marquard@uct.ac.za', 'louis@media.berkeley.edu', 'gsilver@umich.edu', 'cwen@iupui.edu', 'cwen@iupui.edu', 'tnguyen@iupui.edu', 'cwen@iupui.edu', 'bkirschn@umich.edu', 'cwen@iupui.edu', 'chmaurer@iupui.edu', 'tnguyen@iupui.edu', 'cwen@iupui.edu', 'tnguyen@iupui.edu', 'cwen@iupui.edu', 'dlhaines@umich.edu', 'cwen@iupui.edu', 'jimeng@umich.edu', 'jimeng@umich.edu', 'cwen@iupui.edu', 'cwen@iupui.edu', 'ajpoland@iupui.edu', 'josrodri@iupui.edu', 'gjthomas@iupui.edu', 'gjthomas@iupui.edu', 'gjthomas@iupui.edu', 'gjthomas@iupui.edu', 'gjthomas@iupui.edu', 'dlhaines@umich.edu', 'gjthomas@iupui.edu', 'gjthomas@iupui.edu', 'gjthomas@iupui.edu', 'gjthomas@iupui.edu', 'gjthomas@iupui.edu', 'gjthomas@iupui.edu', 'gsilver@umich.edu', 'ian@caret.cam.ac.uk', 'cwen@iupui.edu', 'cwen@iupui.edu', 'lance@indiana.edu', 'lance@indiana.edu', 'dlhaines@umich.edu', 'lance@indiana.edu', 'chmaurer@iupui.edu', 'ian@caret.cam.ac.uk', 'lance@indiana.edu', 'lance@indiana.edu', 'cwen@iupui.edu', 'cwen@iupui.edu', 'cwen@iupui.edu', 'ajpoland@iupui.edu', 'cwen@iupui.edu', 'gjthomas@iupui.edu', 'gjthomas@iupui.edu', 'stephen.marquard@uct.ac.za', 'chmaurer@iupui.edu', 'chmaurer@iupui.edu', 'chmaurer@iupui.edu', 'stephen.marquard@uct.ac.za', 'stephen.marquard@uct.ac.za', 'stephen.marquard@uct.ac.za', 'stephen.marquard@uct.ac.za', 'stephen.marquard@uct.ac.za', 'stephen.marquard@uct.ac.za', 'stephen.marquard@uct.ac.za', 'stephen.marquard@uct.ac.za', 'stephen.marquard@uct.ac.za', 'stephen.marquard@uct.ac.za', 'stephen.marquard@uct.ac.za', 'stephen.marquard@uct.ac.za', 'ian@caret.cam.ac.uk', 'rjlowe@iupui.edu', 'wagnermr@iupui.edu', 'arwhyte@umich.edu', 'arwhyte@umich.edu', 'louis@media.berkeley.edu', 'ian@caret.cam.ac.uk', 'wagnermr@iupui.edu', 'wagnermr@iupui.edu', 'gsilver@umich.edu', 'wagnermr@iupui.edu', 'zqian@umich.edu', 'wagnermr@iupui.edu', 'stuart.freeman@et.gatech.edu', 'cwen@iupui.edu', 'mmmay@indiana.edu', 'mmmay@indiana.edu', 'ssmail@indiana.edu', 'cwen@iupui.edu', 'mmmay@indiana.edu', 'mmmay@indiana.edu', 'cwen@iupui.edu', 'wagnermr@iupui.edu', 'rjlowe@iupui.edu', 'dlhaines@umich.edu', 'jlrenfro@ucdavis.edu', 'cwen@iupui.edu', 'zqian@umich.edu', 'arwhyte@umich.edu', 'cwen@iupui.edu', 'cwen@iupui.edu', 'nuno@ufp.pt', 'wagnermr@iupui.edu', 'ian@caret.cam.ac.uk', 'ian@caret.cam.ac.uk', 'ian@caret.cam.ac.uk', 'ian@caret.cam.ac.uk', 'nuno@ufp.pt', 'ian@caret.cam.ac.uk', 'ian@caret.cam.ac.uk', 'cwen@iupui.edu', 'cwen@iupui.edu', 'arwhyte@umich.edu', 'arwhyte@umich.edu', 'rjlowe@iupui.edu', 'wagnermr@iupui.edu', 'gjthomas@iupui.edu', 'nuno@ufp.pt', 'wagnermr@iupui.edu', 'cwen@iupui.edu', 'ian@caret.cam.ac.uk', 'cwen@iupui.edu', 'cwen@iupui.edu', 'ian@caret.cam.ac.uk', 'ian@caret.cam.ac.uk', 'sgithens@caret.cam.ac.uk', 'arwhyte@umich.edu', 'arwhyte@umich.edu', 'zach.thomas@txstate.edu', 'zach.thomas@txstate.edu', 'zach.thomas@txstate.edu', 'zach.thomas@txstate.edu', 'zach.thomas@txstate.edu', 'zach.thomas@txstate.edu', 'zach.thomas@txstate.edu', 'zach.thomas@txstate.edu', 'jimeng@umich.edu', 'jimeng@umich.edu', 'arwhyte@umich.edu', 'josrodri@iupui.edu', 'arwhyte@umich.edu', 'josrodri@iupui.edu', 'stephen.marquard@uct.ac.za', 'stephen.marquard@uct.ac.za', 'gjthomas@iupui.edu', 'cwen@iupui.edu', 'cwen@iupui.edu', 'cwen@iupui.edu', 'cwen@iupui.edu', 'gjthomas@iupui.edu', 'cwen@iupui.edu', 'cwen@iupui.edu', 'cwen@iupui.edu', 'cwen@iupui.edu', 'cwen@iupui.edu', 'cwen@iupui.edu', 'cwen@iupui.edu', 'cwen@iupui.edu', 'cwen@iupui.edu', 'cwen@iupui.edu', 'cwen@iupui.edu', 'cwen@iupui.edu', 'ian@caret.cam.ac.uk', 'cwen@iupui.edu', 'tnguyen@iupui.edu', 'cwen@iupui.edu', 'cwen@iupui.edu', 'cwen@iupui.edu', 'ian@caret.cam.ac.uk', 'cwen@iupui.edu', 'ian@caret.cam.ac.uk', 'ian@caret.cam.ac.uk', 'mmmay@indiana.edu', 'louis@media.berkeley.edu', 'louis@media.berkeley.edu', 'louis@media.berkeley.edu', 'cwen@iupui.edu', 'louis@media.berkeley.edu', 'louis@media.berkeley.edu', 'cwen@iupui.edu', 'cwen@iupui.edu', 'louis@media.berkeley.edu', 'louis@media.berkeley.edu', 'louis@media.berkeley.edu', 'louis@media.berkeley.edu', 'cwen@iupui.edu', 'bkirschn@umich.edu', 'ian@caret.cam.ac.uk', 'cwen@iupui.edu', 'cwen@iupui.edu', 'cwen@iupui.edu', 'cwen@iupui.edu', 'cwen@iupui.edu', 'cwen@iupui.edu', 'cwen@iupui.edu', 'dlhaines@umich.edu', 'zqian@umich.edu', 'mmmay@indiana.edu', 'cwen@iupui.edu', 'mmmay@indiana.edu', 'cwen@iupui.edu', 'cwen@iupui.edu', 'lance@indiana.edu', 'cwen@iupui.edu', 'cwen@iupui.edu', 'cwen@iupui.edu', 'cwen@iupui.edu', 'cwen@iupui.edu', 'josrodri@iupui.edu', 'cwen@iupui.edu', 'cwen@iupui.edu', 'cwen@iupui.edu', 'cwen@iupui.edu', 'cwen@iupui.edu', 'cwen@iupui.edu', 'cwen@iupui.edu', 'cwen@iupui.edu', 'cwen@iupui.edu', 'cwen@iupui.edu', 'cwen@iupui.edu', 'cwen@iupui.edu', 'cwen@iupui.edu', 'cwen@iupui.edu', 'david.horwitz@uct.ac.za', 'rjlowe@iupui.edu', 'sgithens@caret.cam.ac.uk', 'louis@media.berkeley.edu', 'louis@media.berkeley.edu', 'ktsao@stanford.edu', 'ray@media.berkeley.edu', 'ian@caret.cam.ac.uk', 'ian@caret.cam.ac.uk', 'ian@caret.cam.ac.uk', 'ian@caret.cam.ac.uk', 'cwen@iupui.edu', 'arwhyte@umich.edu', 'arwhyte@umich.edu', 'ostermmg@whitman.edu', 'zqian@umich.edu', 'zqian@umich.edu', 'mmmay@indiana.edu', 'mmmay@indiana.edu', 'gsilver@umich.edu', 'gsilver@umich.edu', 'mmmay@indiana.edu', 'mmmay@indiana.edu', 'zqian@umich.edu', 'zqian@umich.edu', 'mmmay@indiana.edu', 'zqian@umich.edu', 'dlhaines@umich.edu', 'gopal.ramasammycook@gmail.com', 'jimeng@umich.edu', 'josrodri@iupui.edu', 'nuno@ufp.pt', 'nuno@ufp.pt', 'nuno@ufp.pt', 'nuno@ufp.pt', 'nuno@ufp.pt', 'nuno@ufp.pt', 'nuno@ufp.pt', 'nuno@ufp.pt', 'nuno@ufp.pt', 'nuno@ufp.pt', 'nuno@ufp.pt', 'nuno@ufp.pt', 'nuno@ufp.pt', 'nuno@ufp.pt', 'nuno@ufp.pt', 'nuno@ufp.pt', 'nuno@ufp.pt', 'nuno@ufp.pt', 'nuno@ufp.pt', 'nuno@ufp.pt', 'nuno@ufp.pt', 'wagnermr@iupui.edu', 'cwen@iupui.edu', 'ian@caret.cam.ac.uk', 'ian@caret.cam.ac.uk', 'gopal.ramasammycook@gmail.com', 'stuart.freeman@et.gatech.edu', 'cwen@iupui.edu', 'ian@caret.cam.ac.uk', 'ian@caret.cam.ac.uk', 'mmmay@indiana.edu', 'mmmay@indiana.edu', 'mmmay@indiana.edu', 'mmmay@indiana.edu', 'mmmay@indiana.edu', 'mmmay@indiana.edu', 'mmmay@indiana.edu', 'mmmay@indiana.edu', 'mmmay@indiana.edu', 'mmmay@indiana.edu', 'gjthomas@iupui.edu', 'gjthomas@iupui.edu', 'dlhaines@umich.edu', 'dlhaines@umich.edu', 'chmaurer@iupui.edu', 'zqian@umich.edu', 'jimeng@umich.edu', 'gjthomas@iupui.edu', 'gjthomas@iupui.edu', 'jimeng@umich.edu', 'zqian@umich.edu', 'cwen@iupui.edu', 'arwhyte@umich.edu', 'chmaurer@iupui.edu', 'cwen@iupui.edu', 'chmaurer@iupui.edu', 'chmaurer@iupui.edu', 'gjthomas@iupui.edu', 'dlhaines@umich.edu', 'dlhaines@umich.edu', 'josrodri@iupui.edu', 'dlhaines@umich.edu', 'jimeng@umich.edu', 'dlhaines@umich.edu', 'jimeng@umich.edu', 'ray@media.berkeley.edu', 'chmaurer@iupui.edu', 'cwen@iupui.edu', 'wagnermr@iupui.edu', 'cwen@iupui.edu', 'ssmail@indiana.edu', 'chmaurer@iupui.edu', 'chmaurer@iupui.edu', 'chmaurer@iupui.edu', 'josrodri@iupui.edu', 'sgithens@caret.cam.ac.uk', 'jimeng@umich.edu', 'jimeng@umich.edu', 'ktsao@stanford.edu', 'ray@media.berkeley.edu', 'ray@media.berkeley.edu', 'jimeng@umich.edu', 'louis@media.berkeley.edu', 'ktsao@stanford.edu', 'gbhatnag@umich.edu', 'ktsao@stanford.edu', 'chmaurer@iupui.edu', 'chmaurer@iupui.edu', 'chmaurer@iupui.edu', 'chmaurer@iupui.edu', 'chmaurer@iupui.edu', 'gbhatnag@umich.edu', 'dlhaines@umich.edu', 'chmaurer@iupui.edu', 'cwen@iupui.edu', 'cwen@iupui.edu', 'josrodri@iupui.edu', 'josrodri@iupui.edu', 'dlhaines@umich.edu', 'zqian@umich.edu', 'zqian@umich.edu', 'wagnermr@iupui.edu', 'chmaurer@iupui.edu', 'chmaurer@iupui.edu', 'gjthomas@iupui.edu', 'gjthomas@iupui.edu', 'gjthomas@iupui.edu', 'aaronz@vt.edu', 'jimeng@umich.edu', 'jimeng@umich.edu', 'jimeng@umich.edu', 'jimeng@umich.edu', 'wagnermr@iupui.edu', 'gjthomas@iupui.edu', 'rjlowe@iupui.edu', 'rjlowe@iupui.edu', 'aaronz@vt.edu', 'gjthomas@iupui.edu', 'zqian@umich.edu', 'josrodri@iupui.edu', 'jimeng@umich.edu', 'jimeng@umich.edu', 'jimeng@umich.edu', 'ian@caret.cam.ac.uk', 'ian@caret.cam.ac.uk', 'zqian@umich.edu', 'zqian@umich.edu', 'zqian@umich.edu', 'zqian@umich.edu', 'zqian@umich.edu', 'chmaurer@iupui.edu', 'mmmay@indiana.edu', 'chmaurer@iupui.edu', 'mmmay@indiana.edu', 'zqian@umich.edu', 'zqian@umich.edu', 'zqian@umich.edu', 'chmaurer@iupui.edu', 'mmmay@indiana.edu', 'mmmay@indiana.edu', 'chmaurer@iupui.edu', 'zqian@umich.edu', 'mmmay@indiana.edu', 'zqian@umich.edu', 'zqian@umich.edu', 'zqian@umich.edu', 'zqian@umich.edu', 'zqian@umich.edu', 'zqian@umich.edu', 'zqian@umich.edu', 'zqian@umich.edu', 'zqian@umich.edu', 'zqian@umich.edu', 'zqian@umich.edu', 'zqian@umich.edu', 'zqian@umich.edu', 'zqian@umich.edu', 'zqian@umich.edu', 'zqian@umich.edu', 'chmaurer@iupui.edu', 'chmaurer@iupui.edu', 'zqian@umich.edu', 'zqian@umich.edu', 'zqian@umich.edu', 'ian@caret.cam.ac.uk', 'zqian@umich.edu', 'zqian@umich.edu', 'josrodri@iupui.edu', 'chmaurer@iupui.edu', 'chmaurer@iupui.edu', 'zqian@umich.edu', 'zqian@umich.edu', 'zqian@umich.edu', 'chmaurer@iupui.edu', 'chmaurer@iupui.edu', 'ray@media.berkeley.edu', 'chmaurer@iupui.edu', 'gopal.ramasammycook@gmail.com', 'david.horwitz@uct.ac.za', 'david.horwitz@uct.ac.za', 'rjlowe@iupui.edu', 'ian@caret.cam.ac.uk', 'gjthomas@iupui.edu', 'gjthomas@iupui.edu', 'gjthomas@iupui.edu', 'zqian@umich.edu', 'zqian@umich.edu', 'zqian@umich.edu', 'zqian@umich.edu', 'zqian@umich.edu', 'chmaurer@iupui.edu', 'zqian@umich.edu', 'zqian@umich.edu', 'chmaurer@iupui.edu', 'chmaurer@iupui.edu', 'chmaurer@iupui.edu', 'chmaurer@iupui.edu', 'chmaurer@iupui.edu', 'chmaurer@iupui.edu', 'chmaurer@iupui.edu', 'chmaurer@iupui.edu', 'chmaurer@iupui.edu', 'chmaurer@iupui.edu', 'aaronz@vt.edu', 'gjthomas@iupui.edu', 'gjthomas@iupui.edu', 'gjthomas@iupui.edu', 'zqian@umich.edu', 'zqian@umich.edu', 'zqian@umich.edu', 'chmaurer@iupui.edu', 'zqian@umich.edu', 'zqian@umich.edu', 'zqian@umich.edu', 'zqian@umich.edu', 'chmaurer@iupui.edu', 'gopal.ramasammycook@gmail.com', 'david.horwitz@uct.ac.za', 'david.horwitz@uct.ac.za', 'chmaurer@iupui.edu', 'ian@caret.cam.ac.uk', 'zqian@umich.edu', 'a.fish@lancaster.ac.uk', 'a.fish@lancaster.ac.uk', 'a.fish@lancaster.ac.uk', 'a.fish@lancaster.ac.uk', 'jimeng@umich.edu', 'chmaurer@iupui.edu', 'wagnermr@iupui.edu', 'josrodri@iupui.edu', 'aaronz@vt.edu', 'aaronz@vt.edu', 'josrodri@iupui.edu', 'chmaurer@iupui.edu', 'chmaurer@iupui.edu', 'chmaurer@iupui.edu', 'gopal.ramasammycook@gmail.com', 'ostermmg@whitman.edu', 'ostermmg@whitman.edu', 'ian@caret.cam.ac.uk', 'jimeng@umich.edu', 'chmaurer@iupui.edu', 'zqian@umich.edu', 'zqian@umich.edu', 'chmaurer@iupui.edu', 'chmaurer@iupui.edu', 'chmaurer@iupui.edu', 'chmaurer@iupui.edu', 'david.horwitz@uct.ac.za', 'gopal.ramasammycook@gmail.com', 'chmaurer@iupui.edu', 'chmaurer@iupui.edu', 'gopal.ramasammycook@gmail.com', 'a.fish@lancaster.ac.uk', 'stuart.freeman@et.gatech.edu', 'stuart.freeman@et.gatech.edu', 'stuart.freeman@et.gatech.edu', 'sgithens@caret.cam.ac.uk', 'sgithens@caret.cam.ac.uk', 'aaronz@vt.edu', 'aaronz@vt.edu', 'aaronz@vt.edu', 'aaronz@vt.edu', 'aaronz@vt.edu', 'aaronz@vt.edu', 'ian@caret.cam.ac.uk', 'sgithens@caret.cam.ac.uk', 'sgithens@caret.cam.ac.uk', 'zqian@umich.edu', 'zqian@umich.edu', 'zqian@umich.edu', 'gjthomas@iupui.edu', 'gjthomas@iupui.edu', 'chmaurer@iupui.edu', 'chmaurer@iupui.edu', 'cwen@iupui.edu', 'chmaurer@iupui.edu', 'chmaurer@iupui.edu', 'cwen@iupui.edu', 'gjthomas@iupui.edu', 'gjthomas@iupui.edu', 'cwen@iupui.edu', 'chmaurer@iupui.edu', 'chmaurer@iupui.edu', 'chmaurer@iupui.edu', 'chmaurer@iupui.edu', 'david.horwitz@uct.ac.za', 'cwen@iupui.edu', 'cwen@iupui.edu', 'cwen@iupui.edu', 'chmaurer@iupui.edu', 'chmaurer@iupui.edu', 'gopal.ramasammycook@gmail.com', 'cwen@iupui.edu', 'cwen@iupui.edu', 'chmaurer@iupui.edu', 'chmaurer@iupui.edu', 'chmaurer@iupui.edu', 'jimeng@umich.edu', 'jimeng@umich.edu', 'jimeng@umich.edu', 'jimeng@umich.edu', 'jimeng@umich.edu', 'ian@caret.cam.ac.uk', 'ian@caret.cam.ac.uk', 'ian@caret.cam.ac.uk', 'jimeng@umich.edu', 'mmmay@indiana.edu', 'jimeng@umich.edu', 'mmmay@indiana.edu', 'mmmay@indiana.edu', 'wagnermr@iupui.edu', 'mmmay@indiana.edu', 'chmaurer@iupui.edu', 'chmaurer@iupui.edu', 'mmmay@indiana.edu', 'mmmay@indiana.edu', 'mmmay@indiana.edu', 'cwen@iupui.edu', 'chmaurer@iupui.edu', 'zqian@umich.edu', 'chmaurer@iupui.edu', 'cwen@iupui.edu', 'cwen@iupui.edu', 'chmaurer@iupui.edu', 'dlhaines@umich.edu', 'dlhaines@umich.edu', 'zqian@umich.edu', 'dlhaines@umich.edu', 'zqian@umich.edu', 'zqian@umich.edu', 'john.ellis@rsmart.com', 'chmaurer@iupui.edu', 'chmaurer@iupui.edu', 'chmaurer@iupui.edu', 'chmaurer@iupui.edu', 'chmaurer@iupui.edu', 'chmaurer@iupui.edu', 'chmaurer@iupui.edu', 'chmaurer@iupui.edu', 'chmaurer@iupui.edu', 'stuart.freeman@et.gatech.edu', 'stuart.freeman@et.gatech.edu', 'zqian@umich.edu', 'jleasia@umich.edu', 'chmaurer@iupui.edu', 'chmaurer@iupui.edu', 'chmaurer@iupui.edu', 'gopal.ramasammycook@gmail.com', 'dlhaines@umich.edu', 'sgithens@caret.cam.ac.uk', 'dlhaines@umich.edu', 'aaronz@vt.edu', 'dlhaines@umich.edu', 'dlhaines@umich.edu', 'cwen@iupui.edu', 'dlhaines@umich.edu', 'zqian@umich.edu', 'dlhaines@umich.edu', 'antranig@caret.cam.ac.uk', 'ian@caret.cam.ac.uk', 'zach.thomas@txstate.edu', 'dlhaines@umich.edu', 'aaronz@vt.edu', 'jimeng@umich.edu', 'jimeng@umich.edu', 'jimeng@umich.edu', 'jimeng@umich.edu', 'jimeng@umich.edu', 'jimeng@umich.edu', 'jimeng@umich.edu', 'jimeng@umich.edu', 'aaronz@vt.edu', 'ssmail@indiana.edu', 'zqian@umich.edu', 'aaronz@vt.edu', 'ian@caret.cam.ac.uk', 'ian@caret.cam.ac.uk', 'ian@caret.cam.ac.uk', 'ian@caret.cam.ac.uk', 'sgithens@caret.cam.ac.uk', 'ian@caret.cam.ac.uk', 'ian@caret.cam.ac.uk', 'ssmail@indiana.edu', 'zqian@umich.edu', 'stuart.freeman@et.gatech.edu', 'dlhaines@umich.edu', 'dlhaines@umich.edu', 'stuart.freeman@et.gatech.edu', 'chmaurer@iupui.edu', 'chmaurer@iupui.edu', 'cwen@iupui.edu', 'cwen@iupui.edu', 'cwen@iupui.edu', 'ian@caret.cam.ac.uk', 'dlhaines@umich.edu', 'zqian@umich.edu', 'zqian@umich.edu', 'zqian@umich.edu', 'gopal.ramasammycook@gmail.com', 'dlhaines@umich.edu', 'zqian@umich.edu', 'ian@caret.cam.ac.uk', 'aaronz@vt.edu', 'john.ellis@rsmart.com', 'john.ellis@rsmart.com', 'aaronz@vt.edu', 'cwen@iupui.edu', 'zqian@umich.edu', 'wagnermr@iupui.edu', 'aaronz@vt.edu', 'wagnermr@iupui.edu', 'gopal.ramasammycook@gmail.com', 'lance@indiana.edu', 'sgithens@caret.cam.ac.uk', 'ggolden@umich.edu', 'ggolden@umich.edu', 'cwen@iupui.edu', 'ggolden@umich.edu', 'ggolden@umich.edu', 'ggolden@umich.edu', 'ggolden@umich.edu', 'david.horwitz@uct.ac.za', 'antranig@caret.cam.ac.uk', 'ian@caret.cam.ac.uk', 'ian@caret.cam.ac.uk', 'ian@caret.cam.ac.uk', 'antranig@caret.cam.ac.uk', 'ian@caret.cam.ac.uk', 'ian@caret.cam.ac.uk', 'ian@caret.cam.ac.uk', 'david.horwitz@uct.ac.za', 'ian@caret.cam.ac.uk', 'aaronz@vt.edu', 'aaronz@vt.edu', 'rjlowe@iupui.edu', 'rjlowe@iupui.edu', 'rjlowe@iupui.edu', 'ian@caret.cam.ac.uk', 'gopal.ramasammycook@gmail.com', 'ian@caret.cam.ac.uk', 'david.horwitz@uct.ac.za', 'gopal.ramasammycook@gmail.com', 'antranig@caret.cam.ac.uk', 'arwhyte@umich.edu', 'arwhyte@umich.edu', 'arwhyte@umich.edu', 'ian@caret.cam.ac.uk', 'ian@caret.cam.ac.uk', 'ray@media.berkeley.edu', 'ktsao@stanford.edu', 'sgithens@caret.cam.ac.uk', 'zqian@umich.edu', 'cwen@iupui.edu', 'antranig@caret.cam.ac.uk', 'zqian@umich.edu', 'jimeng@umich.edu', 'jimeng@umich.edu', 'antranig@caret.cam.ac.uk', 'antranig@caret.cam.ac.uk', 'ssmail@indiana.edu', 'ian@caret.cam.ac.uk', 'ian@caret.cam.ac.uk', 'zqian@umich.edu', 'ian@caret.cam.ac.uk', 'aaronz@vt.edu', 'zqian@umich.edu', 'ian@caret.cam.ac.uk', 'aaronz@vt.edu', 'mmmay@indiana.edu', 'gopal.ramasammycook@gmail.com', 'aaronz@vt.edu', 'mmmay@indiana.edu', 'mmmay@indiana.edu', 'mmmay@indiana.edu', 'ian@caret.cam.ac.uk', 'mmmay@indiana.edu', 'jimeng@umich.edu', 'mmmay@indiana.edu', 'mmmay@indiana.edu', 'mmmay@indiana.edu', 'mmmay@indiana.edu', 'mmmay@indiana.edu', 'mmmay@indiana.edu', 'mmmay@indiana.edu', 'mmmay@indiana.edu', 'mmmay@indiana.edu', 'mmmay@indiana.edu', 'mmmay@indiana.edu', 'lance@indiana.edu', 'sgithens@caret.cam.ac.uk', 'aaronz@vt.edu', 'rjlowe@iupui.edu', 'rjlowe@iupui.edu', 'rjlowe@iupui.edu', 'rjlowe@iupui.edu', 'rjlowe@iupui.edu', 'rjlowe@iupui.edu', 'rjlowe@iupui.edu', 'rjlowe@iupui.edu', 'rjlowe@iupui.edu', 'rjlowe@iupui.edu', 'rjlowe@iupui.edu', 'rjlowe@iupui.edu', 'rjlowe@iupui.edu', 'rjlowe@iupui.edu', 'rjlowe@iupui.edu', 'rjlowe@iupui.edu', 'rjlowe@iupui.edu', 'rjlowe@iupui.edu', 'jimeng@umich.edu', 'jimeng@umich.edu', 'jimeng@umich.edu', 'jimeng@umich.edu', 'jimeng@umich.edu', 'jimeng@umich.edu', 'jimeng@umich.edu', 'jimeng@umich.edu', 'jimeng@umich.edu', 'jimeng@umich.edu', 'john.ellis@rsmart.com', 'mmmay@indiana.edu', 'mmmay@indiana.edu', 'mmmay@indiana.edu', 'mmmay@indiana.edu', 'ktsao@stanford.edu', 'jimeng@umich.edu', 'jimeng@umich.edu', 'jimeng@umich.edu', 'cwen@iupui.edu', 'mmmay@indiana.edu', 'zqian@umich.edu', 'mmmay@indiana.edu', 'mmmay@indiana.edu', 'mmmay@indiana.edu', 'mmmay@indiana.edu', 'mmmay@indiana.edu', 'mmmay@indiana.edu', 'mmmay@indiana.edu', 'mmmay@indiana.edu', 'mmmay@indiana.edu', 'thoppaymallika@fhda.edu', 'chmaurer@iupui.edu', 'mmmay@indiana.edu', 'mmmay@indiana.edu', 'mmmay@indiana.edu', 'mmmay@indiana.edu', 'mmmay@indiana.edu', 'mmmay@indiana.edu', 'mmmay@indiana.edu', 'mmmay@indiana.edu', 'chmaurer@iupui.edu', 'sgithens@caret.cam.ac.uk', 'chmaurer@iupui.edu', 'gsilver@umich.edu', 'zqian@umich.edu', 'chmaurer@iupui.edu', 'chmaurer@iupui.edu', 'chmaurer@iupui.edu', 'aaronz@vt.edu', 'aaronz@vt.edu', 'sgithens@caret.cam.ac.uk', 'david.horwitz@uct.ac.za', 'zqian@umich.edu', 'sgithens@caret.cam.ac.uk', 'ajpoland@iupui.edu', 'cwen@iupui.edu', 'gsilver@umich.edu', 'sgithens@caret.cam.ac.uk', 'jimeng@umich.edu', 'zqian@umich.edu', 'sgithens@caret.cam.ac.uk', 'sgithens@caret.cam.ac.uk', 'aaronz@vt.edu', 'aaronz@vt.edu', 'ian@caret.cam.ac.uk', 'ian@caret.cam.ac.uk', 'bkirschn@umich.edu', 'antranig@caret.cam.ac.uk', 'antranig@caret.cam.ac.uk', 'zqian@umich.edu', 'jimeng@umich.edu', 'jimeng@umich.edu', 'jimeng@umich.edu', 'gopal.ramasammycook@gmail.com', 'zqian@umich.edu', 'jimeng@umich.edu', 'jimeng@umich.edu', 'jimeng@umich.edu', 'jimeng@umich.edu', 'jimeng@umich.edu', 'jimeng@umich.edu', 'jimeng@umich.edu', 'jimeng@umich.edu', 'john.ellis@rsmart.com', 'ajpoland@iupui.edu', 'chmaurer@iupui.edu', 'antranig@caret.cam.ac.uk', 'antranig@caret.cam.ac.uk', 'rjlowe@iupui.edu', 'rjlowe@iupui.edu', 'rjlowe@iupui.edu', 'rjlowe@iupui.edu', 'rjlowe@iupui.edu', 'rjlowe@iupui.edu', 'rjlowe@iupui.edu', 'rjlowe@iupui.edu', 'rjlowe@iupui.edu', 'rjlowe@iupui.edu', 'rjlowe@iupui.edu', 'rjlowe@iupui.edu', 'zqian@umich.edu', 'antranig@caret.cam.ac.uk', 'zqian@umich.edu', 'rjlowe@iupui.edu', 'zqian@umich.edu', 'zqian@umich.edu', 'rjlowe@iupui.edu', 'gopal.ramasammycook@gmail.com', 'zqian@umich.edu', 'kimsooil@bu.edu', 'kimsooil@bu.edu', 'kimsooil@bu.edu', 'zqian@umich.edu', 'ostermmg@whitman.edu', 'jimeng@umich.edu', 'jimeng@umich.edu', 'jimeng@umich.edu', 'jimeng@umich.edu', 'jimeng@umich.edu', 'jimeng@umich.edu', 'zqian@umich.edu', 'jimeng@umich.edu', 'jimeng@umich.edu', 'jimeng@umich.edu', 'jimeng@umich.edu', 'ray@media.berkeley.edu', 'ostermmg@whitman.edu', 'josrodri@iupui.edu', 'ostermmg@whitman.edu', 'ostermmg@whitman.edu', 'ostermmg@whitman.edu', 'rjlowe@iupui.edu', 'antranig@caret.cam.ac.uk', 'antranig@caret.cam.ac.uk', 'josrodri@iupui.edu', 'zqian@umich.edu', 'rjlowe@iupui.edu', 'ian@caret.cam.ac.uk', 'antranig@caret.cam.ac.uk', 'zqian@umich.edu', 'wagnermr@iupui.edu', 'gsilver@umich.edu', 'gopal.ramasammycook@gmail.com', 'ajpoland@iupui.edu', 'wagnermr@iupui.edu', 'wagnermr@iupui.edu', 'aaronz@vt.edu', 'aaronz@vt.edu', 'ajpoland@iupui.edu', 'wagnermr@iupui.edu', 'wagnermr@iupui.edu', 'david.horwitz@uct.ac.za', 'ray@media.berkeley.edu', 'ostermmg@whitman.edu', 'ostermmg@whitman.edu', 'ostermmg@whitman.edu', 'ostermmg@whitman.edu', 'ostermmg@whitman.edu', 'ajpoland@iupui.edu', 'ostermmg@whitman.edu', 'cwen@iupui.edu', 'jimeng@umich.edu', 'josrodri@iupui.edu', 'zqian@umich.edu', 'zqian@umich.edu', 'zqian@umich.edu', 'aaronz@vt.edu', 'aaronz@vt.edu', 'wagnermr@iupui.edu', 'hu2@iupui.edu', 'josrodri@iupui.edu', 'wagnermr@iupui.edu', 'rjlowe@iupui.edu', 'zqian@umich.edu', 'zqian@umich.edu', 'gopal.ramasammycook@gmail.com', 'david.horwitz@uct.ac.za', 'david.horwitz@uct.ac.za', 'david.horwitz@uct.ac.za', 'david.horwitz@uct.ac.za', 'ian@caret.cam.ac.uk', 'ajpoland@iupui.edu', 'aaronz@vt.edu', 'aaronz@vt.edu', 'aaronz@vt.edu', 'jimeng@umich.edu', 'aaronz@vt.edu', 'aaronz@vt.edu', 'aaronz@vt.edu', 'rjlowe@iupui.edu', 'jimeng@umich.edu', 'sgithens@caret.cam.ac.uk', 'sgithens@caret.cam.ac.uk', 'aaronz@vt.edu', 'aaronz@vt.edu', 'aaronz@vt.edu', 'aaronz@vt.edu', 'aaronz@vt.edu', 'aaronz@vt.edu', 'aaronz@vt.edu', 'rjlowe@iupui.edu', 'rjlowe@iupui.edu', 'rjlowe@iupui.edu', 'ray@media.berkeley.edu', 'ajpoland@iupui.edu', 'rjlowe@iupui.edu', 'ajpoland@iupui.edu', 'rjlowe@iupui.edu', 'rjlowe@iupui.edu', 'rjlowe@iupui.edu', 'cwen@iupui.edu', 'bkirschn@umich.edu', 'gsilver@umich.edu', 'john.ellis@rsmart.com', 'aaronz@vt.edu', 'bkirschn@umich.edu', 'gopal.ramasammycook@gmail.com', 'chmaurer@iupui.edu', 'chmaurer@iupui.edu', 'chmaurer@iupui.edu', 'dlhaines@umich.edu', 'dlhaines@umich.edu', 'ajpoland@iupui.edu', 'aaronz@vt.edu', 'sgithens@caret.cam.ac.uk', 'aaronz@vt.edu', 'jimeng@umich.edu', 'ostermmg@whitman.edu', 'ostermmg@whitman.edu', 'jimeng@umich.edu', 'aaronz@vt.edu', 'aaronz@vt.edu', 'dlhaines@umich.edu', 'dlhaines@umich.edu', 'dlhaines@umich.edu', 'dlhaines@umich.edu', 'dlhaines@umich.edu', 'sgithens@caret.cam.ac.uk', 'dlhaines@umich.edu', 'dlhaines@umich.edu', 'gopal.ramasammycook@gmail.com', 'zqian@umich.edu', 'chmaurer@iupui.edu', 'chmaurer@iupui.edu', 'dlhaines@umich.edu', 'wagnermr@iupui.edu', 'aaronz@vt.edu', 'chmaurer@iupui.edu', 'chmaurer@iupui.edu', 'wagnermr@iupui.edu', 'ian@caret.cam.ac.uk', 'aaronz@vt.edu', 'aaronz@vt.edu', 'ian@caret.cam.ac.uk', 'aaronz@vt.edu', 'aaronz@vt.edu', 'aaronz@vt.edu', 'zqian@umich.edu', 'aaronz@vt.edu', 'aaronz@vt.edu', 'aaronz@vt.edu', 'kimsooil@bu.edu', 'kimsooil@bu.edu', 'aaronz@vt.edu', 'nuno@ufp.pt', 'arwhyte@umich.edu', 'dlhaines@umich.edu', 'dlhaines@umich.edu', 'ajpoland@iupui.edu', 'mmmay@indiana.edu', 'zqian@umich.edu', 'mmmay@indiana.edu', 'ajpoland@iupui.edu', 'rjlowe@iupui.edu', 'rjlowe@iupui.edu', 'aaronz@vt.edu', 'aaronz@vt.edu', 'aaronz@vt.edu', 'ajpoland@iupui.edu', 'wagnermr@iupui.edu', 'aaronz@vt.edu', 'aaronz@vt.edu', 'aaronz@vt.edu', 'aaronz@vt.edu', 'aaronz@vt.edu', 'aaronz@vt.edu', 'aaronz@vt.edu', 'aaronz@vt.edu', 'aaronz@vt.edu', 'sgithens@caret.cam.ac.uk', 'ian@caret.cam.ac.uk', 'mmmay@indiana.edu', 'mmmay@indiana.edu', 'mmmay@indiana.edu', 'josrodri@iupui.edu', 'josrodri@iupui.edu', 'mmmay@indiana.edu', 'mmmay@indiana.edu', 'mmmay@indiana.edu', 'mmmay@indiana.edu', 'dlhaines@umich.edu', 'dlhaines@umich.edu', 'josrodri@iupui.edu', 'zqian@umich.edu', 'arwhyte@umich.edu', 'rjlowe@iupui.edu', 'dlhaines@umich.edu', 'arwhyte@umich.edu', 'arwhyte@umich.edu', 'arwhyte@umich.edu', 'arwhyte@umich.edu', 'dlhaines@umich.edu', 'dlhaines@umich.edu', 'arwhyte@umich.edu', 'arwhyte@umich.edu', 'arwhyte@umich.edu', 'arwhyte@umich.edu', 'arwhyte@umich.edu', 'wagnermr@iupui.edu', 'zqian@umich.edu', 'zqian@umich.edu', 'mmmay@indiana.edu', 'josrodri@iupui.edu', 'gjthomas@iupui.edu', 'mmmay@indiana.edu', 'mmmay@indiana.edu', 'mmmay@indiana.edu', 'mmmay@indiana.edu', 'mmmay@indiana.edu', 'mmmay@indiana.edu', 'mmmay@indiana.edu', 'mmmay@indiana.edu', 'sgithens@caret.cam.ac.uk', 'mmmay@indiana.edu', 'mmmay@indiana.edu', 'mmmay@indiana.edu', 'ray@media.berkeley.edu', 'mmmay@indiana.edu', 'mmmay@indiana.edu', 'david.horwitz@uct.ac.za', 'antranig@caret.cam.ac.uk', 'ggolden@umich.edu', 'antranig@caret.cam.ac.uk', 'ggolden@umich.edu', 'mmmay@indiana.edu', 'mmmay@indiana.edu', 'david.horwitz@uct.ac.za', 'mmmay@indiana.edu', 'mmmay@indiana.edu', 'mmmay@indiana.edu', 'mmmay@indiana.edu', 'mmmay@indiana.edu', 'mmmay@indiana.edu', 'mmmay@indiana.edu', 'mmmay@indiana.edu', 'mmmay@indiana.edu', 'wagnermr@iupui.edu', 'rjlowe@iupui.edu', 'gopal.ramasammycook@gmail.com', 'david.horwitz@uct.ac.za', 'zqian@umich.edu', 'zqian@umich.edu', 'ian@caret.cam.ac.uk', 'ray@media.berkeley.edu', 'hu2@iupui.edu', 'mmmay@indiana.edu', 'bkirschn@umich.edu', 'mmmay@indiana.edu', 'mmmay@indiana.edu', 'mmmay@indiana.edu', 'mmmay@indiana.edu', 'mmmay@indiana.edu', 'zqian@umich.edu', 'zqian@umich.edu', 'zqian@umich.edu', 'ray@media.berkeley.edu', 'ray@media.berkeley.edu', 'zqian@umich.edu', 'zqian@umich.edu', 'csev@umich.edu', 'josrodri@iupui.edu', 'csev@umich.edu', 'zqian@umich.edu', 'bahollad@indiana.edu', 'aaronz@vt.edu', 'jzaremba@unicon.net', 'ajpoland@iupui.edu', 'aaronz@vt.edu', 'csev@umich.edu', 'rjlowe@iupui.edu', 'nuno@ufp.pt', 'nuno@ufp.pt', 'mmmay@indiana.edu', 'bkirschn@umich.edu', 'jimeng@umich.edu', 'bkirschn@umich.edu', 'bkirschn@umich.edu', 'zqian@umich.edu', 'zqian@umich.edu', 'aaronz@vt.edu', 'john.ellis@rsmart.com', 'zqian@umich.edu', 'jzaremba@unicon.net', 'jimeng@umich.edu', 'bkirschn@umich.edu', 'bkirschn@umich.edu', 'bkirschn@umich.edu', 'bkirschn@umich.edu', 'zqian@umich.edu', 'ktsao@stanford.edu', 'mmmay@indiana.edu', 'dlhaines@umich.edu', 'zqian@umich.edu', 'dlhaines@umich.edu', 'bkirschn@umich.edu', 'zqian@umich.edu', 'bkirschn@umich.edu', 'ray@media.berkeley.edu', 'ian@caret.cam.ac.uk', 'ian@caret.cam.ac.uk', 'zach.thomas@txstate.edu', 'ostermmg@whitman.edu', 'bkirschn@umich.edu', 'mmmay@indiana.edu', 'mmmay@indiana.edu', 'mmmay@indiana.edu', 'wagnermr@iupui.edu', 'mmmay@indiana.edu', 'mmmay@indiana.edu', 'mmmay@indiana.edu', 'zach.thomas@txstate.edu', 'wagnermr@iupui.edu', 'gsilver@umich.edu', 'gjthomas@iupui.edu', 'gjthomas@iupui.edu', 'hu2@iupui.edu', 'ajpoland@iupui.edu', 'wagnermr@iupui.edu', 'david.horwitz@uct.ac.za', 'zqian@umich.edu', 'jzaremba@unicon.net', 'cwen@iupui.edu', 'ktsao@stanford.edu', 'bahollad@indiana.edu', 'zach.thomas@txstate.edu', 'cwen@iupui.edu', 'ajpoland@iupui.edu', 'wagnermr@iupui.edu', 'wagnermr@iupui.edu', 'aaronz@vt.edu', 'sgithens@caret.cam.ac.uk', 'a.fish@lancaster.ac.uk', 'aaronz@vt.edu', 'david.horwitz@uct.ac.za', 'david.horwitz@uct.ac.za', 'zqian@umich.edu', 'jzaremba@unicon.net', 'zach.thomas@txstate.edu', 'jzaremba@unicon.net', 'dlhaines@umich.edu', 'dlhaines@umich.edu', 'dlhaines@umich.edu', 'dlhaines@umich.edu', 'dlhaines@umich.edu', 'dlhaines@umich.edu', 'dlhaines@umich.edu', 'zqian@umich.edu', 'chmaurer@iupui.edu', 'john.ellis@rsmart.com', 'ajpoland@iupui.edu', 'rjlowe@iupui.edu', 'chmaurer@iupui.edu', 'ajpoland@iupui.edu', 'rjlowe@iupui.edu', 'kimsooil@bu.edu', 'dlhaines@umich.edu', 'dlhaines@umich.edu', 'dlhaines@umich.edu', 'zqian@umich.edu', 'kimsooil@bu.edu', 'nuno@ufp.pt', 'kimsooil@bu.edu', 'ajpoland@iupui.edu', 'chmaurer@iupui.edu', 'ajpoland@iupui.edu', 'ajpoland@iupui.edu', 'ajpoland@iupui.edu', 'ajpoland@iupui.edu', 'ajpoland@iupui.edu', 'ajpoland@iupui.edu', 'ajpoland@iupui.edu', 'ajpoland@iupui.edu', 'ajpoland@iupui.edu', 'ajpoland@iupui.edu', 'ajpoland@iupui.edu', 'ajpoland@iupui.edu', 'ajpoland@iupui.edu', 'ajpoland@iupui.edu', 'ajpoland@iupui.edu', 'ajpoland@iupui.edu', 'ajpoland@iupui.edu', 'ajpoland@iupui.edu', 'ajpoland@iupui.edu', 'dlhaines@umich.edu', 'rjlowe@iupui.edu', 'rjlowe@iupui.edu', 'wagnermr@iupui.edu', 'david.horwitz@uct.ac.za', 'jleasia@umich.edu', 'david.horwitz@uct.ac.za', 'mmmay@indiana.edu', 'mmmay@indiana.edu', 'mmmay@indiana.edu', 'mmmay@indiana.edu', 'mmmay@indiana.edu', 'mmmay@indiana.edu', 'mmmay@indiana.edu', 'mmmay@indiana.edu', 'mmmay@indiana.edu', 'mmmay@indiana.edu', 'mmmay@indiana.edu', 'mmmay@indiana.edu', 'mmmay@indiana.edu', 'mmmay@indiana.edu', 'mmmay@indiana.edu', 'mmmay@indiana.edu', 'mmmay@indiana.edu', 'mmmay@indiana.edu', 'mmmay@indiana.edu', 'mmmay@indiana.edu', 'mmmay@indiana.edu', 'mmmay@indiana.edu', 'mmmay@indiana.edu', 'mmmay@indiana.edu', 'mmmay@indiana.edu', 'cwen@iupui.edu', 'mmmay@indiana.edu', 'mmmay@indiana.edu', 'mmmay@indiana.edu', 'kimsooil@bu.edu', 'mmmay@indiana.edu', 'zqian@umich.edu', 'mmmay@indiana.edu', 'mmmay@indiana.edu', 'mmmay@indiana.edu', 'mmmay@indiana.edu', 'mmmay@indiana.edu', 'mmmay@indiana.edu', 'mmmay@indiana.edu', 'mmmay@indiana.edu', 'mmmay@indiana.edu', 'mmmay@indiana.edu', 'kimsooil@bu.edu', 'aaronz@vt.edu', 'dlhaines@umich.edu', 'zqian@umich.edu', 'mmmay@indiana.edu', 'dlhaines@umich.edu', 'cwen@iupui.edu', 'kimsooil@bu.edu', 'kimsooil@bu.edu', 'kimsooil@bu.edu', 'hu2@iupui.edu', 'zqian@umich.edu', 'kimsooil@bu.edu', 'aaronz@vt.edu', 'aaronz@vt.edu', 'aaronz@vt.edu', 'rjlowe@iupui.edu', 'ajpoland@iupui.edu', 'rjlowe@iupui.edu', 'rjlowe@iupui.edu', 'hu2@iupui.edu', 'dlhaines@umich.edu', 'a.fish@lancaster.ac.uk', 'a.fish@lancaster.ac.uk', 'a.fish@lancaster.ac.uk', 'gsilver@umich.edu', 'mbreuker@loi.nl', 'mbreuker@loi.nl', 'mbreuker@loi.nl', 'mbreuker@loi.nl', 'mbreuker@loi.nl', 'mbreuker@loi.nl', 'ajpoland@iupui.edu', 'rjlowe@iupui.edu', 'rjlowe@iupui.edu', 'a.fish@lancaster.ac.uk', 'a.fish@lancaster.ac.uk', 'a.fish@lancaster.ac.uk', 'dlhaines@umich.edu', 'mbreuker@loi.nl', 'david.horwitz@uct.ac.za', 'zach.thomas@txstate.edu', 'jimeng@umich.edu', 'zqian@umich.edu', 'jzaremba@unicon.net', 'colin.clark@utoronto.ca', 'ray@media.berkeley.edu', 'ray@media.berkeley.edu', 'ray@media.berkeley.edu', 'ray@media.berkeley.edu', 'louis@media.berkeley.edu', 'dlhaines@umich.edu', 'dlhaines@umich.edu', 'dlhaines@umich.edu', 'dlhaines@umich.edu', 'ajpoland@iupui.edu', 'wagnermr@iupui.edu', 'zqian@umich.edu', 'ktsao@stanford.edu', 'ray@media.berkeley.edu', 'aaronz@vt.edu', 'zqian@umich.edu', 'aaronz@vt.edu', 'bahollad@indiana.edu', 'aaronz@vt.edu', 'zqian@umich.edu', 'ray@media.berkeley.edu', 'zqian@umich.edu', 'zqian@umich.edu', 'zqian@umich.edu', 'bahollad@indiana.edu', 'ray@media.berkeley.edu', 'zqian@umich.edu', 'zqian@umich.edu', 'louis@media.berkeley.edu', 'zqian@umich.edu', 'ray@media.berkeley.edu', 'jzaremba@unicon.net', 'louis@media.berkeley.edu', 'rjlowe@iupui.edu', 'ajpoland@iupui.edu', 'ray@media.berkeley.edu', 'ajpoland@iupui.edu', 'rjlowe@iupui.edu', 'ray@media.berkeley.edu', 'zqian@umich.edu', 'bkirschn@umich.edu', 'mbreuker@loi.nl', 'zqian@umich.edu', 'gsilver@umich.edu', 'louis@media.berkeley.edu', 'bkirschn@umich.edu', 'bkirschn@umich.edu', 'ajpoland@iupui.edu', 'rjlowe@iupui.edu', 'rjlowe@iupui.edu', 'zach.thomas@txstate.edu', 'ian@caret.cam.ac.uk', 'ian@caret.cam.ac.uk', 'ray@media.berkeley.edu', 'ktsao@stanford.edu', 'zqian@umich.edu', 'ian@caret.cam.ac.uk', 'chmaurer@iupui.edu', 'ian@caret.cam.ac.uk', 'gjthomas@iupui.edu', 'gjthomas@iupui.edu', 'aaronz@vt.edu', 'ian@caret.cam.ac.uk', 'aaronz@vt.edu', 'aaronz@vt.edu', 'zqian@umich.edu', 'aaronz@vt.edu', 'aaronz@vt.edu', 'mbreuker@loi.nl', 'ian@caret.cam.ac.uk', 'zqian@umich.edu', 'zqian@umich.edu', 'ian@caret.cam.ac.uk', 'ian@caret.cam.ac.uk', 'ian@caret.cam.ac.uk', 'ian@caret.cam.ac.uk', 'dlhaines@umich.edu', 'ian@caret.cam.ac.uk', 'ian@caret.cam.ac.uk', 'ian@caret.cam.ac.uk', 'zqian@umich.edu', 'ian@caret.cam.ac.uk', 'aaronz@vt.edu', 'zqian@umich.edu', 'zqian@umich.edu', 'zqian@umich.edu', 'chmaurer@iupui.edu', 'chmaurer@iupui.edu', 'zqian@umich.edu', 'gjthomas@iupui.edu', 'gsilver@umich.edu', 'ian@caret.cam.ac.uk', 'ajpoland@iupui.edu', 'aaronz@vt.edu', 'aaronz@vt.edu', 'aaronz@vt.edu', 'zach.thomas@txstate.edu', 'ajpoland@iupui.edu', 'zqian@umich.edu', 'zqian@umich.edu', 'zqian@umich.edu', 'gjthomas@iupui.edu', 'rjlowe@iupui.edu', 'rjlowe@iupui.edu', 'dlhaines@umich.edu', 'rjlowe@iupui.edu', 'rjlowe@iupui.edu', 'aaronz@vt.edu', 'aaronz@vt.edu', 'cwen@iupui.edu', 'ktsao@stanford.edu', 'aaronz@vt.edu', 'aaronz@vt.edu', 'gsilver@umich.edu', 'gsilver@umich.edu', 'zqian@umich.edu', 'jzaremba@unicon.net', 'aaronz@vt.edu', 'aaronz@vt.edu', 'dlhaines@umich.edu', 'dlhaines@umich.edu', 'dlhaines@umich.edu', 'ajpoland@iupui.edu', 'rjlowe@iupui.edu', 'rjlowe@iupui.edu', 'rjlowe@iupui.edu', 'dlhaines@umich.edu', 'aaronz@vt.edu', 'aaronz@vt.edu', 'aaronz@vt.edu', 'aaronz@vt.edu', 'aaronz@vt.edu', 'aaronz@vt.edu', 'ian@caret.cam.ac.uk', 'aaronz@vt.edu', 'aaronz@vt.edu', 'ktsao@stanford.edu', 'ian@caret.cam.ac.uk', 'zqian@umich.edu', 'zqian@umich.edu', 'zqian@umich.edu', 'zqian@umich.edu', 'zqian@umich.edu', 'aaronz@vt.edu', 'aaronz@vt.edu', 'jzaremba@unicon.net', 'dlhaines@umich.edu', 'chmaurer@iupui.edu', 'zach.thomas@txstate.edu', 'dlhaines@umich.edu']\n"
     ]
    }
   ],
   "source": [
    "import re\n",
    "\n",
    "def extract_email_addresses(file_path):\n",
    "    with open(file_path, 'r', encoding='utf-8') as file:\n",
    "        content = file.read()\n",
    "\n",
    "    # Use a regular expression to find email addresses\n",
    "    email_pattern = r'From \\s*([A-Za-z0-9._%+-]+@[A-Za-z0-9.-]+\\.[A-Z|a-z]{2,}\\b)'\n",
    "    email_addresses = re.findall(email_pattern, content)\n",
    "\n",
    "    return email_addresses\n",
    "\n",
    "# Function call to extract incoming email addresses\n",
    "email_list = extract_email_addresses('../data/email_exchanges_big.txt')\n",
    "print(email_list)\n"
   ]
  },
  {
   "cell_type": "code",
   "execution_count": null,
   "metadata": {},
   "outputs": [
    {
     "name": "stdout",
     "output_type": "stream",
     "text": [
      "[('the', 768), ('I', 655), ('to', 566), ('and', 562), ('of', 487), ('a', 462), ('in', 342), ('is', 338), ('you', 321), ('my', 310)]\n"
     ]
    }
   ],
   "source": [
    "# Find the most common words in the English language. Call the name of your function find_most_common_words, it will take two parameters - a string or a file and a positive integer, indicating the number of words. Your function will return an array of tuples in descending order. \n",
    "\n",
    "import re\n",
    "from collections import Counter\n",
    "\n",
    "def find_most_common_words(input_data, num_words):\n",
    "    # Read the input data (either a string or a file)\n",
    "    if isinstance(input_data, str):\n",
    "        with open(input_data, 'r', encoding='utf-8') as file:\n",
    "            text = file.read()\n",
    "    elif isinstance(input_data, str):\n",
    "        text = input_data\n",
    "    else:\n",
    "        raise ValueError(\"Invalid input data type. Provide either a string or a file.\")\n",
    "\n",
    "    # Tokenize the text into words using regular expression\n",
    "    words = re.findall(r'\\b\\w+\\b', text)\n",
    "\n",
    "    # Count the occurrences of each word\n",
    "    word_counts = Counter(words)\n",
    "\n",
    "    # Get the most common words and their frequencies\n",
    "    most_common_words = word_counts.most_common(num_words)\n",
    "\n",
    "    return most_common_words\n",
    "\n",
    "# Function call to find the most commond words\n",
    "result = find_most_common_words('../data/romeo_and_juliet.txt', 10)\n",
    "print(result)\n"
   ]
  },
  {
   "cell_type": "code",
   "execution_count": null,
   "metadata": {},
   "outputs": [
    {
     "name": "stdout",
     "output_type": "stream",
     "text": [
      "Most frequent words in Obama's speech: [('the', 120), ('and', 107), ('of', 81), ('to', 66), ('our', 58), ('we', 50), ('that', 49), ('a', 48), ('is', 36), ('us', 23)]\n",
      "Most frequent words in Michelle's speech: [('to', 84), ('and', 80), ('the', 78), ('of', 46), ('that', 43), ('a', 41), ('in', 36), ('I', 28), ('he', 28), ('s', 28)]\n",
      "Most frequent words in Donald's speech: [('the', 61), ('and', 53), ('will', 40), ('of', 38), ('to', 32), ('our', 30), ('we', 27), ('is', 20), ('We', 17), ('America', 17)]\n",
      "Most frequent words in Melina's speech: [('and', 73), ('to', 54), ('the', 48), ('is', 29), ('I', 28), ('for', 27), ('of', 25), ('a', 22), ('that', 19), ('you', 18)]\n"
     ]
    }
   ],
   "source": [
    "# Use the function, find_most_frequent_words to find: a) The ten most frequent words used in Obama's speech b) The ten most frequent words used in Michelle's speech c) The ten most frequent words used in Trump's speech d) The ten most frequent words used in Melina's speech\n",
    "\n",
    "import re\n",
    "from collections import Counter\n",
    "\n",
    "def find_most_frequent_words(file_path, num_words):\n",
    "    # Read file path\n",
    "    with open(file_path, 'r', encoding=\"utf-8\") as file:\n",
    "        text = file.read()\n",
    "    \n",
    "    # Tokenize the text into words\n",
    "    words = re.findall(r'\\b\\w+\\b', text)\n",
    "\n",
    "    # Count the frequency of each word\n",
    "    word_counts = Counter(words)\n",
    "\n",
    "    # Get most common words and their frequencies\n",
    "    most_frequent_words = word_counts.most_common(num_words)\n",
    "\n",
    "    return most_frequent_words\n",
    "\n",
    "# Function call to return most frequent words\n",
    "result = find_most_frequent_words('../data/obama_speech.txt', 10)\n",
    "print(\"Most frequent words in Obama's speech:\", result)\n",
    "result = find_most_frequent_words('../data/michelle_obama_speech.txt', 10)\n",
    "print(\"Most frequent words in Michelle's speech:\", result)\n",
    "result = find_most_frequent_words('../data/donald_speech.txt', 10)\n",
    "print(\"Most frequent words in Donald's speech:\", result)\n",
    "result = find_most_frequent_words('../data/melina_trump_speech.txt', 10)\n",
    "print(\"Most frequent words in Melina's speech:\", result)\n",
    "\n"
   ]
  },
  {
   "cell_type": "code",
   "execution_count": null,
   "metadata": {},
   "outputs": [
    {
     "name": "stderr",
     "output_type": "stream",
     "text": [
      "[nltk_data] Downloading package punkt to C:\\Users\\Gideon\n",
      "[nltk_data]     Markus\\AppData\\Roaming\\nltk_data...\n",
      "[nltk_data]   Package punkt is already up-to-date!\n"
     ]
    },
    {
     "name": "stdout",
     "output_type": "stream",
     "text": [
      "Similarity Score: 0.37554532990937045\n"
     ]
    }
   ],
   "source": [
    "# Write a python application that checks similarity between two texts. It takes a file or a string as a parameter and it will evaluate the similarity of the two texts. For instance check the similarity between the transcripts of Michelle's and Melina's speech. You may need a couple of functions, function to clean the text(clean_text), function to remove support words(remove_support_words) and finally to check the similarity(check_text_similarity). List of stop words are in the data directory\n",
    "\n",
    "import nltk\n",
    "from data.stop_words import stop_words as stop_words\n",
    "from nltk.tokenize import word_tokenize\n",
    "from nltk.stem import PorterStemmer\n",
    "from sklearn.feature_extraction.text import TfidfVectorizer\n",
    "from sklearn.metrics.pairwise import cosine_similarity\n",
    "import os\n",
    "\n",
    "# Set the current working directory\n",
    "os.chdir(r\"C:\\Users\\Gideon Markus\\Documents\\Data Science Projects\\arewa_ds\\ArewaDS-30days-of-Python\")\n",
    "\n",
    "nltk.download('punkt')\n",
    "# nltk.download('stopwords')\n",
    "\n",
    "def clean_text(text):\n",
    "    # Tokenize words\n",
    "    words = word_tokenize(text)\n",
    "\n",
    "    # Remove stop words and punctuation\n",
    "    filtered_words = [word.lower() for word in words if word.isalpha() and word.lower() not in stop_words]\n",
    "\n",
    "    # Stemming\n",
    "    stemmer = PorterStemmer()\n",
    "    stemmed_words = [stemmer.stem(word) for word in filtered_words]\n",
    "\n",
    "    return ' '.join(stemmed_words)\n",
    "\n",
    "def remove_support_words(text):\n",
    "    \n",
    "    # Tokenize words\n",
    "    words = word_tokenize(text)\n",
    "\n",
    "    # Remove stop words and punctuation\n",
    "    filtered_words = [word.lower() for word in words if word.isalpha() and word.lower() not in stop_words]\n",
    "\n",
    "    return ' '.join(filtered_words)\n",
    "\n",
    "def check_text_similarity(text1, text2):\n",
    "    # Clean and remove support words from texts\n",
    "    cleaned_text1 = remove_support_words(clean_text(text1))\n",
    "    cleaned_text2 = remove_support_words(clean_text(text2))\n",
    "\n",
    "    # Create TF-IDF vectors\n",
    "    vectorizer = TfidfVectorizer()\n",
    "    vectors = vectorizer.fit_transform([cleaned_text1, cleaned_text2])\n",
    "\n",
    "    # Calculate cosine similarity\n",
    "    similarity = cosine_similarity(vectors[0], vectors[1])[0][0]\n",
    "\n",
    "    return similarity\n",
    "\n",
    "# Read texts from files or provide strings\n",
    "with open('./data/michelle_obama_speech.txt', 'r', encoding='utf-8') as file:\n",
    "    michelle_speech = file.read()\n",
    "\n",
    "with open('./data/melina_trump_speech.txt', 'r', encoding='utf-8') as file:\n",
    "    melina_speech = file.read()\n",
    "\n",
    "similarity_score = check_text_similarity(michelle_speech, melina_speech)\n",
    "print(f\"Similarity Score: {similarity_score}\")\n"
   ]
  },
  {
   "cell_type": "code",
   "execution_count": 100,
   "metadata": {},
   "outputs": [
    {
     "name": "stdout",
     "output_type": "stream",
     "text": [
      "Most repeated words in Romeo and Juliet text are: [('the', 768), ('I', 655), ('to', 566), ('and', 562), ('of', 487), ('a', 462), ('in', 342), ('is', 338), ('you', 321), ('my', 310)]\n"
     ]
    }
   ],
   "source": [
    "# Find the 10 most repeated words in the romeo_and_juliet.txt\n",
    "import re\n",
    "from collections import Counter\n",
    "\n",
    "def find_most_repeated_words(file_path, num_words):\n",
    "\n",
    "    # Read file path\n",
    "    with open(file_path, 'r', encoding=\"utf-8\") as file:\n",
    "        text = file.read()\n",
    "    \n",
    "    # Tokenize the text into words\n",
    "    words = re.findall(r'\\b\\w+\\b', text)\n",
    "\n",
    "    # Count the frequency of each word\n",
    "    word_counts = Counter(words)\n",
    "\n",
    "    # Get most common words and their frequencies\n",
    "    most_repeated_words = word_counts.most_common(num_words)\n",
    "\n",
    "    return most_repeated_words\n",
    "\n",
    "# Function call to return most repeated words\n",
    "result = find_most_repeated_words('./data/romeo_and_juliet.txt', 10)\n",
    "print(\"Most repeated words in Romeo and Juliet text are:\", result)\n"
   ]
  },
  {
   "cell_type": "code",
   "execution_count": null,
   "metadata": {},
   "outputs": [],
   "source": [
    "# Read the hacker news csv file and find out: a) Count the number of lines containing python or Python b) Count the number lines containing JavaScript, javascript or Javascript c) Count the number lines containing Java and not JavaScript"
   ]
  },
  {
   "cell_type": "code",
   "execution_count": null,
   "metadata": {},
   "outputs": [],
   "source": []
  }
 ],
 "metadata": {
  "kernelspec": {
   "display_name": "Python 3",
   "language": "python",
   "name": "python3"
  },
  "language_info": {
   "codemirror_mode": {
    "name": "ipython",
    "version": 3
   },
   "file_extension": ".py",
   "mimetype": "text/x-python",
   "name": "python",
   "nbconvert_exporter": "python",
   "pygments_lexer": "ipython3",
   "version": "3.12.0"
  }
 },
 "nbformat": 4,
 "nbformat_minor": 2
}
