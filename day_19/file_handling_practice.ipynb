{
 "cells": [
  {
   "cell_type": "code",
   "execution_count": 34,
   "metadata": {},
   "outputs": [
    {
     "name": "stdout",
     "output_type": "stream",
     "text": [
      "Chief Justice Roberts, President Carter, President Clinton,President Bush, fellow Americans and people of the world â€“ thank you.\n",
      " We the citizens of America have now joined a great national effort to rebuild our county and restore its promise for all our people.\n",
      "Together we will determine the course of America for many, many years to come.\n",
      "Together we will face challenges. We will confront hardships. But we will get the job done.\n",
      "Every four years we gather on these steps to carry out the orderly and peaceful transfer of power.\n",
      "And we are grateful to President Obama and First Lady Michelle Obama for their gracious aid throughout this transition. They have been magnificent, thank you.\n",
      "Todayâ€™s ceremony, however, has very special meaning because today we are not merely transferring power from one administration to another â€“ but transferring it from Washington DC and giving it back to you the people.\n",
      "For too long a small group in our nationâ€™s capital has reaped the rewards of government while the people have borne the cost.\n",
      "Washington flourished but the people did not share in its wealth. Politicians prospered but the jobs left and the factories closed.The establishment protected itself but not the citizens of our country.\n",
      "Their victories have not been your victories. Their triumphs have not been your triumphs. While they have celebrated there has been little to celebrate for struggling families all across our land.\n",
      "That all changes starting right here and right now because this moment is your moment. It belongs to you. It belongs to everyone gathered here today and everyone watching all across America today.\n",
      "This is your day.This is your celebration.And this â€“ the United States of America â€“ is your country.What truly matters is not what party controls our government but that this government is controlled by the people.\n",
      "Today, January 20 2017, will be remembered as the day the people became the rulers of this nation again.The forgotten men and women of our country will be forgotten no longer. Everyone is listening to you now.\n",
      "You came by the tens of millions to become part of a historic movement â€“  the likes of which the world has never seen before.\n",
      "At the centre of this movement is a crucial conviction â€“ that a nation exists to serve its citizens.Americans want great schools for their children, safe neighbourhoods for their families and good jobs for themselves.\n",
      "These are just and reasonable demands.Mothers and children trapped in poverty in our inner cities, rusted out factories scattered like tombstones across the landscape of our nation.\n",
      "An education system flushed with cash, but which leaves our young and beautiful students deprived of all knowledge. And the crime and the gangs and the drugs which deprive people of so much unrealised potential.\n",
      "We are one nation, and their pain is our pain, their dreams are our dreams, we share one nation, one home and one glorious destiny.\n",
      "Today I take an oath of allegiance to all Americans. For many decades, weâ€™ve enriched foreign industry at the expense of American industry, subsidised the armies of other countries, while allowing the sad depletion of our own military.\n",
      "We've defended other nationsâ€™ borders while refusing to defend our own.And spent trillions and trillions of dollars overseas while Americaâ€™s infrastructure has fallen into disrepair and decay.\n",
      "We have made other countries rich while the wealth, strength and confidence of our country has dissipated over the horizon.\n",
      "One by one, shutters have closed on our factories without even a thought about the millions and millions of those who have been left behind.\n",
      "But that is the past and now we are looking only to the future.\n",
      "We assembled here today are issuing a new decree to be heard in every city, in every foreign capital, in every hall of power â€“ from this day on a new vision will govern our land â€“ from this day onwards it is only going to be America first â€“ America first!\n",
      "Every decision on trade, on taxes, on immigration, on foreign affairs will be made to benefit American workers and American families.\n",
      "Protection will lead to great prosperity and strength. I will fight for you with every bone in my body and I will never ever let you down.\n",
      "America will start winning again. America will start winning like never before.\n",
      "We will bring back our jobs, we will bring back our borders, we will bring back our wealth, we will bring back our dreams.\n",
      "We will bring new roads and high roads and bridges and tunnels and railways all across our wonderful nation.\n",
      "We will get our people off welfare and back to work â€“ rebuilding our country with American hands and American labour.\n",
      "We will follow two simple rules â€“ buy American and hire American.\n",
      "We see good will with the nations of the world but we do so with the understanding that it is the right of all nations to put their nations first.\n",
      "We will shine for everyone to follow.We will reinforce old alliances and form new ones, and untie the world against radical Islamic terrorism which we will eradicate from the face of the earth.\n",
      "At the bed rock of our politics will be an allegiance to the United States.And we will discover new allegiance to each other. There is no room for prejudice.\n",
      "The bible tells us how good and pleasant it is when godâ€™s people live together in unity.When America is united, America is totally unstoppable\n",
      "There is no fear, we are protected and will always be protected by the great men and women of our military and most importantly we will be protected by god.\n",
      "Finally, we must think big and dream even bigger. As Americans, we know we live as a nation only when it is striving.\n",
      "We will no longer accept politicians who are always complaining but never doing anything about it.The time for empty talk is over, now arrives the hour of action.\n",
      "Do not allow anyone to tell you it cannot be done. No challenge can match the heart and fight and spirit of America. We will not fail, our country will thrive and prosper again.\n",
      "We stand at the birth of a new millennium, ready to unlock the mysteries of space, to free the earth from the miseries of disease, to harvest the energies, industries and technologies of tomorrow.\n",
      "A new national pride will stir ourselves, lift our sights and heal our divisions. Itâ€™s time to remember that old wisdom our soldiers will never forget, that whether we are black or brown or white, we all bleed the same red blood of patriots.\n",
      "We all enjoy the same glorious freedoms and we all salute the same great American flag and whether a child is born in the urban sprawl of Detroit or the windswept plains of Nebraska, they look at the same night sky, and dream the same dreams, and they are infused with the breath by the same almighty creator.\n",
      "So to all Americans in every city near and far, small and large, from mountain to mountain, from ocean to ocean â€“ hear these words â€“ you will never be ignored again.\n",
      "Your voice, your hopes and dreams will define your American destiny.Your courage, goodness and love will forever guide us along the way.\n",
      "Together we will make America strong again, we will make America wealthy again, we will make America safe again and yes â€“ together we will make America great again.\n",
      "Thank you.\n",
      "God bless you.\n",
      "And god bless America.\n",
      "\n"
     ]
    }
   ],
   "source": [
    "import sys\n",
    "sys.path.append(r\"C:\\Users\\Gideon Markus\\Documents\\Data Science Projects\\arewa_ds\\ArewaDS-30days-of-Python\")\n",
    "# File path\n",
    "file_path = '../data/donald_speech.txt'\n",
    "with open(file_path, \"r\") as file:\n",
    "    txt = file.read()\n",
    "\n",
    "# Print text\n",
    "print(txt)"
   ]
  },
  {
   "cell_type": "code",
   "execution_count": 35,
   "metadata": {},
   "outputs": [
    {
     "name": "stdout",
     "output_type": "stream",
     "text": [
      "c:\\Users\\Gideon Markus\\Documents\\Data Science Projects\\arewa_ds\\ArewaDS-30days-of-Python\\data\\donald_speech.txt\n"
     ]
    }
   ],
   "source": [
    "import os\n",
    "\n",
    "# Get the current working directory\n",
    "cwd = os.getcwd()\n",
    "\n",
    "# Print the absolute path to the file\n",
    "print(os.path.abspath(file_path))\n",
    "\n"
   ]
  },
  {
   "cell_type": "code",
   "execution_count": null,
   "metadata": {},
   "outputs": [],
   "source": []
  },
  {
   "cell_type": "code",
   "execution_count": 16,
   "metadata": {},
   "outputs": [
    {
     "name": "stdout",
     "output_type": "stream",
     "text": [
      "c:\\Users\\Gideon Markus\\Documents\\Data Science Projects\\arewa_ds\\ArewaDS-30days-of-Python\\day_19\n"
     ]
    }
   ],
   "source": [
    "import os\n",
    "print(os.getcwd())"
   ]
  },
  {
   "cell_type": "code",
   "execution_count": null,
   "metadata": {},
   "outputs": [],
   "source": []
  }
 ],
 "metadata": {
  "kernelspec": {
   "display_name": "Python 3",
   "language": "python",
   "name": "python3"
  },
  "language_info": {
   "codemirror_mode": {
    "name": "ipython",
    "version": 3
   },
   "file_extension": ".py",
   "mimetype": "text/x-python",
   "name": "python",
   "nbconvert_exporter": "python",
   "pygments_lexer": "ipython3",
   "version": "3.12.0"
  }
 },
 "nbformat": 4,
 "nbformat_minor": 2
}
