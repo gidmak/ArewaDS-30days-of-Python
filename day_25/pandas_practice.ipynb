{
 "cells": [
  {
   "cell_type": "code",
   "execution_count": 2,
   "metadata": {},
   "outputs": [],
   "source": [
    "# Day 25 of 30 Days of Python\n",
    "\n",
    "import pandas as pd\n",
    "import numpy as np"
   ]
  },
  {
   "cell_type": "code",
   "execution_count": 4,
   "metadata": {},
   "outputs": [
    {
     "name": "stdout",
     "output_type": "stream",
     "text": [
      "0    91\n",
      "1    12\n",
      "2    31\n",
      "3    42\n",
      "4    57\n",
      "dtype: int64\n",
      "0    Orange\n",
      "1    Banana\n",
      "2     Mango\n",
      "dtype: object\n"
     ]
    }
   ],
   "source": [
    "\n",
    "# Creating a series\n",
    "nums = [91, 12, 31, 42, 57]\n",
    "fruits = ['Orange','Banana','Mango']\n",
    "s = pd.Series(nums)\n",
    "f = pd.Series(fruits)\n",
    "print(s)\n",
    "print(f)"
   ]
  },
  {
   "cell_type": "code",
   "execution_count": 7,
   "metadata": {},
   "outputs": [
    {
     "name": "stdout",
     "output_type": "stream",
     "text": [
      "0     5.000000\n",
      "1     6.666667\n",
      "2     8.333333\n",
      "3    10.000000\n",
      "4    11.666667\n",
      "5    13.333333\n",
      "6    15.000000\n",
      "7    16.666667\n",
      "8    18.333333\n",
      "9    20.000000\n",
      "dtype: float64\n"
     ]
    }
   ],
   "source": [
    "# Creating a Pandas Series Using Linspace\n",
    "s = pd.Series(np.linspace(5, 20, 10)) # linspace(starting, end, items)\n",
    "print(s)"
   ]
  },
  {
   "cell_type": "code",
   "execution_count": 11,
   "metadata": {},
   "outputs": [
    {
     "name": "stdout",
     "output_type": "stream",
     "text": [
      "      Gender     Height      Weight\n",
      "0       Male  73.847017  241.893563\n",
      "1       Male  68.781904  162.310473\n",
      "2       Male  74.110105  212.740856\n",
      "3       Male  71.730978  220.042470\n",
      "4       Male  69.881796  206.349801\n",
      "...      ...        ...         ...\n",
      "9995  Female  66.172652  136.777454\n",
      "9996  Female  67.067155  170.867906\n",
      "9997  Female  63.867992  128.475319\n",
      "9998  Female  69.034243  163.852461\n",
      "9999  Female  61.944246  113.649103\n",
      "\n",
      "[10000 rows x 3 columns]\n"
     ]
    }
   ],
   "source": [
    "# Reading CSV File Using Pandas\n",
    "import pandas as pd\n",
    "\n",
    "df = pd.read_csv('../data/weight-height.csv')\n",
    "print(df)"
   ]
  },
  {
   "cell_type": "code",
   "execution_count": 12,
   "metadata": {},
   "outputs": [
    {
     "data": {
      "text/plain": [
       "(10000, 3)"
      ]
     },
     "execution_count": 12,
     "metadata": {},
     "output_type": "execute_result"
    }
   ],
   "source": [
    "# Count the number of rows and columns\n",
    "df.shape"
   ]
  },
  {
   "cell_type": "code",
   "execution_count": null,
   "metadata": {},
   "outputs": [],
   "source": []
  }
 ],
 "metadata": {
  "kernelspec": {
   "display_name": "Python 3",
   "language": "python",
   "name": "python3"
  },
  "language_info": {
   "codemirror_mode": {
    "name": "ipython",
    "version": 3
   },
   "file_extension": ".py",
   "mimetype": "text/x-python",
   "name": "python",
   "nbconvert_exporter": "python",
   "pygments_lexer": "ipython3",
   "version": "3.12.0"
  }
 },
 "nbformat": 4,
 "nbformat_minor": 2
}
