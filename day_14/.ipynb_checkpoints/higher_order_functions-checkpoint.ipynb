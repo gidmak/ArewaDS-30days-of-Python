{
 "cells": [
  {
   "cell_type": "markdown",
   "id": "c0c8c8fc",
   "metadata": {},
   "source": [
    "## Day 14 of 30 Days of Python"
   ]
  },
  {
   "cell_type": "markdown",
   "id": "06fe8f5c",
   "metadata": {},
   "source": [
    "#### Exercise Level 1"
   ]
  },
  {
   "cell_type": "code",
   "execution_count": 38,
   "id": "398d78a8",
   "metadata": {},
   "outputs": [],
   "source": [
    "countries = ['Estonia', 'Finland', 'Sweden', 'Denmark', 'Norway', 'Iceland']\n",
    "names = ['Asabeneh', 'Lidiya', 'Ermias', 'Abraham']\n",
    "numbers = [1, 2, 3, 4, 5, 6, 7, 8, 9, 10]"
   ]
  },
  {
   "cell_type": "code",
   "execution_count": 36,
   "id": "5f93786d",
   "metadata": {},
   "outputs": [],
   "source": [
    "# Explain the difference between map, filter, and reduce.\n"
   ]
  },
  {
   "cell_type": "code",
   "execution_count": null,
   "id": "749035f5",
   "metadata": {},
   "outputs": [],
   "source": [
    "# Explain the difference between higher order function, closure and decorator\n"
   ]
  },
  {
   "cell_type": "code",
   "execution_count": 37,
   "id": "fed8b7c2",
   "metadata": {},
   "outputs": [],
   "source": [
    "# Define a call function before map, filter or reduce, see examples.\n"
   ]
  },
  {
   "cell_type": "code",
   "execution_count": 42,
   "id": "43da35ba",
   "metadata": {},
   "outputs": [
    {
     "name": "stdout",
     "output_type": "stream",
     "text": [
      "Estonia\n",
      "Finland\n",
      "Sweden\n",
      "Denmark\n",
      "Norway\n",
      "Iceland\n"
     ]
    }
   ],
   "source": [
    "# Use for loop to print each country in the countries list.\n",
    "for country in countries:\n",
    "    print(country)"
   ]
  },
  {
   "cell_type": "code",
   "execution_count": 41,
   "id": "5e05074f",
   "metadata": {},
   "outputs": [
    {
     "name": "stdout",
     "output_type": "stream",
     "text": [
      "Asabeneh\n",
      "Lidiya\n",
      "Ermias\n",
      "Abraham\n"
     ]
    }
   ],
   "source": [
    "# Use for to print each name in the names list.\n",
    "for name in names:\n",
    "    print(name)"
   ]
  },
  {
   "cell_type": "code",
   "execution_count": 43,
   "id": "995b0aab",
   "metadata": {},
   "outputs": [
    {
     "name": "stdout",
     "output_type": "stream",
     "text": [
      "1\n",
      "2\n",
      "3\n",
      "4\n",
      "5\n",
      "6\n",
      "7\n",
      "8\n",
      "9\n",
      "10\n"
     ]
    }
   ],
   "source": [
    "# Use for to print each number in the numbers list.\n",
    "for number in numbers:\n",
    "    print(number)"
   ]
  },
  {
   "cell_type": "markdown",
   "id": "ddbac285",
   "metadata": {},
   "source": [
    "#### Exercise Level 2"
   ]
  },
  {
   "cell_type": "code",
   "execution_count": 51,
   "id": "beec50e9",
   "metadata": {},
   "outputs": [
    {
     "name": "stdout",
     "output_type": "stream",
     "text": [
      "Original List:  ['Estonia', 'Finland', 'Sweden', 'Denmark', 'Norway', 'Iceland']\n",
      "Uppercase List:  ['ESTONIA', 'FINLAND', 'SWEDEN', 'DENMARK', 'NORWAY', 'ICELAND']\n"
     ]
    }
   ],
   "source": [
    "# Use map to create a new list by changing each country to uppercase in the countries list\n",
    "def make_uppercase(country):\n",
    "    return country.upper()\n",
    "\n",
    "result = map(make_uppercase, countries)\n",
    "print(\"Original List: \", countries)\n",
    "print(\"Uppercase List: \", list(result))"
   ]
  },
  {
   "cell_type": "code",
   "execution_count": 53,
   "id": "bdf50caf",
   "metadata": {},
   "outputs": [
    {
     "name": "stdout",
     "output_type": "stream",
     "text": [
      "[1, 4, 9, 16, 25, 36, 49, 64, 81, 100]\n"
     ]
    }
   ],
   "source": [
    "# Use map to create a new list by changing each number to its square in the numbers list\n",
    "def square_numbers(number):\n",
    "    return number ** 2\n",
    "\n",
    "result = map(square_numbers, numbers)\n",
    "print(list(result))"
   ]
  },
  {
   "cell_type": "code",
   "execution_count": 55,
   "id": "7cb92c75",
   "metadata": {},
   "outputs": [
    {
     "name": "stdout",
     "output_type": "stream",
     "text": [
      "['ASABENEH', 'LIDIYA', 'ERMIAS', 'ABRAHAM']\n"
     ]
    }
   ],
   "source": [
    "# Use map to change each name to uppercase in the names list\n",
    "def names_upper(name):\n",
    "    return name.upper()\n",
    "names_to_upper = map(names_upper, names)\n",
    "print(list(names_to_upper))"
   ]
  },
  {
   "cell_type": "code",
   "execution_count": 60,
   "id": "5e9f294d",
   "metadata": {},
   "outputs": [
    {
     "name": "stdout",
     "output_type": "stream",
     "text": [
      "['Finland', 'Iceland']\n"
     ]
    }
   ],
   "source": [
    "# Use filter to filter out countries containing 'land'.\n",
    "def countries_with_land(country):\n",
    "    c_land = []\n",
    "    if 'land' in country:\n",
    "        c_land.append(country)\n",
    "        return True\n",
    "    return c_land\n",
    "country_names = filter(countries_with_land, countries)\n",
    "print(list(country_names))"
   ]
  },
  {
   "cell_type": "code",
   "execution_count": 61,
   "id": "1687e3ae",
   "metadata": {},
   "outputs": [
    {
     "name": "stdout",
     "output_type": "stream",
     "text": [
      "['Sweden', 'Norway']\n"
     ]
    }
   ],
   "source": [
    "# Use filter to filter out countries having exactly six characters.\n",
    "def countries_with_six_char(country):\n",
    "    six_char_lst = []\n",
    "    if len(country) == 6:\n",
    "        six_char_lst.append(country)\n",
    "        return True\n",
    "    return six_char_lst\n",
    "\n",
    "six_char_result = filter(countries_with_six_char, countries)\n",
    "print(list(six_char_result))"
   ]
  },
  {
   "cell_type": "code",
   "execution_count": 63,
   "id": "121443e6",
   "metadata": {},
   "outputs": [
    {
     "name": "stdout",
     "output_type": "stream",
     "text": [
      "['Estonia', 'Finland', 'Sweden', 'Denmark', 'Norway', 'Iceland']\n"
     ]
    }
   ],
   "source": [
    "# Use filter to filter out countries containing six letters and more in the country list.\n",
    "def countries_with_six_or_more_char(country):\n",
    "    six_char_lst = []\n",
    "    if len(country) >= 6:\n",
    "        six_char_lst.append(country)\n",
    "        return True\n",
    "    return six_char_lst\n",
    "\n",
    "six_or_more_char_result = filter(countries_with_six_or_more_char, countries)\n",
    "print(list(six_or_more_char_result))"
   ]
  },
  {
   "cell_type": "code",
   "execution_count": 64,
   "id": "5cf6bfbe",
   "metadata": {},
   "outputs": [
    {
     "name": "stdout",
     "output_type": "stream",
     "text": [
      "['Estonia']\n"
     ]
    }
   ],
   "source": [
    "# Use filter to filter out countries starting with an 'E'\n",
    "def countries_startswith_e(country):\n",
    "    startswith_e_lst = []\n",
    "    if country.startswith(\"E\"):\n",
    "        startswith_e_lst.append(country)\n",
    "        return True\n",
    "    return startswith_e_lst\n",
    "\n",
    "c_startswith_e = filter(countries_startswith_e, countries)\n",
    "print(list(c_startswith_e))"
   ]
  },
  {
   "cell_type": "code",
   "execution_count": null,
   "id": "b66ed214",
   "metadata": {},
   "outputs": [],
   "source": [
    "# Chain two or more list iterators (eg. arr.map(callback).filter(callback).reduce(callback))\n"
   ]
  },
  {
   "cell_type": "code",
   "execution_count": null,
   "id": "2b6b815d",
   "metadata": {},
   "outputs": [],
   "source": [
    "# Declare a function called get_string_lists which takes a list as a parameter and then returns a list containing only \n",
    "# string items.\n"
   ]
  },
  {
   "cell_type": "code",
   "execution_count": null,
   "id": "5b895f7d",
   "metadata": {},
   "outputs": [],
   "source": [
    "# Use reduce to sum all the numbers in the numbers list.\n"
   ]
  },
  {
   "cell_type": "code",
   "execution_count": null,
   "id": "fdb1c95c",
   "metadata": {},
   "outputs": [],
   "source": [
    "# Use reduce to concatenate all the countries and to produce this sentence: Estonia, Finland, Sweden, Denmark, Norway, \n",
    "# and Iceland are north European countries"
   ]
  },
  {
   "cell_type": "code",
   "execution_count": null,
   "id": "22952d0a",
   "metadata": {},
   "outputs": [],
   "source": []
  },
  {
   "cell_type": "code",
   "execution_count": null,
   "id": "d99c76c8",
   "metadata": {},
   "outputs": [],
   "source": []
  }
 ],
 "metadata": {
  "kernelspec": {
   "display_name": "Python 3 (ipykernel)",
   "language": "python",
   "name": "python3"
  },
  "language_info": {
   "codemirror_mode": {
    "name": "ipython",
    "version": 3
   },
   "file_extension": ".py",
   "mimetype": "text/x-python",
   "name": "python",
   "nbconvert_exporter": "python",
   "pygments_lexer": "ipython3",
   "version": "3.9.13"
  }
 },
 "nbformat": 4,
 "nbformat_minor": 5
}
