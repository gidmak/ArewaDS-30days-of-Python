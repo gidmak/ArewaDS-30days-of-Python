{
 "cells": [
  {
   "cell_type": "markdown",
   "id": "e1b688fe",
   "metadata": {},
   "source": [
    "## Day 14 of 30 Days of Python"
   ]
  },
  {
   "cell_type": "markdown",
   "id": "c0b9a760",
   "metadata": {},
   "source": [
    "#### Exercise Level 1"
   ]
  },
  {
   "cell_type": "code",
   "execution_count": 38,
   "id": "d2617c30",
   "metadata": {},
   "outputs": [],
   "source": [
    "countries = ['Estonia', 'Finland', 'Sweden', 'Denmark', 'Norway', 'Iceland']\n",
    "names = ['Asabeneh', 'Lidiya', 'Ermias', 'Abraham']\n",
    "numbers = [1, 2, 3, 4, 5, 6, 7, 8, 9, 10]"
   ]
  },
  {
   "cell_type": "markdown",
   "id": "70d2d465",
   "metadata": {},
   "source": [
    "##### Explain the difference between map, filter, and reduce.\n",
    "map transforms each element in an iterable.\n",
    "\n",
    "filter selects elements from an iterable based on a condition.\n",
    "\n",
    "reduce aggregates elements in an iterable into a single result using a rolling computation."
   ]
  },
  {
   "cell_type": "markdown",
   "id": "9032a786",
   "metadata": {},
   "source": [
    "##### Explain the difference between higher order function, closure and decorator\n",
    "\n",
    "A higher-order function either takes functions as arguments or returns functions.\n",
    "\n",
    "A closure is a function object that \"closes over\" variables from its containing function's scope.\n",
    "\n",
    "A decorator is a way to extend or modify the behavior of functions without changing their code directly, often by wrapping them with additional functionality."
   ]
  },
  {
   "cell_type": "code",
   "execution_count": 42,
   "id": "6e343399",
   "metadata": {},
   "outputs": [
    {
     "name": "stdout",
     "output_type": "stream",
     "text": [
      "Estonia\n",
      "Finland\n",
      "Sweden\n",
      "Denmark\n",
      "Norway\n",
      "Iceland\n"
     ]
    }
   ],
   "source": [
    "# Use for loop to print each country in the countries list.\n",
    "for country in countries:\n",
    "    print(country)"
   ]
  },
  {
   "cell_type": "code",
   "execution_count": 41,
   "id": "431eb917",
   "metadata": {},
   "outputs": [
    {
     "name": "stdout",
     "output_type": "stream",
     "text": [
      "Asabeneh\n",
      "Lidiya\n",
      "Ermias\n",
      "Abraham\n"
     ]
    }
   ],
   "source": [
    "# Use for to print each name in the names list.\n",
    "for name in names:\n",
    "    print(name)"
   ]
  },
  {
   "cell_type": "code",
   "execution_count": 43,
   "id": "0f813e3b",
   "metadata": {},
   "outputs": [
    {
     "name": "stdout",
     "output_type": "stream",
     "text": [
      "1\n",
      "2\n",
      "3\n",
      "4\n",
      "5\n",
      "6\n",
      "7\n",
      "8\n",
      "9\n",
      "10\n"
     ]
    }
   ],
   "source": [
    "# Use for to print each number in the numbers list.\n",
    "for number in numbers:\n",
    "    print(number)"
   ]
  },
  {
   "cell_type": "markdown",
   "id": "08c2b441",
   "metadata": {},
   "source": [
    "#### Exercise Level 2"
   ]
  },
  {
   "cell_type": "code",
   "execution_count": 51,
   "id": "39b7e529",
   "metadata": {},
   "outputs": [
    {
     "name": "stdout",
     "output_type": "stream",
     "text": [
      "Original List:  ['Estonia', 'Finland', 'Sweden', 'Denmark', 'Norway', 'Iceland']\n",
      "Uppercase List:  ['ESTONIA', 'FINLAND', 'SWEDEN', 'DENMARK', 'NORWAY', 'ICELAND']\n"
     ]
    }
   ],
   "source": [
    "# Use map to create a new list by changing each country to uppercase in the countries list\n",
    "def make_uppercase(country):\n",
    "    return country.upper()\n",
    "\n",
    "result = map(make_uppercase, countries)\n",
    "print(\"Original List: \", countries)\n",
    "print(\"Uppercase List: \", list(result))"
   ]
  },
  {
   "cell_type": "code",
   "execution_count": 53,
   "id": "554fe979",
   "metadata": {},
   "outputs": [
    {
     "name": "stdout",
     "output_type": "stream",
     "text": [
      "[1, 4, 9, 16, 25, 36, 49, 64, 81, 100]\n"
     ]
    }
   ],
   "source": [
    "# Use map to create a new list by changing each number to its square in the numbers list\n",
    "def square_numbers(number):\n",
    "    return number ** 2\n",
    "\n",
    "result = map(square_numbers, numbers)\n",
    "print(list(result))"
   ]
  },
  {
   "cell_type": "code",
   "execution_count": 55,
   "id": "6a6ec0c2",
   "metadata": {},
   "outputs": [
    {
     "name": "stdout",
     "output_type": "stream",
     "text": [
      "['ASABENEH', 'LIDIYA', 'ERMIAS', 'ABRAHAM']\n"
     ]
    }
   ],
   "source": [
    "# Use map to change each name to uppercase in the names list\n",
    "def names_upper(name):\n",
    "    return name.upper()\n",
    "names_to_upper = map(names_upper, names)\n",
    "print(list(names_to_upper))"
   ]
  },
  {
   "cell_type": "code",
   "execution_count": 60,
   "id": "86ad9380",
   "metadata": {},
   "outputs": [
    {
     "name": "stdout",
     "output_type": "stream",
     "text": [
      "['Finland', 'Iceland']\n"
     ]
    }
   ],
   "source": [
    "# Use filter to filter out countries containing 'land'.\n",
    "def countries_with_land(country):\n",
    "    c_land = []\n",
    "    if 'land' in country:\n",
    "        c_land.append(country)\n",
    "        return True\n",
    "    return c_land\n",
    "country_names = filter(countries_with_land, countries)\n",
    "print(list(country_names))"
   ]
  },
  {
   "cell_type": "code",
   "execution_count": 61,
   "id": "1e4041cb",
   "metadata": {},
   "outputs": [
    {
     "name": "stdout",
     "output_type": "stream",
     "text": [
      "['Sweden', 'Norway']\n"
     ]
    }
   ],
   "source": [
    "# Use filter to filter out countries having exactly six characters.\n",
    "def countries_with_six_char(country):\n",
    "    six_char_lst = []\n",
    "    if len(country) == 6:\n",
    "        six_char_lst.append(country)\n",
    "        return True\n",
    "    return six_char_lst\n",
    "\n",
    "six_char_result = filter(countries_with_six_char, countries)\n",
    "print(list(six_char_result))"
   ]
  },
  {
   "cell_type": "code",
   "execution_count": 63,
   "id": "baead922",
   "metadata": {},
   "outputs": [
    {
     "name": "stdout",
     "output_type": "stream",
     "text": [
      "['Estonia', 'Finland', 'Sweden', 'Denmark', 'Norway', 'Iceland']\n"
     ]
    }
   ],
   "source": [
    "# Use filter to filter out countries containing six letters and more in the country list.\n",
    "def countries_with_six_or_more_char(country):\n",
    "    six_char_lst = []\n",
    "    if len(country) >= 6:\n",
    "        six_char_lst.append(country)\n",
    "        return True\n",
    "    return six_char_lst\n",
    "\n",
    "six_or_more_char_result = filter(countries_with_six_or_more_char, countries)\n",
    "print(list(six_or_more_char_result))"
   ]
  },
  {
   "cell_type": "code",
   "execution_count": 64,
   "id": "479106bb",
   "metadata": {},
   "outputs": [
    {
     "name": "stdout",
     "output_type": "stream",
     "text": [
      "['Estonia']\n"
     ]
    }
   ],
   "source": [
    "# Use filter to filter out countries starting with an 'E'\n",
    "def countries_startswith_e(country):\n",
    "    startswith_e_lst = []\n",
    "    if country.startswith(\"E\"):\n",
    "        startswith_e_lst.append(country)\n",
    "        return True\n",
    "    return startswith_e_lst\n",
    "\n",
    "c_startswith_e = filter(countries_startswith_e, countries)\n",
    "print(list(c_startswith_e))"
   ]
  },
  {
   "cell_type": "code",
   "execution_count": 73,
   "id": "649a5716",
   "metadata": {},
   "outputs": [
    {
     "name": "stdout",
     "output_type": "stream",
     "text": [
      "30\n"
     ]
    }
   ],
   "source": [
    "# Chain two or more list iterators (eg. arr.map(callback).filter(callback).reduce(callback))\n",
    "from functools import reduce\n",
    "\n",
    "arr = [1, 2, 3, 4, 5]\n",
    "\n",
    "# Chaining map, filter, and reduce\n",
    "result = reduce(\n",
    "    lambda acc, x: acc + x,\n",
    "    filter(lambda x: x % 2 == 0, map(lambda x: x * 2, arr))\n",
    ")\n",
    "\n",
    "print(result)"
   ]
  },
  {
   "cell_type": "code",
   "execution_count": 75,
   "id": "84600bc9",
   "metadata": {},
   "outputs": [
    {
     "name": "stdout",
     "output_type": "stream",
     "text": [
      "Original List: [1, 'apple', 3.14, 'banana', 'orange', 42, 'grape']\n",
      "String List: ['apple', 'banana', 'orange', 'grape']\n"
     ]
    }
   ],
   "source": [
    "# Declare a function called get_string_lists which takes a list as a parameter and then returns a list containing only \n",
    "# string items.\n",
    "def get_string_lists(input_list):\n",
    "    return [item for item in input_list if isinstance(item, str)]\n",
    "\n",
    "# Example usage:\n",
    "mixed_list = [1, 'apple', 3.14, 'banana', 'orange', 42, 'grape']\n",
    "string_list = get_string_lists(mixed_list)\n",
    "\n",
    "print(\"Original List:\", mixed_list)\n",
    "print(\"String List:\", string_list)"
   ]
  },
  {
   "cell_type": "code",
   "execution_count": 76,
   "id": "5d1a94a2",
   "metadata": {},
   "outputs": [
    {
     "name": "stdout",
     "output_type": "stream",
     "text": [
      "55\n"
     ]
    }
   ],
   "source": [
    "# Use reduce to sum all the numbers in the numbers list.\n",
    "def add_two_nums(x, y):\n",
    "    return int(x) + int(y)\n",
    "\n",
    "total = reduce(add_two_nums, numbers)\n",
    "print(total)"
   ]
  },
  {
   "cell_type": "code",
   "execution_count": 78,
   "id": "f525f1f1",
   "metadata": {},
   "outputs": [
    {
     "name": "stdout",
     "output_type": "stream",
     "text": [
      "Original list:  ['Estonia', 'Finland', 'Sweden', 'Denmark', 'Norway', 'Iceland']\n",
      "Concatenated list:  Estonia, Finland, Sweden, Denmark, Norway, Icela and Iceland are north European countries.\n"
     ]
    }
   ],
   "source": [
    "# Use reduce to concatenate all the countries and to produce this sentence: Estonia, Finland, Sweden, Denmark, Norway, \n",
    "# and Iceland are north European countries\n",
    "concatenated_countries = reduce(lambda x, y: x + ', ' + y, countries)\n",
    "\n",
    "# Creating the final sentence\n",
    "sentence = f\"{concatenated_countries[:-2]} and {countries[-1]} are north European countries.\"\n",
    "\n",
    "print(\"Original list: \", countries)\n",
    "print('Concatenated list: ',sentence)"
   ]
  },
  {
   "cell_type": "code",
   "execution_count": 134,
   "id": "6a1bfd39",
   "metadata": {},
   "outputs": [
    {
     "name": "stdout",
     "output_type": "stream",
     "text": [
      "Land Countries: ['Finland', 'Iceland', 'Ireland', 'Marshall Islands', 'Netherlands', 'New Zealand', 'Poland', 'Solomon Islands', 'Swaziland', 'Switzerland', 'Thailand']\n",
      "IA Countries: ['Albania', 'Algeria', 'Armenia', 'Australia', 'Austria', 'Bolivia', 'Bosnia and Herzegovina', 'Bulgaria', 'Cambodia', 'Croatia', 'Equatorial Guinea', 'Estonia', 'Ethiopia', 'Gambia, The', 'Georgia', 'India', 'Indonesia', 'Latvia', 'Liberia', 'Lithuania', 'Macedonia', 'Malaysia', 'Mauritania', 'Micronesia', 'Mongolia', 'Namibia', 'Nigeria', 'Romania', 'Russia', 'Saint Lucia', 'Saudi Arabia', 'Serbia and Montenegro', 'Slovakia', 'Slovenia', 'Somalia', 'Syria', 'Tanzania', 'Tunisia', 'Zambia']\n",
      "Island Countries: []\n",
      "Stan Countries:  ['Afghanistan', 'Kazakhstan', 'Kyrgyzstan', 'Pakistan', 'Tajikistan', 'Turkmenistan', 'Uzbekistan']\n"
     ]
    }
   ],
   "source": [
    "# Declare a function called categorize_countries that returns a list of countries with some common pattern \n",
    "# (you can find the countries list in this repository as countries.js(eg 'land', 'ia', 'island', 'stan')).\n",
    "\n",
    "import sys\n",
    "sys.path.append(r\"C:\\Users\\Gideon Markus\\Documents\\Data Science Projects\\arewa_ds\\ArewaDS-30days-of-Python\")\n",
    "\n",
    "from data.countries import countries_list \n",
    "\n",
    "def land(country):\n",
    "    return 'land' in country\n",
    "\n",
    "def ia(country):\n",
    "    return 'ia' in country\n",
    "\n",
    "def island(country):\n",
    "    return 'island' in country\n",
    "\n",
    "def stan(country):\n",
    "    return 'stan' in country\n",
    "\n",
    "def categorize_countries(pattern, country_list):\n",
    "    categorization_function = higher_order_function(pattern)\n",
    "    return [country for country in country_list if categorization_function(country)]\n",
    "\n",
    "def higher_order_function(pattern):\n",
    "    if pattern == 'land':\n",
    "        return land\n",
    "    elif pattern == 'ia':\n",
    "        return ia\n",
    "    elif pattern == 'island':\n",
    "        return island\n",
    "    elif pattern == 'stan':\n",
    "        return stan\n",
    "\n",
    "land_countries = categorize_countries(\"land\", countries_list)\n",
    "ia_countries = categorize_countries(\"ia\", countries_list)\n",
    "island_countries = categorize_countries(\"island\", countries_list)\n",
    "stan_countries = categorize_countries(\"stan\", countries_list)\n",
    "\n",
    "print(\"Land Countries:\", land_countries)\n",
    "print(\"IA Countries:\", ia_countries)\n",
    "print(\"Island Countries:\", island_countries)\n",
    "print(\"Stan Countries: \", stan_countries)"
   ]
  },
  {
   "cell_type": "code",
   "execution_count": 135,
   "id": "2b442402",
   "metadata": {},
   "outputs": [
    {
     "name": "stdout",
     "output_type": "stream",
     "text": [
      "{'A': 11, 'B': 17, 'C': 18, 'D': 4, 'E': 8, 'F': 3, 'G': 11, 'H': 3, 'I': 8, 'J': 3, 'K': 7, 'L': 9, 'M': 18, 'N': 9, 'O': 1, 'P': 9, 'Q': 1, 'R': 3, 'S': 25, 'T': 11, 'U': 7, 'V': 4, 'Y': 1, 'Z': 2}\n"
     ]
    }
   ],
   "source": [
    "# Create a function returning a dictionary, where keys stand for starting letters of countries and values are the number of country names starting with that letter.\n",
    "def count_countries_by_starting_letter(country_list):\n",
    "    letter_count = {}\n",
    "\n",
    "    for country in country_list:\n",
    "        # Use the first letter of each country\n",
    "        first_letter = country[0].upper()  # Convert to uppercase for case-insensitivity\n",
    "\n",
    "        # Update the count in the dictionary\n",
    "        letter_count[first_letter] = letter_count.get(first_letter, 0) + 1\n",
    "\n",
    "    return letter_count\n",
    "\n",
    "result = count_countries_by_starting_letter(countries_list)\n",
    "print(result)\n"
   ]
  },
  {
   "cell_type": "code",
   "execution_count": 137,
   "id": "cf9c1be3",
   "metadata": {},
   "outputs": [
    {
     "name": "stdout",
     "output_type": "stream",
     "text": [
      "['Afghanistan', 'Albania', 'Algeria', 'Andorra', 'Angola', 'Antigua and Barbuda', 'Argentina', 'Armenia', 'Australia', 'Austria']\n"
     ]
    }
   ],
   "source": [
    "# Declare a get_first_ten_countries function - it returns a list of first ten countries from the countries.js list in the data folder.\n",
    "def first_ten_countries():\n",
    "    return countries_list[:10]\n",
    "\n",
    "result = first_ten_countries()\n",
    "print(result)"
   ]
  },
  {
   "cell_type": "code",
   "execution_count": 138,
   "id": "0d943637",
   "metadata": {},
   "outputs": [
    {
     "name": "stdout",
     "output_type": "stream",
     "text": [
      "['United States', 'Uruguay', 'Uzbekistan', 'Vanuatu', 'Vatican City', 'Venezuela', 'Vietnam', 'Yemen', 'Zambia', 'Zimbabwe']\n"
     ]
    }
   ],
   "source": [
    "# Declare a get_last_ten_countries function that returns the last ten countries in the countries list.\n",
    "def first_ten_countries():\n",
    "    return countries_list[-10:]\n",
    "\n",
    "result = first_ten_countries()\n",
    "print(result)"
   ]
  },
  {
   "cell_type": "markdown",
   "id": "b19a42df",
   "metadata": {},
   "source": [
    "#### Exercise Level 3"
   ]
  },
  {
   "cell_type": "code",
   "execution_count": null,
   "id": "9fc1db4e",
   "metadata": {},
   "outputs": [],
   "source": []
  },
  {
   "cell_type": "code",
   "execution_count": 226,
   "id": "82774274",
   "metadata": {
    "scrolled": true
   },
   "outputs": [
    {
     "ename": "TypeError",
     "evalue": "'module' object is not iterable",
     "output_type": "error",
     "traceback": [
      "\u001b[1;31m---------------------------------------------------------------------------\u001b[0m",
      "\u001b[1;31mTypeError\u001b[0m                                 Traceback (most recent call last)",
      "\u001b[1;32m~\\AppData\\Local\\Temp\\ipykernel_8180\\3034501661.py\u001b[0m in \u001b[0;36m<module>\u001b[1;34m\u001b[0m\n\u001b[0;32m     15\u001b[0m \u001b[1;33m\u001b[0m\u001b[0m\n\u001b[0;32m     16\u001b[0m \u001b[1;31m# Get the ten most spoken languages\u001b[0m\u001b[1;33m\u001b[0m\u001b[1;33m\u001b[0m\u001b[0m\n\u001b[1;32m---> 17\u001b[1;33m \u001b[0mmost_spoken_languages\u001b[0m \u001b[1;33m=\u001b[0m \u001b[0mget_most_spoken_languages\u001b[0m\u001b[1;33m(\u001b[0m\u001b[0mcountries\u001b[0m\u001b[1;33m,\u001b[0m \u001b[0mnum_languages\u001b[0m\u001b[1;33m=\u001b[0m\u001b[1;36m10\u001b[0m\u001b[1;33m)\u001b[0m\u001b[1;33m\u001b[0m\u001b[1;33m\u001b[0m\u001b[0m\n\u001b[0m\u001b[0;32m     18\u001b[0m \u001b[1;33m\u001b[0m\u001b[0m\n\u001b[0;32m     19\u001b[0m \u001b[1;31m# Print the result\u001b[0m\u001b[1;33m\u001b[0m\u001b[1;33m\u001b[0m\u001b[0m\n",
      "\u001b[1;32m~\\AppData\\Local\\Temp\\ipykernel_8180\\3034501661.py\u001b[0m in \u001b[0;36mget_most_spoken_languages\u001b[1;34m(countries_list, num_languages)\u001b[0m\n\u001b[0;32m      7\u001b[0m     \u001b[0mlanguages_counter\u001b[0m \u001b[1;33m=\u001b[0m \u001b[0mCounter\u001b[0m\u001b[1;33m(\u001b[0m\u001b[1;33m)\u001b[0m\u001b[1;33m\u001b[0m\u001b[1;33m\u001b[0m\u001b[0m\n\u001b[0;32m      8\u001b[0m \u001b[1;33m\u001b[0m\u001b[0m\n\u001b[1;32m----> 9\u001b[1;33m     \u001b[1;32mfor\u001b[0m \u001b[0mcountry\u001b[0m \u001b[1;32min\u001b[0m \u001b[0mcountries_list\u001b[0m\u001b[1;33m:\u001b[0m\u001b[1;33m\u001b[0m\u001b[1;33m\u001b[0m\u001b[0m\n\u001b[0m\u001b[0;32m     10\u001b[0m         \u001b[0mlanguages\u001b[0m \u001b[1;33m=\u001b[0m \u001b[0mcountry\u001b[0m\u001b[1;33m.\u001b[0m\u001b[0mget\u001b[0m\u001b[1;33m(\u001b[0m\u001b[1;34m'languages'\u001b[0m\u001b[1;33m,\u001b[0m \u001b[1;33m[\u001b[0m\u001b[1;33m]\u001b[0m\u001b[1;33m)\u001b[0m\u001b[1;33m\u001b[0m\u001b[1;33m\u001b[0m\u001b[0m\n\u001b[0;32m     11\u001b[0m         \u001b[0mlanguages_counter\u001b[0m\u001b[1;33m.\u001b[0m\u001b[0mupdate\u001b[0m\u001b[1;33m(\u001b[0m\u001b[0mlanguages\u001b[0m\u001b[1;33m)\u001b[0m\u001b[1;33m\u001b[0m\u001b[1;33m\u001b[0m\u001b[0m\n",
      "\u001b[1;31mTypeError\u001b[0m: 'module' object is not iterable"
     ]
    }
   ],
   "source": [
    "from collections import Counter\n",
    "from operator import itemgetter\n",
    "\n",
    "import countries_data as countries \n",
    "\n",
    "def get_most_spoken_languages(countries_list, num_languages=10):\n",
    "    languages_counter = Counter()\n",
    "    \n",
    "    for country in countries_list:\n",
    "        languages = country.get('languages', [])\n",
    "        languages_counter.update(languages)\n",
    "\n",
    "    most_spoken_languages = languages_counter.most_common(num_languages)\n",
    "    return most_spoken_languages\n",
    "\n",
    "# Get the ten most spoken languages\n",
    "most_spoken_languages = get_most_spoken_languages(countries, num_languages=10)\n",
    "\n",
    "# Print the result\n",
    "print(\"Ten most spoken languages by location:\")\n",
    "for language, count in most_spoken_languages:\n",
    "    print(f\"{language}: {count} countries\")"
   ]
  },
  {
   "cell_type": "code",
   "execution_count": 228,
   "id": "3310cfbd",
   "metadata": {},
   "outputs": [
    {
     "ename": "ImportError",
     "evalue": "cannot import name 'countries_data' from 'countries_data' (C:\\Users\\Gideon Markus\\Documents\\Data Science Projects\\arewa_ds\\ArewaDS-30days-of-Python\\day_14\\countries_data.py)",
     "output_type": "error",
     "traceback": [
      "\u001b[1;31m---------------------------------------------------------------------------\u001b[0m",
      "\u001b[1;31mImportError\u001b[0m                               Traceback (most recent call last)",
      "\u001b[1;32m~\\AppData\\Local\\Temp\\ipykernel_8180\\1718569405.py\u001b[0m in \u001b[0;36m<module>\u001b[1;34m\u001b[0m\n\u001b[1;32m----> 1\u001b[1;33m \u001b[1;32mfrom\u001b[0m \u001b[0mcountries_data\u001b[0m \u001b[1;32mimport\u001b[0m \u001b[0mcountries_data\u001b[0m\u001b[1;33m\u001b[0m\u001b[1;33m\u001b[0m\u001b[0m\n\u001b[0m\u001b[0;32m      2\u001b[0m \u001b[1;32mdef\u001b[0m \u001b[0mmost_languages_spoken\u001b[0m\u001b[1;33m(\u001b[0m\u001b[1;33m)\u001b[0m\u001b[1;33m:\u001b[0m\u001b[1;33m\u001b[0m\u001b[1;33m\u001b[0m\u001b[0m\n\u001b[0;32m      3\u001b[0m     \u001b[0mlang\u001b[0m \u001b[1;33m=\u001b[0m \u001b[1;33m{\u001b[0m\u001b[1;33m}\u001b[0m\u001b[1;33m\u001b[0m\u001b[1;33m\u001b[0m\u001b[0m\n\u001b[0;32m      4\u001b[0m     \u001b[1;32mfor\u001b[0m \u001b[0mcountry\u001b[0m \u001b[1;32min\u001b[0m \u001b[0mcountries_data\u001b[0m\u001b[1;33m:\u001b[0m\u001b[1;33m\u001b[0m\u001b[1;33m\u001b[0m\u001b[0m\n\u001b[0;32m      5\u001b[0m         \u001b[1;32mfor\u001b[0m \u001b[0mlanguage\u001b[0m \u001b[1;32min\u001b[0m \u001b[0mcountry\u001b[0m\u001b[1;33m[\u001b[0m\u001b[1;34m'languages'\u001b[0m\u001b[1;33m]\u001b[0m\u001b[1;33m:\u001b[0m\u001b[1;33m\u001b[0m\u001b[1;33m\u001b[0m\u001b[0m\n",
      "\u001b[1;31mImportError\u001b[0m: cannot import name 'countries_data' from 'countries_data' (C:\\Users\\Gideon Markus\\Documents\\Data Science Projects\\arewa_ds\\ArewaDS-30days-of-Python\\day_14\\countries_data.py)"
     ]
    }
   ],
   "source": [
    "from countries_data import countries_data\n",
    "def most_languages_spoken():\n",
    "    lang = {}\n",
    "    for country in countries_data:\n",
    "        for language in country['languages']:\n",
    "            lang[language] = lang.get(language, 0) + 1\n",
    "    sorted_lang = sorted(lang.items(), key=lambda x: x[1], reverse=True)[:10]\n",
    "    return sorted_lang\n",
    "print(most_languages_spoken())"
   ]
  },
  {
   "cell_type": "code",
   "execution_count": null,
   "id": "57b0c704",
   "metadata": {},
   "outputs": [],
   "source": []
  },
  {
   "cell_type": "code",
   "execution_count": null,
   "id": "d854be60",
   "metadata": {},
   "outputs": [],
   "source": []
  },
  {
   "cell_type": "code",
   "execution_count": null,
   "id": "dcaff485",
   "metadata": {},
   "outputs": [],
   "source": []
  }
 ],
 "metadata": {
  "kernelspec": {
   "display_name": "Python 3 (ipykernel)",
   "language": "python",
   "name": "python3"
  },
  "language_info": {
   "codemirror_mode": {
    "name": "ipython",
    "version": 3
   },
   "file_extension": ".py",
   "mimetype": "text/x-python",
   "name": "python",
   "nbconvert_exporter": "python",
   "pygments_lexer": "ipython3",
   "version": "3.9.13"
  }
 },
 "nbformat": 4,
 "nbformat_minor": 5
}
