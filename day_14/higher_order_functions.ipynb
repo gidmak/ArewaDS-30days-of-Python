{
 "cells": [
  {
   "cell_type": "markdown",
   "id": "81816e1c",
   "metadata": {},
   "source": [
    "## Day 14 of 30 Days of Python"
   ]
  },
  {
   "cell_type": "markdown",
   "id": "9c21b552",
   "metadata": {},
   "source": [
    "#### Exercise Level 1"
   ]
  },
  {
   "cell_type": "code",
   "execution_count": 38,
   "id": "3b29c425",
   "metadata": {},
   "outputs": [],
   "source": [
    "countries = ['Estonia', 'Finland', 'Sweden', 'Denmark', 'Norway', 'Iceland']\n",
    "names = ['Asabeneh', 'Lidiya', 'Ermias', 'Abraham']\n",
    "numbers = [1, 2, 3, 4, 5, 6, 7, 8, 9, 10]"
   ]
  },
  {
   "cell_type": "markdown",
   "id": "256c46a5",
   "metadata": {},
   "source": [
    "##### Explain the difference between map, filter, and reduce.\n",
    "map transforms each element in an iterable.\n",
    "\n",
    "filter selects elements from an iterable based on a condition.\n",
    "\n",
    "reduce aggregates elements in an iterable into a single result using a rolling computation."
   ]
  },
  {
   "cell_type": "markdown",
   "id": "0f789d5e",
   "metadata": {},
   "source": [
    "##### Explain the difference between higher order function, closure and decorator\n",
    "\n",
    "A higher-order function either takes functions as arguments or returns functions.\n",
    "\n",
    "A closure is a function object that \"closes over\" variables from its containing function's scope.\n",
    "\n",
    "A decorator is a way to extend or modify the behavior of functions without changing their code directly, often by wrapping them with additional functionality."
   ]
  },
  {
   "cell_type": "code",
   "execution_count": 42,
   "id": "dac260ac",
   "metadata": {},
   "outputs": [
    {
     "name": "stdout",
     "output_type": "stream",
     "text": [
      "Estonia\n",
      "Finland\n",
      "Sweden\n",
      "Denmark\n",
      "Norway\n",
      "Iceland\n"
     ]
    }
   ],
   "source": [
    "# Use for loop to print each country in the countries list.\n",
    "for country in countries:\n",
    "    print(country)"
   ]
  },
  {
   "cell_type": "code",
   "execution_count": 41,
   "id": "c72d9dd3",
   "metadata": {},
   "outputs": [
    {
     "name": "stdout",
     "output_type": "stream",
     "text": [
      "Asabeneh\n",
      "Lidiya\n",
      "Ermias\n",
      "Abraham\n"
     ]
    }
   ],
   "source": [
    "# Use for to print each name in the names list.\n",
    "for name in names:\n",
    "    print(name)"
   ]
  },
  {
   "cell_type": "code",
   "execution_count": 43,
   "id": "97cd52ba",
   "metadata": {},
   "outputs": [
    {
     "name": "stdout",
     "output_type": "stream",
     "text": [
      "1\n",
      "2\n",
      "3\n",
      "4\n",
      "5\n",
      "6\n",
      "7\n",
      "8\n",
      "9\n",
      "10\n"
     ]
    }
   ],
   "source": [
    "# Use for to print each number in the numbers list.\n",
    "for number in numbers:\n",
    "    print(number)"
   ]
  },
  {
   "cell_type": "markdown",
   "id": "af9790d8",
   "metadata": {},
   "source": [
    "#### Exercise Level 2"
   ]
  },
  {
   "cell_type": "code",
   "execution_count": 51,
   "id": "66769866",
   "metadata": {},
   "outputs": [
    {
     "name": "stdout",
     "output_type": "stream",
     "text": [
      "Original List:  ['Estonia', 'Finland', 'Sweden', 'Denmark', 'Norway', 'Iceland']\n",
      "Uppercase List:  ['ESTONIA', 'FINLAND', 'SWEDEN', 'DENMARK', 'NORWAY', 'ICELAND']\n"
     ]
    }
   ],
   "source": [
    "# Use map to create a new list by changing each country to uppercase in the countries list\n",
    "def make_uppercase(country):\n",
    "    return country.upper()\n",
    "\n",
    "result = map(make_uppercase, countries)\n",
    "print(\"Original List: \", countries)\n",
    "print(\"Uppercase List: \", list(result))"
   ]
  },
  {
   "cell_type": "code",
   "execution_count": 53,
   "id": "c17300f8",
   "metadata": {},
   "outputs": [
    {
     "name": "stdout",
     "output_type": "stream",
     "text": [
      "[1, 4, 9, 16, 25, 36, 49, 64, 81, 100]\n"
     ]
    }
   ],
   "source": [
    "# Use map to create a new list by changing each number to its square in the numbers list\n",
    "def square_numbers(number):\n",
    "    return number ** 2\n",
    "\n",
    "result = map(square_numbers, numbers)\n",
    "print(list(result))"
   ]
  },
  {
   "cell_type": "code",
   "execution_count": 55,
   "id": "67a877b3",
   "metadata": {},
   "outputs": [
    {
     "name": "stdout",
     "output_type": "stream",
     "text": [
      "['ASABENEH', 'LIDIYA', 'ERMIAS', 'ABRAHAM']\n"
     ]
    }
   ],
   "source": [
    "# Use map to change each name to uppercase in the names list\n",
    "def names_upper(name):\n",
    "    return name.upper()\n",
    "names_to_upper = map(names_upper, names)\n",
    "print(list(names_to_upper))"
   ]
  },
  {
   "cell_type": "code",
   "execution_count": 60,
   "id": "e724936c",
   "metadata": {},
   "outputs": [
    {
     "name": "stdout",
     "output_type": "stream",
     "text": [
      "['Finland', 'Iceland']\n"
     ]
    }
   ],
   "source": [
    "# Use filter to filter out countries containing 'land'.\n",
    "def countries_with_land(country):\n",
    "    c_land = []\n",
    "    if 'land' in country:\n",
    "        c_land.append(country)\n",
    "        return True\n",
    "    return c_land\n",
    "country_names = filter(countries_with_land, countries)\n",
    "print(list(country_names))"
   ]
  },
  {
   "cell_type": "code",
   "execution_count": 61,
   "id": "4b4360e0",
   "metadata": {},
   "outputs": [
    {
     "name": "stdout",
     "output_type": "stream",
     "text": [
      "['Sweden', 'Norway']\n"
     ]
    }
   ],
   "source": [
    "# Use filter to filter out countries having exactly six characters.\n",
    "def countries_with_six_char(country):\n",
    "    six_char_lst = []\n",
    "    if len(country) == 6:\n",
    "        six_char_lst.append(country)\n",
    "        return True\n",
    "    return six_char_lst\n",
    "\n",
    "six_char_result = filter(countries_with_six_char, countries)\n",
    "print(list(six_char_result))"
   ]
  },
  {
   "cell_type": "code",
   "execution_count": 63,
   "id": "68df65c2",
   "metadata": {},
   "outputs": [
    {
     "name": "stdout",
     "output_type": "stream",
     "text": [
      "['Estonia', 'Finland', 'Sweden', 'Denmark', 'Norway', 'Iceland']\n"
     ]
    }
   ],
   "source": [
    "# Use filter to filter out countries containing six letters and more in the country list.\n",
    "def countries_with_six_or_more_char(country):\n",
    "    six_char_lst = []\n",
    "    if len(country) >= 6:\n",
    "        six_char_lst.append(country)\n",
    "        return True\n",
    "    return six_char_lst\n",
    "\n",
    "six_or_more_char_result = filter(countries_with_six_or_more_char, countries)\n",
    "print(list(six_or_more_char_result))"
   ]
  },
  {
   "cell_type": "code",
   "execution_count": 64,
   "id": "d16025de",
   "metadata": {},
   "outputs": [
    {
     "name": "stdout",
     "output_type": "stream",
     "text": [
      "['Estonia']\n"
     ]
    }
   ],
   "source": [
    "# Use filter to filter out countries starting with an 'E'\n",
    "def countries_startswith_e(country):\n",
    "    startswith_e_lst = []\n",
    "    if country.startswith(\"E\"):\n",
    "        startswith_e_lst.append(country)\n",
    "        return True\n",
    "    return startswith_e_lst\n",
    "\n",
    "c_startswith_e = filter(countries_startswith_e, countries)\n",
    "print(list(c_startswith_e))"
   ]
  },
  {
   "cell_type": "code",
   "execution_count": 73,
   "id": "4e3caab6",
   "metadata": {},
   "outputs": [
    {
     "name": "stdout",
     "output_type": "stream",
     "text": [
      "30\n"
     ]
    }
   ],
   "source": [
    "# Chain two or more list iterators (eg. arr.map(callback).filter(callback).reduce(callback))\n",
    "from functools import reduce\n",
    "\n",
    "arr = [1, 2, 3, 4, 5]\n",
    "\n",
    "# Chaining map, filter, and reduce\n",
    "result = reduce(\n",
    "    lambda acc, x: acc + x,\n",
    "    filter(lambda x: x % 2 == 0, map(lambda x: x * 2, arr))\n",
    ")\n",
    "\n",
    "print(result)"
   ]
  },
  {
   "cell_type": "code",
   "execution_count": 75,
   "id": "0bb62ab9",
   "metadata": {},
   "outputs": [
    {
     "name": "stdout",
     "output_type": "stream",
     "text": [
      "Original List: [1, 'apple', 3.14, 'banana', 'orange', 42, 'grape']\n",
      "String List: ['apple', 'banana', 'orange', 'grape']\n"
     ]
    }
   ],
   "source": [
    "# Declare a function called get_string_lists which takes a list as a parameter and then returns a list containing only \n",
    "# string items.\n",
    "def get_string_lists(input_list):\n",
    "    return [item for item in input_list if isinstance(item, str)]\n",
    "\n",
    "# Example usage:\n",
    "mixed_list = [1, 'apple', 3.14, 'banana', 'orange', 42, 'grape']\n",
    "string_list = get_string_lists(mixed_list)\n",
    "\n",
    "print(\"Original List:\", mixed_list)\n",
    "print(\"String List:\", string_list)"
   ]
  },
  {
   "cell_type": "code",
   "execution_count": 76,
   "id": "c10a2544",
   "metadata": {},
   "outputs": [
    {
     "name": "stdout",
     "output_type": "stream",
     "text": [
      "55\n"
     ]
    }
   ],
   "source": [
    "# Use reduce to sum all the numbers in the numbers list.\n",
    "def add_two_nums(x, y):\n",
    "    return int(x) + int(y)\n",
    "\n",
    "total = reduce(add_two_nums, numbers)\n",
    "print(total)"
   ]
  },
  {
   "cell_type": "code",
   "execution_count": 77,
   "id": "894d03b2",
   "metadata": {},
   "outputs": [
    {
     "name": "stdout",
     "output_type": "stream",
     "text": [
      "Estonia, Finland, Sweden, Denmark, Norway, Icela and Iceland are north European countries.\n"
     ]
    }
   ],
   "source": [
    "# Use reduce to concatenate all the countries and to produce this sentence: Estonia, Finland, Sweden, Denmark, Norway, \n",
    "# and Iceland are north European countries\n",
    "concatenated_countries = reduce(lambda x, y: x + ', ' + y, countries)\n",
    "\n",
    "# Creating the final sentence\n",
    "sentence = f\"{concatenated_countries[:-2]} and {countries[-1]} are north European countries.\"\n",
    "\n",
    "print(\"Original list: \", countries)\n",
    "print('sentence)"
   ]
  },
  {
   "cell_type": "code",
   "execution_count": null,
   "id": "9ed9da8c",
   "metadata": {},
   "outputs": [],
   "source": []
  },
  {
   "cell_type": "code",
   "execution_count": null,
   "id": "386c698a",
   "metadata": {},
   "outputs": [],
   "source": []
  }
 ],
 "metadata": {
  "kernelspec": {
   "display_name": "Python 3 (ipykernel)",
   "language": "python",
   "name": "python3"
  },
  "language_info": {
   "codemirror_mode": {
    "name": "ipython",
    "version": 3
   },
   "file_extension": ".py",
   "mimetype": "text/x-python",
   "name": "python",
   "nbconvert_exporter": "python",
   "pygments_lexer": "ipython3",
   "version": "3.9.13"
  }
 },
 "nbformat": 4,
 "nbformat_minor": 5
}
